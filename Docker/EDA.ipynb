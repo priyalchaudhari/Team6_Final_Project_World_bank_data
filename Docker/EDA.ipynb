{
 "cells": [
  {
   "cell_type": "code",
   "execution_count": 25,
   "metadata": {
    "collapsed": true
   },
   "outputs": [],
   "source": [
    "import json\n",
    "import requests\n",
    "import csv\n",
    "import pandas as pd\n",
    "import os\n",
    "import matplotlib.pylab as plt\n",
    "%matplotlib inline"
   ]
  },
  {
   "cell_type": "code",
   "execution_count": 26,
   "metadata": {
    "collapsed": false
   },
   "outputs": [],
   "source": [
    "homepath = os.path.expanduser('~')"
   ]
  },
  {
   "cell_type": "code",
   "execution_count": null,
   "metadata": {
    "collapsed": false
   },
   "outputs": [],
   "source": [
    "indicator_data = pd.read_csv('./Data/TimeSeries/Indicators_TimeSeries_Combined.csv', \\\n",
    "                             low_memory=False)"
   ]
  },
  {
   "cell_type": "markdown",
   "metadata": {},
   "source": [
    "# Indicator Value Variance in Argentina"
   ]
  },
  {
   "cell_type": "code",
   "execution_count": null,
   "metadata": {
    "collapsed": false
   },
   "outputs": [],
   "source": [
    "argentina_df_ind1 = indicator_data[(indicator_data['IndicatorCode'].isin(['AG.LND.AGRI.ZS'])) & \\\n",
    "                      (indicator_data['CountryCode'] == 'AR')]\n",
    "argentina_df_ind2 = indicator_data[(indicator_data['IndicatorCode'].isin(['SP.DYN.CBRT.IN'])) & \\\n",
    "                      (indicator_data['CountryCode'] == 'AR')]\n",
    "argentina_df_ind3 = indicator_data[(indicator_data['IndicatorCode'].isin(['SP.POP.DPND'])) & \\\n",
    "                      (indicator_data['CountryCode'] == 'AR')]\n",
    "argentina_df_ind4 = indicator_data[(indicator_data['IndicatorCode'].isin(['NE.EXP.GNFS.ZS'])) & \\\n",
    "                      (indicator_data['CountryCode'] == 'AR')]\n",
    "argentina_df_ind5 = indicator_data[(indicator_data['IndicatorCode'].isin(['NY.GDP.MKTP.CD'])) & \\\n",
    "                      (indicator_data['CountryCode'] == 'AR')]\n",
    "argentina_df_ind6 = indicator_data[(indicator_data['IndicatorCode'].isin(['NY.GDP.MKTP.KD.ZG'])) & \\\n",
    "                      (indicator_data['CountryCode'] == 'AR')]\n",
    "argentina_df_ind7 = indicator_data[(indicator_data['IndicatorCode'].isin(['SP.POP.GROW'])) & \\\n",
    "                      (indicator_data['CountryCode'] == 'AR')]\n",
    "argentina_df_ind8 = indicator_data[(indicator_data['IndicatorCode'].isin(['FI.RES.TOTL.CD'])) & \\\n",
    "                      (indicator_data['CountryCode'] == 'AR')]\n",
    "argentina_df_ind9 = indicator_data[(indicator_data['IndicatorCode'].isin(['NE.TRD.GNFS.ZS'])) & \\\n",
    "                      (indicator_data['CountryCode'] == 'AR')]\n"
   ]
  },
  {
   "cell_type": "code",
   "execution_count": null,
   "metadata": {
    "collapsed": false
   },
   "outputs": [],
   "source": [
    "import seaborn as sns\n",
    "fig = plt.figure(figsize=(16,6))\n",
    "ax1 = fig.add_subplot(1, 1, 1)\n",
    "\n",
    "#ax1.plot(argentina_df_ind1.Year, argentina_df_ind1.Value, label='orig_cmbnd_ln_to_value', color='c',  linestyle='--')\n",
    "ax1 = sns.pointplot(x=argentina_df_ind1.Year, y=argentina_df_ind1.Value, data=argentina_df_ind1, ax=ax1, color=\"#4c337f\") \n",
    "ax1.set_title('Agricultural land (% of land area) in Argentina')\n",
    "ax1.set_xlabel(\"Year\")\n",
    "ax1.set_ylabel(\"Agricultural land (% of land area)\")\n",
    "\n",
    "for ax in fig.axes:\n",
    "    plt.sca(ax)\n",
    "    plt.xticks(rotation=90)"
   ]
  },
  {
   "cell_type": "code",
   "execution_count": null,
   "metadata": {
    "collapsed": false
   },
   "outputs": [],
   "source": [
    "import seaborn as sns\n",
    "fig = plt.figure(figsize=(16,6))\n",
    "ax1 = fig.add_subplot(1, 1, 1)\n",
    "\n",
    "#ax1.plot(argentina_df_ind1.Year, argentina_df_ind1.Value, label='orig_cmbnd_ln_to_value', color='c',  linestyle='--')\n",
    "ax1 = sns.pointplot(x=argentina_df_ind2.Year, y=argentina_df_ind2.Value, data=argentina_df_ind2, ax=ax1, color=\"#4c337f\") \n",
    "ax1.set_title('Birth rate, crude (per 1,000 people) in Argentina')\n",
    "ax1.set_xlabel(\"Year\")\n",
    "ax1.set_ylabel(\"Birth rate, crude (per 1,000 people)\")\n",
    "\n",
    "for ax in fig.axes:\n",
    "    plt.sca(ax)\n",
    "    plt.xticks(rotation=90)"
   ]
  },
  {
   "cell_type": "code",
   "execution_count": null,
   "metadata": {
    "collapsed": false
   },
   "outputs": [],
   "source": [
    "import seaborn as sns\n",
    "fig = plt.figure(figsize=(16,6))\n",
    "ax1 = fig.add_subplot(1, 1, 1)\n",
    "\n",
    "#ax1.plot(argentina_df_ind1.Year, argentina_df_ind1.Value, label='orig_cmbnd_ln_to_value', color='c',  linestyle='--')\n",
    "ax1 = sns.pointplot(x=argentina_df_ind3.Year, y=argentina_df_ind3.Value, data=argentina_df_ind3, ax=ax1, color=\"#4c337f\") \n",
    "ax1.set_title('Age dependency ratio (% of working-age population) in Argentina')\n",
    "ax1.set_xlabel(\"Year\")\n",
    "ax1.set_ylabel(\"Age dependency ratio (% of working-age population)\")\n",
    "\n",
    "for ax in fig.axes:\n",
    "    plt.sca(ax)\n",
    "    plt.xticks(rotation=90)"
   ]
  },
  {
   "cell_type": "code",
   "execution_count": null,
   "metadata": {
    "collapsed": false
   },
   "outputs": [],
   "source": [
    "import seaborn as sns\n",
    "fig = plt.figure(figsize=(16,6))\n",
    "ax1 = fig.add_subplot(1, 1, 1)\n",
    "\n",
    "#ax1.plot(argentina_df_ind1.Year, argentina_df_ind1.Value, label='orig_cmbnd_ln_to_value', color='c',  linestyle='--')\n",
    "ax1 = sns.pointplot(x=argentina_df_ind4.Year, y=argentina_df_ind4.Value, data=argentina_df_ind4, ax=ax1, color=\"#4c337f\") \n",
    "ax1.set_title('Exports of goods and services (% of GDP) in Argentina')\n",
    "ax1.set_xlabel(\"Year\")\n",
    "ax1.set_ylabel(\"Exports of goods and services (% of GDP)\")\n",
    "\n",
    "for ax in fig.axes:\n",
    "    plt.sca(ax)\n",
    "    plt.xticks(rotation=90)"
   ]
  },
  {
   "cell_type": "code",
   "execution_count": null,
   "metadata": {
    "collapsed": false
   },
   "outputs": [],
   "source": [
    "import seaborn as sns\n",
    "fig = plt.figure(figsize=(16,6))\n",
    "ax1 = fig.add_subplot(1, 1, 1)\n",
    "\n",
    "#ax1.plot(argentina_df_ind1.Year, argentina_df_ind1.Value, label='orig_cmbnd_ln_to_value', color='c',  linestyle='--')\n",
    "ax1 = sns.pointplot(x=argentina_df_ind5.Year, y=argentina_df_ind5.Value, data=argentina_df_ind5, ax=ax1, color=\"#4c337f\") \n",
    "ax1.set_title('GDP (current US$) in Argentina')\n",
    "ax1.set_xlabel(\"Year\")\n",
    "ax1.set_ylabel(\"GDP (current US$)\")\n",
    "\n",
    "for ax in fig.axes:\n",
    "    plt.sca(ax)\n",
    "    plt.xticks(rotation=90)"
   ]
  },
  {
   "cell_type": "code",
   "execution_count": null,
   "metadata": {
    "collapsed": false
   },
   "outputs": [],
   "source": [
    "import seaborn as sns\n",
    "fig = plt.figure(figsize=(16,6))\n",
    "ax1 = fig.add_subplot(1, 1, 1)\n",
    "\n",
    "#ax1.plot(argentina_df_ind1.Year, argentina_df_ind1.Value, label='orig_cmbnd_ln_to_value', color='c',  linestyle='--')\n",
    "ax1 = sns.pointplot(x=argentina_df_ind6.Year, y=argentina_df_ind6.Value, data=argentina_df_ind6, ax=ax1, color=\"#4c337f\") \n",
    "ax1.set_title('GDP growth (annual %) in Argentina')\n",
    "ax1.set_xlabel(\"Year\")\n",
    "ax1.set_ylabel(\"GDP growth (annual %)\")\n",
    "\n",
    "for ax in fig.axes:\n",
    "    plt.sca(ax)\n",
    "    plt.xticks(rotation=90)"
   ]
  },
  {
   "cell_type": "code",
   "execution_count": null,
   "metadata": {
    "collapsed": false
   },
   "outputs": [],
   "source": [
    "import seaborn as sns\n",
    "fig = plt.figure(figsize=(16,6))\n",
    "ax1 = fig.add_subplot(1, 1, 1)\n",
    "\n",
    "#ax1.plot(argentina_df_ind1.Year, argentina_df_ind1.Value, label='orig_cmbnd_ln_to_value', color='c',  linestyle='--')\n",
    "ax1 = sns.pointplot(x=argentina_df_ind7.Year, y=argentina_df_ind7.Value, data=argentina_df_ind7, ax=ax1, color=\"#4c337f\") \n",
    "ax1.set_title('Population growth (annual %) in Argentina')\n",
    "ax1.set_xlabel(\"Year\")\n",
    "ax1.set_ylabel(\"Population growth (annual %)\")\n",
    "\n",
    "for ax in fig.axes:\n",
    "    plt.sca(ax)\n",
    "    plt.xticks(rotation=90)"
   ]
  },
  {
   "cell_type": "code",
   "execution_count": null,
   "metadata": {
    "collapsed": false
   },
   "outputs": [],
   "source": [
    "import seaborn as sns\n",
    "fig = plt.figure(figsize=(16,6))\n",
    "ax1 = fig.add_subplot(1, 1, 1)\n",
    "\n",
    "#ax1.plot(argentina_df_ind1.Year, argentina_df_ind1.Value, label='orig_cmbnd_ln_to_value', color='c',  linestyle='--')\n",
    "ax1 = sns.pointplot(x=argentina_df_ind8.Year, y=argentina_df_ind8.Value, data=argentina_df_ind8, ax=ax1, color=\"#4c337f\") \n",
    "ax1.set_title('Total reserves (includes gold, current US$) in Argentina')\n",
    "ax1.set_xlabel(\"Year\")\n",
    "ax1.set_ylabel(\"Total reserves (includes gold, current US$)\")\n",
    "\n",
    "for ax in fig.axes:\n",
    "    plt.sca(ax)\n",
    "    plt.xticks(rotation=90)"
   ]
  },
  {
   "cell_type": "code",
   "execution_count": null,
   "metadata": {
    "collapsed": false,
    "scrolled": true
   },
   "outputs": [],
   "source": [
    "import seaborn as sns\n",
    "fig = plt.figure(figsize=(16,6))\n",
    "ax1 = fig.add_subplot(1, 1, 1)\n",
    "\n",
    "#ax1.plot(argentina_df_ind1.Year, argentina_df_ind1.Value, label='orig_cmbnd_ln_to_value', color='c',  linestyle='--')\n",
    "ax1 = sns.pointplot(x=argentina_df_ind9.Year, y=argentina_df_ind9.Value, data=argentina_df_ind9, ax=ax1, color=\"#4c337f\") \n",
    "ax1.set_title('Trade (% of GDP) in Argentina')\n",
    "ax1.set_xlabel(\"Year\")\n",
    "ax1.set_ylabel(\"Trade (% of GDP)\")\n",
    "\n",
    "for ax in fig.axes:\n",
    "    plt.sca(ax)\n",
    "    plt.xticks(rotation=90)"
   ]
  },
  {
   "cell_type": "markdown",
   "metadata": {},
   "source": [
    "# Indicator Value Variance in Brazil"
   ]
  },
  {
   "cell_type": "code",
   "execution_count": null,
   "metadata": {
    "collapsed": true
   },
   "outputs": [],
   "source": [
    "brazil_df_ind1 = indicator_data[(indicator_data['IndicatorCode'].isin(['AG.LND.AGRI.ZS'])) &\\\n",
    "                                (indicator_data['CountryCode'] == 'BR')]\n",
    "brazil_df_ind2 = indicator_data[(indicator_data['IndicatorCode'].isin(['SP.DYN.CBRT.IN'])) &\\\n",
    "                                (indicator_data['CountryCode'] == 'BR')]\n",
    "brazil_df_ind3 = indicator_data[(indicator_data['IndicatorCode'].isin(['SP.POP.DPND'])) &\\\n",
    "                                (indicator_data['CountryCode'] == 'BR')]\n",
    "brazil_df_ind4 = indicator_data[(indicator_data['IndicatorCode'].isin(['NE.EXP.GNFS.ZS'])) &\\\n",
    "                                (indicator_data['CountryCode'] == 'BR')]\n",
    "brazil_df_ind5 = indicator_data[(indicator_data['IndicatorCode'].isin(['NY.GDP.MKTP.CD'])) &\\\n",
    "                                (indicator_data['CountryCode'] == 'BR')]\n",
    "brazil_df_ind6 = indicator_data[(indicator_data['IndicatorCode'].isin(['NY.GDP.MKTP.KD.ZG'])) &\\\n",
    "                                (indicator_data['CountryCode'] == 'BR')]\n",
    "brazil_df_ind7 = indicator_data[(indicator_data['IndicatorCode'].isin(['SP.POP.GROW'])) &\\\n",
    "                                (indicator_data['CountryCode'] == 'BR')]\n",
    "brazil_df_ind8 = indicator_data[(indicator_data['IndicatorCode'].isin(['FI.RES.TOTL.CD'])) &\\\n",
    "                                (indicator_data['CountryCode'] == 'BR')]\n",
    "brazil_df_ind9 = indicator_data[(indicator_data['IndicatorCode'].isin(['NE.TRD.GNFS.ZS'])) &\\\n",
    "                                (indicator_data['CountryCode'] == 'BR')]"
   ]
  },
  {
   "cell_type": "code",
   "execution_count": null,
   "metadata": {
    "collapsed": false
   },
   "outputs": [],
   "source": [
    "import seaborn as sns\n",
    "fig = plt.figure(figsize=(16,6))\n",
    "ax1 = fig.add_subplot(1, 1, 1)\n",
    "\n",
    "#ax1.plot(brazil_df_ind1.Year, brazil_df_ind1.Value, label='orig_cmbnd_ln_to_value', color='c',  linestyle='--')\n",
    "ax1 = sns.pointplot(x=brazil_df_ind1.Year, y=brazil_df_ind1.Value, data=brazil_df_ind1, ax=ax1, color=\"#4c337f\") \n",
    "ax1.set_title('Agricultural land (% of land area) in brazil')\n",
    "ax1.set_xlabel(\"Year\")\n",
    "ax1.set_ylabel(\"Agricultural land (% of land area)\")\n",
    "\n",
    "for ax in fig.axes:\n",
    "    plt.sca(ax)\n",
    "    plt.xticks(rotation=90)"
   ]
  },
  {
   "cell_type": "code",
   "execution_count": null,
   "metadata": {
    "collapsed": true
   },
   "outputs": [],
   "source": [
    "import seaborn as sns\n",
    "fig = plt.figure(figsize=(16,6))\n",
    "ax1 = fig.add_subplot(1, 1, 1)\n",
    "\n",
    "#ax1.plot(brazil_df_ind1.Year, brazil_df_ind1.Value, label='orig_cmbnd_ln_to_value', color='c',  linestyle='--')\n",
    "ax1 = sns.pointplot(x=brazil_df_ind2.Year, y=brazil_df_ind2.Value, data=brazil_df_ind2, ax=ax1, color=\"#4c337f\") \n",
    "ax1.set_title('Birth rate, crude (per 1,000 people) in brazil')\n",
    "ax1.set_xlabel(\"Year\")\n",
    "ax1.set_ylabel(\"Birth rate, crude (per 1,000 people)\")\n",
    "\n",
    "for ax in fig.axes:\n",
    "    plt.sca(ax)\n",
    "    plt.xticks(rotation=90)\n"
   ]
  },
  {
   "cell_type": "code",
   "execution_count": null,
   "metadata": {
    "collapsed": true
   },
   "outputs": [],
   "source": [
    "import seaborn as sns\n",
    "fig = plt.figure(figsize=(16,6))\n",
    "ax1 = fig.add_subplot(1, 1, 1)\n",
    "\n",
    "#ax1.plot(brazil_df_ind1.Year, brazil_df_ind1.Value, label='orig_cmbnd_ln_to_value', color='c',  linestyle='--')\n",
    "ax1 = sns.pointplot(x=brazil_df_ind3.Year, y=brazil_df_ind3.Value, data=brazil_df_ind3, ax=ax1, color=\"#4c337f\") \n",
    "ax1.set_title('Age dependency ratio (% of working-age population) in brazil')\n",
    "ax1.set_xlabel(\"Year\")\n",
    "ax1.set_ylabel(\"Age dependency ratio (% of working-age population)\")\n",
    "\n",
    "for ax in fig.axes:\n",
    "    plt.sca(ax)\n",
    "    plt.xticks(rotation=90)"
   ]
  },
  {
   "cell_type": "code",
   "execution_count": null,
   "metadata": {
    "collapsed": true
   },
   "outputs": [],
   "source": [
    "import seaborn as sns\n",
    "fig = plt.figure(figsize=(16,6))\n",
    "ax1 = fig.add_subplot(1, 1, 1)\n",
    "\n",
    "#ax1.plot(brazil_df_ind1.Year, brazil_df_ind1.Value, label='orig_cmbnd_ln_to_value', color='c',  linestyle='--')\n",
    "ax1 = sns.pointplot(x=brazil_df_ind4.Year, y=brazil_df_ind4.Value, data=brazil_df_ind4, ax=ax1, color=\"#4c337f\") \n",
    "ax1.set_title('Exports of goods and services (% of GDP) in brazil')\n",
    "ax1.set_xlabel(\"Year\")\n",
    "ax1.set_ylabel(\"Exports of goods and services (% of GDP)\")\n",
    "\n",
    "for ax in fig.axes:\n",
    "    plt.sca(ax)\n",
    "    plt.xticks(rotation=90)"
   ]
  },
  {
   "cell_type": "code",
   "execution_count": null,
   "metadata": {
    "collapsed": true
   },
   "outputs": [],
   "source": [
    "import seaborn as sns\n",
    "fig = plt.figure(figsize=(16,6))\n",
    "ax1 = fig.add_subplot(1, 1, 1)\n",
    "\n",
    "#ax1.plot(brazil_df_ind1.Year, brazil_df_ind1.Value, label='orig_cmbnd_ln_to_value', color='c',  linestyle='--')\n",
    "ax1 = sns.pointplot(x=brazil_df_ind5.Year, y=brazil_df_ind5.Value, data=brazil_df_ind5, ax=ax1, color=\"#4c337f\") \n",
    "ax1.set_title('GDP (current US$) in brazil')\n",
    "ax1.set_xlabel(\"Year\")\n",
    "ax1.set_ylabel(\"GDP (current US$)\")\n",
    "\n",
    "for ax in fig.axes:\n",
    "    plt.sca(ax)\n",
    "    plt.xticks(rotation=90)"
   ]
  },
  {
   "cell_type": "code",
   "execution_count": null,
   "metadata": {
    "collapsed": true
   },
   "outputs": [],
   "source": [
    "import seaborn as sns\n",
    "fig = plt.figure(figsize=(16,6))\n",
    "ax1 = fig.add_subplot(1, 1, 1)\n",
    "\n",
    "#ax1.plot(brazil_df_ind1.Year, brazil_df_ind1.Value, label='orig_cmbnd_ln_to_value', color='c',  linestyle='--')\n",
    "ax1 = sns.pointplot(x=brazil_df_ind6.Year, y=brazil_df_ind6.Value, data=brazil_df_ind6, ax=ax1, color=\"#4c337f\") \n",
    "ax1.set_title('GDP growth (annual %) in brazil')\n",
    "ax1.set_xlabel(\"Year\")\n",
    "ax1.set_ylabel(\"GDP growth (annual %)\")\n",
    "\n",
    "for ax in fig.axes:\n",
    "    plt.sca(ax)\n",
    "    plt.xticks(rotation=90)"
   ]
  },
  {
   "cell_type": "code",
   "execution_count": null,
   "metadata": {
    "collapsed": true
   },
   "outputs": [],
   "source": [
    "import seaborn as sns\n",
    "fig = plt.figure(figsize=(16,6))\n",
    "ax1 = fig.add_subplot(1, 1, 1)\n",
    "\n",
    "#ax1.plot(brazil_df_ind1.Year, brazil_df_ind1.Value, label='orig_cmbnd_ln_to_value', color='c',  linestyle='--')\n",
    "ax1 = sns.pointplot(x=brazil_df_ind7.Year, y=brazil_df_ind7.Value, data=brazil_df_ind7, ax=ax1, color=\"#4c337f\") \n",
    "ax1.set_title('Population growth (annual %) in brazil')\n",
    "ax1.set_xlabel(\"Year\")\n",
    "ax1.set_ylabel(\"Population growth (annual %)\")\n",
    "\n",
    "for ax in fig.axes:\n",
    "    plt.sca(ax)\n",
    "    plt.xticks(rotation=90)"
   ]
  },
  {
   "cell_type": "code",
   "execution_count": null,
   "metadata": {
    "collapsed": true
   },
   "outputs": [],
   "source": [
    "import seaborn as sns\n",
    "fig = plt.figure(figsize=(16,6))\n",
    "ax1 = fig.add_subplot(1, 1, 1)\n",
    "\n",
    "#ax1.plot(brazil_df_ind1.Year, brazil_df_ind1.Value, label='orig_cmbnd_ln_to_value', color='c',  linestyle='--')\n",
    "ax1 = sns.pointplot(x=brazil_df_ind8.Year, y=brazil_df_ind8.Value, data=brazil_df_ind8, ax=ax1, color=\"#4c337f\") \n",
    "ax1.set_title('Total reserves (includes gold, current US$) in brazil')\n",
    "ax1.set_xlabel(\"Year\")\n",
    "ax1.set_ylabel(\"Total reserves (includes gold, current US$)\")\n",
    "\n",
    "for ax in fig.axes:\n",
    "    plt.sca(ax)\n",
    "    plt.xticks(rotation=90)"
   ]
  },
  {
   "cell_type": "code",
   "execution_count": null,
   "metadata": {
    "collapsed": false
   },
   "outputs": [],
   "source": [
    "import seaborn as sns\n",
    "fig = plt.figure(figsize=(16,6))\n",
    "ax1 = fig.add_subplot(1, 1, 1)\n",
    "\n",
    "#ax1.plot(brazil_df_ind1.Year, brazil_df_ind1.Value, label='orig_cmbnd_ln_to_value', color='c',  linestyle='--')\n",
    "ax1 = sns.pointplot(x=brazil_df_ind9.Year, y=brazil_df_ind9.Value, data=brazil_df_ind9, ax=ax1, color=\"#4c337f\") \n",
    "ax1.set_title('Trade (% of GDP) in brazil')\n",
    "ax1.set_xlabel(\"Year\")\n",
    "ax1.set_ylabel(\"Trade (% of GDP)\")\n",
    "\n",
    "for ax in fig.axes:\n",
    "    plt.sca(ax)\n",
    "    plt.xticks(rotation=90)\n"
   ]
  },
  {
   "cell_type": "markdown",
   "metadata": {},
   "source": [
    "# Indicator Value Variance in Ecuador"
   ]
  },
  {
   "cell_type": "code",
   "execution_count": null,
   "metadata": {
    "collapsed": true
   },
   "outputs": [],
   "source": [
    "Ecuador_df_ind1 = indicator_data[(indicator_data['IndicatorCode'].isin(['AG.LND.AGRI.ZS'])) & \\\n",
    "                                 (indicator_data['CountryCode'] == 'EC')]\n",
    "Ecuador_df_ind2 = indicator_data[(indicator_data['IndicatorCode'].isin(['SP.DYN.CBRT.IN'])) & \\\n",
    "                                 (indicator_data['CountryCode'] == 'EC')]\n",
    "Ecuador_df_ind3 = indicator_data[(indicator_data['IndicatorCode'].isin(['SP.POP.DPND'])) & \\\n",
    "                                 (indicator_data['CountryCode'] == 'EC')]\n",
    "Ecuador_df_ind4 = indicator_data[(indicator_data['IndicatorCode'].isin(['NE.EXP.GNFS.ZS'])) & \\\n",
    "                                 (indicator_data['CountryCode'] == 'EC')]\n",
    "Ecuador_df_ind5 = indicator_data[(indicator_data['IndicatorCode'].isin(['NY.GDP.MKTP.CD'])) & \\\n",
    "                                 (indicator_data['CountryCode'] == 'EC')]\n",
    "Ecuador_df_ind6 = indicator_data[(indicator_data['IndicatorCode'].isin(['NY.GDP.MKTP.KD.ZG'])) & \\\n",
    "                                 (indicator_data['CountryCode'] == 'EC')]\n",
    "Ecuador_df_ind7 = indicator_data[(indicator_data['IndicatorCode'].isin(['SP.POP.GROW'])) & \\\n",
    "                                 (indicator_data['CountryCode'] == 'EC')]\n",
    "Ecuador_df_ind8 = indicator_data[(indicator_data['IndicatorCode'].isin(['FI.RES.TOTL.CD'])) & \\\n",
    "                                 (indicator_data['CountryCode'] == 'EC')]\n",
    "Ecuador_df_ind9 = indicator_data[(indicator_data['IndicatorCode'].isin(['NE.TRD.GNFS.ZS'])) & \\\n",
    "                                 (indicator_data['CountryCode'] == 'EC')]"
   ]
  },
  {
   "cell_type": "code",
   "execution_count": null,
   "metadata": {
    "collapsed": false
   },
   "outputs": [],
   "source": [
    "import seaborn as sns\n",
    "fig = plt.figure(figsize=(16,6))\n",
    "ax1 = fig.add_subplot(1, 1, 1)\n",
    "\n",
    "#ax1.plot(Ecuador_df_ind1.Year, Ecuador_df_ind1.Value, label='orig_cmbnd_ln_to_value', color='c',  linestyle='--')\n",
    "ax1 = sns.pointplot(x=Ecuador_df_ind1.Year, y=Ecuador_df_ind1.Value, data=Ecuador_df_ind1, ax=ax1, color=\"#4c337f\") \n",
    "ax1.set_title('Agricultural land (% of land area) in Ecuador')\n",
    "ax1.set_xlabel(\"Year\")\n",
    "ax1.set_ylabel(\"Agricultural land (% of land area)\")\n",
    "\n",
    "for ax in fig.axes:\n",
    "    plt.sca(ax)\n",
    "    plt.xticks(rotation=90)"
   ]
  },
  {
   "cell_type": "code",
   "execution_count": null,
   "metadata": {
    "collapsed": true
   },
   "outputs": [],
   "source": [
    "import seaborn as sns\n",
    "fig = plt.figure(figsize=(16,6))\n",
    "ax1 = fig.add_subplot(1, 1, 1)\n",
    "\n",
    "#ax1.plot(Ecuador_df_ind1.Year, Ecuador_df_ind1.Value, label='orig_cmbnd_ln_to_value', color='c',  linestyle='--')\n",
    "ax1 = sns.pointplot(x=Ecuador_df_ind2.Year, y=Ecuador_df_ind2.Value, data=Ecuador_df_ind2, ax=ax1, color=\"#4c337f\") \n",
    "ax1.set_title('Birth rate, crude (per 1,000 people) in Ecuador')\n",
    "ax1.set_xlabel(\"Year\")\n",
    "ax1.set_ylabel(\"Birth rate, crude (per 1,000 people)\")\n",
    "\n",
    "for ax in fig.axes:\n",
    "    plt.sca(ax)\n",
    "    plt.xticks(rotation=90)"
   ]
  },
  {
   "cell_type": "code",
   "execution_count": null,
   "metadata": {
    "collapsed": true
   },
   "outputs": [],
   "source": [
    "import seaborn as sns\n",
    "fig = plt.figure(figsize=(16,6))\n",
    "ax1 = fig.add_subplot(1, 1, 1)\n",
    "\n",
    "#ax1.plot(Ecuador_df_ind1.Year, Ecuador_df_ind1.Value, label='orig_cmbnd_ln_to_value', color='c',  linestyle='--')\n",
    "ax1 = sns.pointplot(x=Ecuador_df_ind3.Year, y=Ecuador_df_ind3.Value, data=Ecuador_df_ind3, ax=ax1, color=\"#4c337f\") \n",
    "ax1.set_title('Age dependency ratio (% of working-age population) in Ecuador')\n",
    "ax1.set_xlabel(\"Year\")\n",
    "ax1.set_ylabel(\"Age dependency ratio (% of working-age population)\")\n",
    "\n",
    "for ax in fig.axes:\n",
    "    plt.sca(ax)\n",
    "    plt.xticks(rotation=90)"
   ]
  },
  {
   "cell_type": "code",
   "execution_count": null,
   "metadata": {
    "collapsed": true
   },
   "outputs": [],
   "source": [
    "import seaborn as sns\n",
    "fig = plt.figure(figsize=(16,6))\n",
    "ax1 = fig.add_subplot(1, 1, 1)\n",
    "\n",
    "#ax1.plot(Ecuador_df_ind1.Year, Ecuador_df_ind1.Value, label='orig_cmbnd_ln_to_value', color='c',  linestyle='--')\n",
    "ax1 = sns.pointplot(x=Ecuador_df_ind4.Year, y=Ecuador_df_ind4.Value, data=Ecuador_df_ind4, ax=ax1, color=\"#4c337f\") \n",
    "ax1.set_title('Exports of goods and services (% of GDP) in Ecuador')\n",
    "ax1.set_xlabel(\"Year\")\n",
    "ax1.set_ylabel(\"Exports of goods and services (% of GDP)\")\n",
    "\n",
    "for ax in fig.axes:\n",
    "    plt.sca(ax)\n",
    "    plt.xticks(rotation=90)"
   ]
  },
  {
   "cell_type": "code",
   "execution_count": null,
   "metadata": {
    "collapsed": true
   },
   "outputs": [],
   "source": [
    "import seaborn as sns\n",
    "fig = plt.figure(figsize=(16,6))\n",
    "ax1 = fig.add_subplot(1, 1, 1)\n",
    "\n",
    "#ax1.plot(Ecuador_df_ind1.Year, Ecuador_df_ind1.Value, label='orig_cmbnd_ln_to_value', color='c',  linestyle='--')\n",
    "ax1 = sns.pointplot(x=Ecuador_df_ind5.Year, y=Ecuador_df_ind5.Value, data=Ecuador_df_ind5, ax=ax1, color=\"#4c337f\") \n",
    "ax1.set_title('GDP (current US$) in Ecuador')\n",
    "ax1.set_xlabel(\"Year\")\n",
    "ax1.set_ylabel(\"GDP (current US$)\")\n",
    "\n",
    "for ax in fig.axes:\n",
    "    plt.sca(ax)\n",
    "    plt.xticks(rotation=90)"
   ]
  },
  {
   "cell_type": "code",
   "execution_count": null,
   "metadata": {
    "collapsed": true
   },
   "outputs": [],
   "source": [
    "import seaborn as sns\n",
    "fig = plt.figure(figsize=(16,6))\n",
    "ax1 = fig.add_subplot(1, 1, 1)\n",
    "\n",
    "#ax1.plot(Ecuador_df_ind1.Year, Ecuador_df_ind1.Value, label='orig_cmbnd_ln_to_value', color='c',  linestyle='--')\n",
    "ax1 = sns.pointplot(x=Ecuador_df_ind6.Year, y=Ecuador_df_ind6.Value, data=Ecuador_df_ind6, ax=ax1, color=\"#4c337f\") \n",
    "ax1.set_title('GDP growth (annual %) in Ecuador')\n",
    "ax1.set_xlabel(\"Year\")\n",
    "ax1.set_ylabel(\"GDP growth (annual %)\")\n",
    "\n",
    "for ax in fig.axes:\n",
    "    plt.sca(ax)\n",
    "    plt.xticks(rotation=90)"
   ]
  },
  {
   "cell_type": "code",
   "execution_count": null,
   "metadata": {
    "collapsed": true
   },
   "outputs": [],
   "source": [
    "import seaborn as sns\n",
    "fig = plt.figure(figsize=(16,6))\n",
    "ax1 = fig.add_subplot(1, 1, 1)\n",
    "\n",
    "#ax1.plot(Ecuador_df_ind1.Year, Ecuador_df_ind1.Value, label='orig_cmbnd_ln_to_value', color='c',  linestyle='--')\n",
    "ax1 = sns.pointplot(x=Ecuador_df_ind7.Year, y=Ecuador_df_ind7.Value, data=Ecuador_df_ind7, ax=ax1, color=\"#4c337f\") \n",
    "ax1.set_title('Population growth (annual %) in Ecuador')\n",
    "ax1.set_xlabel(\"Year\")\n",
    "ax1.set_ylabel(\"Population growth (annual %)\")\n",
    "\n",
    "for ax in fig.axes:\n",
    "    plt.sca(ax)\n",
    "    plt.xticks(rotation=90)"
   ]
  },
  {
   "cell_type": "code",
   "execution_count": null,
   "metadata": {
    "collapsed": true
   },
   "outputs": [],
   "source": [
    "import seaborn as sns\n",
    "fig = plt.figure(figsize=(16,6))\n",
    "ax1 = fig.add_subplot(1, 1, 1)\n",
    "\n",
    "#ax1.plot(Ecuador_df_ind1.Year, Ecuador_df_ind1.Value, label='orig_cmbnd_ln_to_value', color='c',  linestyle='--')\n",
    "ax1 = sns.pointplot(x=Ecuador_df_ind8.Year, y=Ecuador_df_ind8.Value, data=Ecuador_df_ind8, ax=ax1, color=\"#4c337f\") \n",
    "ax1.set_title('Total reserves (includes gold, current US$) in Ecuador')\n",
    "ax1.set_xlabel(\"Year\")\n",
    "ax1.set_ylabel(\"Total reserves (includes gold, current US$)\")\n",
    "\n",
    "for ax in fig.axes:\n",
    "    plt.sca(ax)\n",
    "    plt.xticks(rotation=90)"
   ]
  },
  {
   "cell_type": "code",
   "execution_count": null,
   "metadata": {
    "collapsed": false
   },
   "outputs": [],
   "source": [
    "import seaborn as sns\n",
    "fig = plt.figure(figsize=(16,6))\n",
    "ax1 = fig.add_subplot(1, 1, 1)\n",
    "\n",
    "#ax1.plot(Ecuador_df_ind1.Year, Ecuador_df_ind1.Value, label='orig_cmbnd_ln_to_value', color='c',  linestyle='--')\n",
    "ax1 = sns.pointplot(x=Ecuador_df_ind9.Year, y=Ecuador_df_ind9.Value, data=Ecuador_df_ind9, ax=ax1, color=\"#4c337f\") \n",
    "ax1.set_title('Trade (% of GDP) in Ecuador')\n",
    "ax1.set_xlabel(\"Year\")\n",
    "ax1.set_ylabel(\"Trade (% of GDP)\")\n",
    "\n",
    "for ax in fig.axes:\n",
    "    plt.sca(ax)\n",
    "    plt.xticks(rotation=90)"
   ]
  },
  {
   "cell_type": "markdown",
   "metadata": {},
   "source": [
    "# Indicator Value Variance in India"
   ]
  },
  {
   "cell_type": "code",
   "execution_count": null,
   "metadata": {
    "collapsed": true
   },
   "outputs": [],
   "source": [
    "India_df_ind1 = indicator_data[(indicator_data['IndicatorCode'].isin(['AG.LND.AGRI.ZS'])) & \\\n",
    "                               (indicator_data['CountryCode'] == 'IN')]\n",
    "India_df_ind2 = indicator_data[(indicator_data['IndicatorCode'].isin(['SP.DYN.CBRT.IN'])) & \\\n",
    "                               (indicator_data['CountryCode'] == 'IN')]\n",
    "India_df_ind3 = indicator_data[(indicator_data['IndicatorCode'].isin(['SP.POP.DPND'])) & \\\n",
    "                               (indicator_data['CountryCode'] == 'IN')]\n",
    "India_df_ind4 = indicator_data[(indicator_data['IndicatorCode'].isin(['NE.EXP.GNFS.ZS'])) & \\\n",
    "                               (indicator_data['CountryCode'] == 'IN')]\n",
    "India_df_ind5 = indicator_data[(indicator_data['IndicatorCode'].isin(['NY.GDP.MKTP.CD'])) & \\\n",
    "                               (indicator_data['CountryCode'] == 'IN')]\n",
    "India_df_ind6 = indicator_data[(indicator_data['IndicatorCode'].isin(['NY.GDP.MKTP.KD.ZG'])) & \\\n",
    "                               (indicator_data['CountryCode'] == 'IN')]\n",
    "India_df_ind7 = indicator_data[(indicator_data['IndicatorCode'].isin(['SP.POP.GROW'])) & \\\n",
    "                               (indicator_data['CountryCode'] == 'IN')]\n",
    "India_df_ind8 = indicator_data[(indicator_data['IndicatorCode'].isin(['FI.RES.TOTL.CD'])) & \\\n",
    "                               (indicator_data['CountryCode'] == 'IN')]\n",
    "India_df_ind9 = indicator_data[(indicator_data['IndicatorCode'].isin(['NE.TRD.GNFS.ZS'])) & \\\n",
    "                               (indicator_data['CountryCode'] == 'IN')]"
   ]
  },
  {
   "cell_type": "code",
   "execution_count": null,
   "metadata": {
    "collapsed": true
   },
   "outputs": [],
   "source": []
  },
  {
   "cell_type": "code",
   "execution_count": null,
   "metadata": {
    "collapsed": true
   },
   "outputs": [],
   "source": [
    "import seaborn as sns\n",
    "fig = plt.figure(figsize=(16,6))\n",
    "ax1 = fig.add_subplot(1, 1, 1)\n",
    "\n",
    "#ax1.plot(India_df_ind1.Year, India_df_ind1.Value, label='orig_cmbnd_ln_to_value', color='c',  linestyle='--')\n",
    "ax1 = sns.pointplot(x=India_df_ind1.Year, y=India_df_ind1.Value, data=India_df_ind1, ax=ax1, color=\"#4c337f\") \n",
    "ax1.set_title('Agricultural land (% of land area) in India')\n",
    "ax1.set_xlabel(\"Year\")\n",
    "ax1.set_ylabel(\"Agricultural land (% of land area)\")\n",
    "\n",
    "for ax in fig.axes:\n",
    "    plt.sca(ax)\n",
    "    plt.xticks(rotation=90)"
   ]
  },
  {
   "cell_type": "code",
   "execution_count": null,
   "metadata": {
    "collapsed": true
   },
   "outputs": [],
   "source": [
    "import seaborn as sns\n",
    "fig = plt.figure(figsize=(16,6))\n",
    "ax1 = fig.add_subplot(1, 1, 1)\n",
    "\n",
    "#ax1.plot(India_df_ind1.Year, India_df_ind1.Value, label='orig_cmbnd_ln_to_value', color='c',  linestyle='--')\n",
    "ax1 = sns.pointplot(x=India_df_ind2.Year, y=India_df_ind2.Value, data=India_df_ind2, ax=ax1, color=\"#4c337f\") \n",
    "ax1.set_title('Birth rate, crude (per 1,000 people) in India')\n",
    "ax1.set_xlabel(\"Year\")\n",
    "ax1.set_ylabel(\"Birth rate, crude (per 1,000 people)\")\n",
    "\n",
    "for ax in fig.axes:\n",
    "    plt.sca(ax)\n",
    "    plt.xticks(rotation=90)"
   ]
  },
  {
   "cell_type": "code",
   "execution_count": null,
   "metadata": {
    "collapsed": true
   },
   "outputs": [],
   "source": [
    "import seaborn as sns\n",
    "fig = plt.figure(figsize=(16,6))\n",
    "ax1 = fig.add_subplot(1, 1, 1)\n",
    "\n",
    "#ax1.plot(India_df_ind1.Year, India_df_ind1.Value, label='orig_cmbnd_ln_to_value', color='c',  linestyle='--')\n",
    "ax1 = sns.pointplot(x=India_df_ind3.Year, y=India_df_ind3.Value, data=India_df_ind3, ax=ax1, color=\"#4c337f\") \n",
    "ax1.set_title('Age dependency ratio (% of working-age population) in India')\n",
    "ax1.set_xlabel(\"Year\")\n",
    "ax1.set_ylabel(\"Age dependency ratio (% of working-age population)\")\n",
    "\n",
    "for ax in fig.axes:\n",
    "    plt.sca(ax)\n",
    "    plt.xticks(rotation=90)"
   ]
  },
  {
   "cell_type": "code",
   "execution_count": null,
   "metadata": {
    "collapsed": true
   },
   "outputs": [],
   "source": [
    "import seaborn as sns\n",
    "fig = plt.figure(figsize=(16,6))\n",
    "ax1 = fig.add_subplot(1, 1, 1)\n",
    "\n",
    "#ax1.plot(India_df_ind1.Year, India_df_ind1.Value, label='orig_cmbnd_ln_to_value', color='c',  linestyle='--')\n",
    "ax1 = sns.pointplot(x=India_df_ind4.Year, y=India_df_ind4.Value, data=India_df_ind4, ax=ax1, color=\"#4c337f\") \n",
    "ax1.set_title('Exports of goods and services (% of GDP) in India')\n",
    "ax1.set_xlabel(\"Year\")\n",
    "ax1.set_ylabel(\"Exports of goods and services (% of GDP)\")\n",
    "\n",
    "for ax in fig.axes:\n",
    "    plt.sca(ax)\n",
    "    plt.xticks(rotation=90)"
   ]
  },
  {
   "cell_type": "code",
   "execution_count": null,
   "metadata": {
    "collapsed": true
   },
   "outputs": [],
   "source": [
    "import seaborn as sns\n",
    "fig = plt.figure(figsize=(16,6))\n",
    "ax1 = fig.add_subplot(1, 1, 1)\n",
    "\n",
    "#ax1.plot(India_df_ind1.Year, India_df_ind1.Value, label='orig_cmbnd_ln_to_value', color='c',  linestyle='--')\n",
    "ax1 = sns.pointplot(x=India_df_ind5.Year, y=India_df_ind5.Value, data=India_df_ind5, ax=ax1, color=\"#4c337f\") \n",
    "ax1.set_title('GDP (current US$) in India')\n",
    "ax1.set_xlabel(\"Year\")\n",
    "ax1.set_ylabel(\"GDP (current US$)\")\n",
    "\n",
    "for ax in fig.axes:\n",
    "    plt.sca(ax)\n",
    "    plt.xticks(rotation=90)"
   ]
  },
  {
   "cell_type": "code",
   "execution_count": null,
   "metadata": {
    "collapsed": true
   },
   "outputs": [],
   "source": [
    "import seaborn as sns\n",
    "fig = plt.figure(figsize=(16,6))\n",
    "ax1 = fig.add_subplot(1, 1, 1)\n",
    "\n",
    "#ax1.plot(India_df_ind1.Year, India_df_ind1.Value, label='orig_cmbnd_ln_to_value', color='c',  linestyle='--')\n",
    "ax1 = sns.pointplot(x=India_df_ind6.Year, y=India_df_ind6.Value, data=India_df_ind6, ax=ax1, color=\"#4c337f\") \n",
    "ax1.set_title('GDP growth (annual %) in India')\n",
    "ax1.set_xlabel(\"Year\")\n",
    "ax1.set_ylabel(\"GDP growth (annual %)\")\n",
    "\n",
    "for ax in fig.axes:\n",
    "    plt.sca(ax)\n",
    "    plt.xticks(rotation=90)"
   ]
  },
  {
   "cell_type": "code",
   "execution_count": null,
   "metadata": {
    "collapsed": true
   },
   "outputs": [],
   "source": [
    "import seaborn as sns\n",
    "fig = plt.figure(figsize=(16,6))\n",
    "ax1 = fig.add_subplot(1, 1, 1)\n",
    "\n",
    "#ax1.plot(India_df_ind1.Year, India_df_ind1.Value, label='orig_cmbnd_ln_to_value', color='c',  linestyle='--')\n",
    "ax1 = sns.pointplot(x=India_df_ind7.Year, y=India_df_ind7.Value, data=India_df_ind7, ax=ax1, color=\"#4c337f\") \n",
    "ax1.set_title('Population growth (annual %) in India')\n",
    "ax1.set_xlabel(\"Year\")\n",
    "ax1.set_ylabel(\"Population growth (annual %)\")\n",
    "\n",
    "for ax in fig.axes:\n",
    "    plt.sca(ax)\n",
    "    plt.xticks(rotation=90)"
   ]
  },
  {
   "cell_type": "code",
   "execution_count": null,
   "metadata": {
    "collapsed": true
   },
   "outputs": [],
   "source": [
    "import seaborn as sns\n",
    "fig = plt.figure(figsize=(16,6))\n",
    "ax1 = fig.add_subplot(1, 1, 1)\n",
    "\n",
    "#ax1.plot(India_df_ind1.Year, India_df_ind1.Value, label='orig_cmbnd_ln_to_value', color='c',  linestyle='--')\n",
    "ax1 = sns.pointplot(x=India_df_ind8.Year, y=India_df_ind8.Value, data=India_df_ind8, ax=ax1, color=\"#4c337f\") \n",
    "ax1.set_title('Total reserves (includes gold, current US$) in India')\n",
    "ax1.set_xlabel(\"Year\")\n",
    "ax1.set_ylabel(\"Total reserves (includes gold, current US$)\")\n",
    "\n",
    "for ax in fig.axes:\n",
    "    plt.sca(ax)\n",
    "    plt.xticks(rotation=90)"
   ]
  },
  {
   "cell_type": "code",
   "execution_count": null,
   "metadata": {
    "collapsed": false
   },
   "outputs": [],
   "source": [
    "import seaborn as sns\n",
    "fig = plt.figure(figsize=(16,6))\n",
    "ax1 = fig.add_subplot(1, 1, 1)\n",
    "\n",
    "#ax1.plot(India_df_ind1.Year, India_df_ind1.Value, label='orig_cmbnd_ln_to_value', color='c',  linestyle='--')\n",
    "ax1 = sns.pointplot(x=India_df_ind9.Year, y=India_df_ind9.Value, data=India_df_ind9, ax=ax1, color=\"#4c337f\") \n",
    "ax1.set_title('Trade (% of GDP) in India')\n",
    "ax1.set_xlabel(\"Year\")\n",
    "ax1.set_ylabel(\"Trade (% of GDP)\")\n",
    "\n",
    "for ax in fig.axes:\n",
    "    plt.sca(ax)\n",
    "    plt.xticks(rotation=90)"
   ]
  },
  {
   "cell_type": "markdown",
   "metadata": {},
   "source": [
    "# Indicator Value Variance in Libya"
   ]
  },
  {
   "cell_type": "code",
   "execution_count": null,
   "metadata": {
    "collapsed": true
   },
   "outputs": [],
   "source": [
    "Libya_df_ind1 = indicator_data[(indicator_data['IndicatorCode'].isin(['AG.LND.AGRI.ZS'])) & \\\n",
    "                               (indicator_data['CountryCode'] == 'LY')]\n",
    "Libya_df_ind2 = indicator_data[(indicator_data['IndicatorCode'].isin(['SP.DYN.CBRT.IN'])) & \\\n",
    "                               (indicator_data['CountryCode'] == 'LY')]\n",
    "Libya_df_ind3 = indicator_data[(indicator_data['IndicatorCode'].isin(['SP.POP.DPND'])) & \\\n",
    "                               (indicator_data['CountryCode'] == 'LY')]\n",
    "Libya_df_ind4 = indicator_data[(indicator_data['IndicatorCode'].isin(['NE.EXP.GNFS.ZS'])) & \\\n",
    "                               (indicator_data['CountryCode'] == 'LY')]\n",
    "Libya_df_ind5 = indicator_data[(indicator_data['IndicatorCode'].isin(['NY.GDP.MKTP.CD'])) & \\\n",
    "                               (indicator_data['CountryCode'] == 'LY')]\n",
    "Libya_df_ind6 = indicator_data[(indicator_data['IndicatorCode'].isin(['NY.GDP.MKTP.KD.ZG'])) & \\\n",
    "                               (indicator_data['CountryCode'] == 'LY')]\n",
    "Libya_df_ind7 = indicator_data[(indicator_data['IndicatorCode'].isin(['SP.POP.GROW'])) & \\\n",
    "                               (indicator_data['CountryCode'] == 'LY')]\n",
    "Libya_df_ind8 = indicator_data[(indicator_data['IndicatorCode'].isin(['FI.RES.TOTL.CD'])) & \\\n",
    "                               (indicator_data['CountryCode'] == 'LY')]\n",
    "Libya_df_ind9 = indicator_data[(indicator_data['IndicatorCode'].isin(['NE.TRD.GNFS.ZS'])) & \\\n",
    "                               (indicator_data['CountryCode'] == 'LY')]"
   ]
  },
  {
   "cell_type": "code",
   "execution_count": null,
   "metadata": {
    "collapsed": false
   },
   "outputs": [],
   "source": [
    "import seaborn as sns\n",
    "fig = plt.figure(figsize=(16,6))\n",
    "ax1 = fig.add_subplot(1, 1, 1)\n",
    "\n",
    "#ax1.plot(Libya_df_ind1.Year, Libya_df_ind1.Value, label='orig_cmbnd_ln_to_value', color='c',  linestyle='--')\n",
    "ax1 = sns.pointplot(x=Libya_df_ind1.Year, y=Libya_df_ind1.Value, data=Libya_df_ind1, ax=ax1, color=\"#4c337f\") \n",
    "ax1.set_title('Agricultural land (% of land area) in Libya')\n",
    "ax1.set_xlabel(\"Year\")\n",
    "ax1.set_ylabel(\"Agricultural land (% of land area)\")\n",
    "\n",
    "for ax in fig.axes:\n",
    "    plt.sca(ax)\n",
    "    plt.xticks(rotation=90)\n"
   ]
  },
  {
   "cell_type": "code",
   "execution_count": null,
   "metadata": {
    "collapsed": false
   },
   "outputs": [],
   "source": [
    "import seaborn as sns\n",
    "fig = plt.figure(figsize=(16,6))\n",
    "ax1 = fig.add_subplot(1, 1, 1)\n",
    "\n",
    "#ax1.plot(Libya_df_ind1.Year, Libya_df_ind1.Value, label='orig_cmbnd_ln_to_value', color='c',  linestyle='--')\n",
    "ax1 = sns.pointplot(x=Libya_df_ind2.Year, y=Libya_df_ind2.Value, data=Libya_df_ind2, ax=ax1, color=\"#4c337f\") \n",
    "ax1.set_title('Birth rate, crude (per 1,000 people) in Libya')\n",
    "ax1.set_xlabel(\"Year\")\n",
    "ax1.set_ylabel(\"Birth rate, crude (per 1,000 people)\")\n",
    "\n",
    "for ax in fig.axes:\n",
    "    plt.sca(ax)\n",
    "    plt.xticks(rotation=90)"
   ]
  },
  {
   "cell_type": "code",
   "execution_count": null,
   "metadata": {
    "collapsed": false
   },
   "outputs": [],
   "source": [
    "import seaborn as sns\n",
    "fig = plt.figure(figsize=(16,6))\n",
    "ax1 = fig.add_subplot(1, 1, 1)\n",
    "\n",
    "#ax1.plot(Libya_df_ind1.Year, Libya_df_ind1.Value, label='orig_cmbnd_ln_to_value', color='c',  linestyle='--')\n",
    "ax1 = sns.pointplot(x=Libya_df_ind3.Year, y=Libya_df_ind3.Value, data=Libya_df_ind3, ax=ax1, color=\"#4c337f\") \n",
    "ax1.set_title('Age dependency ratio (% of working-age population) in Libya')\n",
    "ax1.set_xlabel(\"Year\")\n",
    "ax1.set_ylabel(\"Age dependency ratio (% of working-age population)\")\n",
    "\n",
    "for ax in fig.axes:\n",
    "    plt.sca(ax)\n",
    "    plt.xticks(rotation=90)"
   ]
  },
  {
   "cell_type": "code",
   "execution_count": null,
   "metadata": {
    "collapsed": false
   },
   "outputs": [],
   "source": [
    "import seaborn as sns\n",
    "fig = plt.figure(figsize=(16,6))\n",
    "ax1 = fig.add_subplot(1, 1, 1)\n",
    "\n",
    "#ax1.plot(Libya_df_ind1.Year, Libya_df_ind1.Value, label='orig_cmbnd_ln_to_value', color='c',  linestyle='--')\n",
    "ax1 = sns.pointplot(x=Libya_df_ind4.Year, y=Libya_df_ind4.Value, data=Libya_df_ind4, ax=ax1, color=\"#4c337f\") \n",
    "ax1.set_title('Exports of goods and services (% of GDP) in Libya')\n",
    "ax1.set_xlabel(\"Year\")\n",
    "ax1.set_ylabel(\"Exports of goods and services (% of GDP)\")\n",
    "\n",
    "for ax in fig.axes:\n",
    "    plt.sca(ax)\n",
    "    plt.xticks(rotation=90)"
   ]
  },
  {
   "cell_type": "code",
   "execution_count": null,
   "metadata": {
    "collapsed": false
   },
   "outputs": [],
   "source": [
    "import seaborn as sns\n",
    "fig = plt.figure(figsize=(16,6))\n",
    "ax1 = fig.add_subplot(1, 1, 1)\n",
    "\n",
    "#ax1.plot(Libya_df_ind1.Year, Libya_df_ind1.Value, label='orig_cmbnd_ln_to_value', color='c',  linestyle='--')\n",
    "ax1 = sns.pointplot(x=Libya_df_ind5.Year, y=Libya_df_ind5.Value, data=Libya_df_ind5, ax=ax1, color=\"#4c337f\") \n",
    "ax1.set_title('GDP (current US$) in Libya')\n",
    "ax1.set_xlabel(\"Year\")\n",
    "ax1.set_ylabel(\"GDP (current US$)\")\n",
    "\n",
    "for ax in fig.axes:\n",
    "    plt.sca(ax)\n",
    "    plt.xticks(rotation=90)"
   ]
  },
  {
   "cell_type": "code",
   "execution_count": null,
   "metadata": {
    "collapsed": false
   },
   "outputs": [],
   "source": [
    "import seaborn as sns\n",
    "fig = plt.figure(figsize=(16,6))\n",
    "ax1 = fig.add_subplot(1, 1, 1)\n",
    "\n",
    "#ax1.plot(Libya_df_ind1.Year, Libya_df_ind1.Value, label='orig_cmbnd_ln_to_value', color='c',  linestyle='--')\n",
    "ax1 = sns.pointplot(x=Libya_df_ind6.Year, y=Libya_df_ind6.Value, data=Libya_df_ind6, ax=ax1, color=\"#4c337f\") \n",
    "ax1.set_title('GDP growth (annual %) in Libya')\n",
    "ax1.set_xlabel(\"Year\")\n",
    "ax1.set_ylabel(\"GDP growth (annual %)\")\n",
    "\n",
    "for ax in fig.axes:\n",
    "    plt.sca(ax)\n",
    "    plt.xticks(rotation=90)"
   ]
  },
  {
   "cell_type": "code",
   "execution_count": null,
   "metadata": {
    "collapsed": false
   },
   "outputs": [],
   "source": [
    "import seaborn as sns\n",
    "fig = plt.figure(figsize=(16,6))\n",
    "ax1 = fig.add_subplot(1, 1, 1)\n",
    "\n",
    "#ax1.plot(Libya_df_ind1.Year, Libya_df_ind1.Value, label='orig_cmbnd_ln_to_value', color='c',  linestyle='--')\n",
    "ax1 = sns.pointplot(x=Libya_df_ind7.Year, y=Libya_df_ind7.Value, data=Libya_df_ind7, ax=ax1, color=\"#4c337f\") \n",
    "ax1.set_title('Population growth (annual %) in Libya')\n",
    "ax1.set_xlabel(\"Year\")\n",
    "ax1.set_ylabel(\"Population growth (annual %)\")\n",
    "\n",
    "for ax in fig.axes:\n",
    "    plt.sca(ax)\n",
    "    plt.xticks(rotation=90)"
   ]
  },
  {
   "cell_type": "code",
   "execution_count": null,
   "metadata": {
    "collapsed": false
   },
   "outputs": [],
   "source": [
    "import seaborn as sns\n",
    "fig = plt.figure(figsize=(16,6))\n",
    "ax1 = fig.add_subplot(1, 1, 1)\n",
    "\n",
    "#ax1.plot(Libya_df_ind1.Year, Libya_df_ind1.Value, label='orig_cmbnd_ln_to_value', color='c',  linestyle='--')\n",
    "ax1 = sns.pointplot(x=Libya_df_ind8.Year, y=Libya_df_ind8.Value, data=Libya_df_ind8, ax=ax1, color=\"#4c337f\") \n",
    "ax1.set_title('Total reserves (includes gold, current US$) in Libya')\n",
    "ax1.set_xlabel(\"Year\")\n",
    "ax1.set_ylabel(\"Total reserves (includes gold, current US$)\")\n",
    "\n",
    "for ax in fig.axes:\n",
    "    plt.sca(ax)\n",
    "    plt.xticks(rotation=90)"
   ]
  },
  {
   "cell_type": "code",
   "execution_count": null,
   "metadata": {
    "collapsed": false
   },
   "outputs": [],
   "source": [
    "import seaborn as sns\n",
    "fig = plt.figure(figsize=(16,6))\n",
    "ax1 = fig.add_subplot(1, 1, 1)\n",
    "\n",
    "#ax1.plot(Libya_df_ind1.Year, Libya_df_ind1.Value, label='orig_cmbnd_ln_to_value', color='c',  linestyle='--')\n",
    "ax1 = sns.pointplot(x=Libya_df_ind9.Year, y=Libya_df_ind9.Value, data=Libya_df_ind9, ax=ax1, color=\"#4c337f\") \n",
    "ax1.set_title('Trade (% of GDP) in Libya')\n",
    "ax1.set_xlabel(\"Year\")\n",
    "ax1.set_ylabel(\"Trade (% of GDP)\")\n",
    "\n",
    "for ax in fig.axes:\n",
    "    plt.sca(ax)\n",
    "    plt.xticks(rotation=90)"
   ]
  },
  {
   "cell_type": "markdown",
   "metadata": {},
   "source": [
    "# Indicator Value Variance in South_Africa"
   ]
  },
  {
   "cell_type": "code",
   "execution_count": null,
   "metadata": {
    "collapsed": true
   },
   "outputs": [],
   "source": [
    "South_Africa_df_ind1 = indicator_data[(indicator_data['IndicatorCode'].isin(['AG.LND.AGRI.ZS'])) & \\\n",
    "                                      (indicator_data['CountryCode'] == 'ZA')]\n",
    "South_Africa_df_ind2 = indicator_data[(indicator_data['IndicatorCode'].isin(['SP.DYN.CBRT.IN'])) & \\\n",
    "                                      (indicator_data['CountryCode'] == 'ZA')]\n",
    "South_Africa_df_ind3 = indicator_data[(indicator_data['IndicatorCode'].isin(['SP.POP.DPND'])) & \\\n",
    "                                      (indicator_data['CountryCode'] == 'ZA')]\n",
    "South_Africa_df_ind4 = indicator_data[(indicator_data['IndicatorCode'].isin(['NE.EXP.GNFS.ZS'])) & \\\n",
    "                                      (indicator_data['CountryCode'] == 'ZA')]\n",
    "South_Africa_df_ind5 = indicator_data[(indicator_data['IndicatorCode'].isin(['NY.GDP.MKTP.CD'])) & \\\n",
    "                                      (indicator_data['CountryCode'] == 'ZA')]\n",
    "South_Africa_df_ind6 = indicator_data[(indicator_data['IndicatorCode'].isin(['NY.GDP.MKTP.KD.ZG'])) & \\\n",
    "                                      (indicator_data['CountryCode'] == 'ZA')]\n",
    "South_Africa_df_ind7 = indicator_data[(indicator_data['IndicatorCode'].isin(['SP.POP.GROW'])) & \\\n",
    "                                      (indicator_data['CountryCode'] == 'ZA')]\n",
    "South_Africa_df_ind8 = indicator_data[(indicator_data['IndicatorCode'].isin(['FI.RES.TOTL.CD'])) & \\\n",
    "                                      (indicator_data['CountryCode'] == 'ZA')]\n",
    "South_Africa_df_ind9 = indicator_data[(indicator_data['IndicatorCode'].isin(['NE.TRD.GNFS.ZS'])) & \\\n",
    "                                      (indicator_data['CountryCode'] == 'ZA')]"
   ]
  },
  {
   "cell_type": "code",
   "execution_count": null,
   "metadata": {
    "collapsed": false
   },
   "outputs": [],
   "source": [
    "import seaborn as sns\n",
    "fig = plt.figure(figsize=(16,6))\n",
    "ax1 = fig.add_subplot(1, 1, 1)\n",
    "\n",
    "#ax1.plot(South_Africa_df_ind1.Year, South_Africa_df_ind1.Value, label='orig_cmbnd_ln_to_value', color='c',  linestyle='--')\n",
    "ax1 = sns.pointplot(x=South_Africa_df_ind1.Year, y=South_Africa_df_ind1.Value, data=South_Africa_df_ind1, ax=ax1, color=\"#4c337f\") \n",
    "ax1.set_title('Agricultural land (% of land area) in South_Africa')\n",
    "ax1.set_xlabel(\"Year\")\n",
    "ax1.set_ylabel(\"Agricultural land (% of land area)\")\n",
    "\n",
    "for ax in fig.axes:\n",
    "    plt.sca(ax)\n",
    "    plt.xticks(rotation=90)"
   ]
  },
  {
   "cell_type": "code",
   "execution_count": null,
   "metadata": {
    "collapsed": false
   },
   "outputs": [],
   "source": [
    "import seaborn as sns\n",
    "fig = plt.figure(figsize=(16,6))\n",
    "ax1 = fig.add_subplot(1, 1, 1)\n",
    "\n",
    "#ax1.plot(South_Africa_df_ind1.Year, South_Africa_df_ind1.Value, label='orig_cmbnd_ln_to_value', color='c',  linestyle='--')\n",
    "ax1 = sns.pointplot(x=South_Africa_df_ind2.Year, y=South_Africa_df_ind2.Value, data=South_Africa_df_ind2, ax=ax1, color=\"#4c337f\") \n",
    "ax1.set_title('Birth rate, crude (per 1,000 people) in South_Africa')\n",
    "ax1.set_xlabel(\"Year\")\n",
    "ax1.set_ylabel(\"Birth rate, crude (per 1,000 people)\")\n",
    "\n",
    "for ax in fig.axes:\n",
    "    plt.sca(ax)\n",
    "    plt.xticks(rotation=90)"
   ]
  },
  {
   "cell_type": "code",
   "execution_count": null,
   "metadata": {
    "collapsed": false
   },
   "outputs": [],
   "source": [
    "import seaborn as sns\n",
    "fig = plt.figure(figsize=(16,6))\n",
    "ax1 = fig.add_subplot(1, 1, 1)\n",
    "\n",
    "#ax1.plot(South_Africa_df_ind1.Year, South_Africa_df_ind1.Value, label='orig_cmbnd_ln_to_value', color='c',  linestyle='--')\n",
    "ax1 = sns.pointplot(x=South_Africa_df_ind3.Year, y=South_Africa_df_ind3.Value, data=South_Africa_df_ind3, ax=ax1, color=\"#4c337f\") \n",
    "ax1.set_title('Age dependency ratio (% of working-age population) in South_Africa')\n",
    "ax1.set_xlabel(\"Year\")\n",
    "ax1.set_ylabel(\"Age dependency ratio (% of working-age population)\")\n",
    "\n",
    "for ax in fig.axes:\n",
    "    plt.sca(ax)\n",
    "    plt.xticks(rotation=90)"
   ]
  },
  {
   "cell_type": "code",
   "execution_count": null,
   "metadata": {
    "collapsed": false
   },
   "outputs": [],
   "source": [
    "import seaborn as sns\n",
    "fig = plt.figure(figsize=(16,6))\n",
    "ax1 = fig.add_subplot(1, 1, 1)\n",
    "\n",
    "#ax1.plot(South_Africa_df_ind1.Year, South_Africa_df_ind1.Value, label='orig_cmbnd_ln_to_value', color='c',  linestyle='--')\n",
    "ax1 = sns.pointplot(x=South_Africa_df_ind4.Year, y=South_Africa_df_ind4.Value, data=South_Africa_df_ind4, ax=ax1, color=\"#4c337f\") \n",
    "ax1.set_title('Exports of goods and services (% of GDP) in South_Africa')\n",
    "ax1.set_xlabel(\"Year\")\n",
    "ax1.set_ylabel(\"Exports of goods and services (% of GDP)\")\n",
    "\n",
    "for ax in fig.axes:\n",
    "    plt.sca(ax)\n",
    "    plt.xticks(rotation=90)"
   ]
  },
  {
   "cell_type": "code",
   "execution_count": null,
   "metadata": {
    "collapsed": false
   },
   "outputs": [],
   "source": [
    "import seaborn as sns\n",
    "fig = plt.figure(figsize=(16,6))\n",
    "ax1 = fig.add_subplot(1, 1, 1)\n",
    "\n",
    "#ax1.plot(South_Africa_df_ind1.Year, South_Africa_df_ind1.Value, label='orig_cmbnd_ln_to_value', color='c',  linestyle='--')\n",
    "ax1 = sns.pointplot(x=South_Africa_df_ind5.Year, y=South_Africa_df_ind5.Value, data=South_Africa_df_ind5, ax=ax1, color=\"#4c337f\") \n",
    "ax1.set_title('GDP (current US$) in South_Africa')\n",
    "ax1.set_xlabel(\"Year\")\n",
    "ax1.set_ylabel(\"GDP (current US$)\")\n",
    "\n",
    "for ax in fig.axes:\n",
    "    plt.sca(ax)\n",
    "    plt.xticks(rotation=90)"
   ]
  },
  {
   "cell_type": "code",
   "execution_count": null,
   "metadata": {
    "collapsed": false
   },
   "outputs": [],
   "source": [
    "import seaborn as sns\n",
    "fig = plt.figure(figsize=(16,6))\n",
    "ax1 = fig.add_subplot(1, 1, 1)\n",
    "\n",
    "#ax1.plot(South_Africa_df_ind1.Year, South_Africa_df_ind1.Value, label='orig_cmbnd_ln_to_value', color='c',  linestyle='--')\n",
    "ax1 = sns.pointplot(x=South_Africa_df_ind6.Year, y=South_Africa_df_ind6.Value, data=South_Africa_df_ind6, ax=ax1, color=\"#4c337f\") \n",
    "ax1.set_title('GDP growth (annual %) in South_Africa')\n",
    "ax1.set_xlabel(\"Year\")\n",
    "ax1.set_ylabel(\"GDP growth (annual %)\")\n",
    "\n",
    "for ax in fig.axes:\n",
    "    plt.sca(ax)\n",
    "    plt.xticks(rotation=90)"
   ]
  },
  {
   "cell_type": "code",
   "execution_count": null,
   "metadata": {
    "collapsed": false
   },
   "outputs": [],
   "source": [
    "import seaborn as sns\n",
    "fig = plt.figure(figsize=(16,6))\n",
    "ax1 = fig.add_subplot(1, 1, 1)\n",
    "\n",
    "#ax1.plot(South_Africa_df_ind1.Year, South_Africa_df_ind1.Value, label='orig_cmbnd_ln_to_value', color='c',  linestyle='--')\n",
    "ax1 = sns.pointplot(x=South_Africa_df_ind7.Year, y=South_Africa_df_ind7.Value, data=South_Africa_df_ind7, ax=ax1, color=\"#4c337f\") \n",
    "ax1.set_title('Population growth (annual %) in South_Africa')\n",
    "ax1.set_xlabel(\"Year\")\n",
    "ax1.set_ylabel(\"Population growth (annual %)\")\n",
    "\n",
    "for ax in fig.axes:\n",
    "    plt.sca(ax)\n",
    "    plt.xticks(rotation=90)"
   ]
  },
  {
   "cell_type": "code",
   "execution_count": null,
   "metadata": {
    "collapsed": false
   },
   "outputs": [],
   "source": [
    "import seaborn as sns\n",
    "fig = plt.figure(figsize=(16,6))\n",
    "ax1 = fig.add_subplot(1, 1, 1)\n",
    "\n",
    "#ax1.plot(South_Africa_df_ind1.Year, South_Africa_df_ind1.Value, label='orig_cmbnd_ln_to_value', color='c',  linestyle='--')\n",
    "ax1 = sns.pointplot(x=South_Africa_df_ind8.Year, y=South_Africa_df_ind8.Value, data=South_Africa_df_ind8, ax=ax1, color=\"#4c337f\") \n",
    "ax1.set_title('Total reserves (includes gold, current US$) in South_Africa')\n",
    "ax1.set_xlabel(\"Year\")\n",
    "ax1.set_ylabel(\"Total reserves (includes gold, current US$)\")\n",
    "\n",
    "for ax in fig.axes:\n",
    "    plt.sca(ax)\n",
    "    plt.xticks(rotation=90)\n"
   ]
  },
  {
   "cell_type": "code",
   "execution_count": null,
   "metadata": {
    "collapsed": false
   },
   "outputs": [],
   "source": [
    "import seaborn as sns\n",
    "fig = plt.figure(figsize=(16,6))\n",
    "ax1 = fig.add_subplot(1, 1, 1)\n",
    "\n",
    "#ax1.plot(South_Africa_df_ind1.Year, South_Africa_df_ind1.Value, label='orig_cmbnd_ln_to_value', color='c',  linestyle='--')\n",
    "ax1 = sns.pointplot(x=South_Africa_df_ind9.Year, y=South_Africa_df_ind9.Value, data=South_Africa_df_ind9, ax=ax1, color=\"#4c337f\") \n",
    "ax1.set_title('Trade (% of GDP) in South_Africa')\n",
    "ax1.set_xlabel(\"Year\")\n",
    "ax1.set_ylabel(\"Trade (% of GDP)\")\n",
    "\n",
    "for ax in fig.axes:\n",
    "    plt.sca(ax)\n",
    "    plt.xticks(rotation=90)"
   ]
  }
 ],
 "metadata": {
  "kernelspec": {
   "display_name": "Python 3",
   "language": "python",
   "name": "python3"
  },
  "language_info": {
   "codemirror_mode": {
    "name": "ipython",
    "version": 3
   },
   "file_extension": ".py",
   "mimetype": "text/x-python",
   "name": "python",
   "nbconvert_exporter": "python",
   "pygments_lexer": "ipython3",
   "version": "3.6.0"
  }
 },
 "nbformat": 4,
 "nbformat_minor": 2
}
