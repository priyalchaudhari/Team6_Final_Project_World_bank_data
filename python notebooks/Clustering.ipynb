{
 "cells": [
  {
   "cell_type": "code",
   "execution_count": 4,
   "metadata": {
    "collapsed": true
   },
   "outputs": [],
   "source": [
    "import json\n",
    "import requests\n",
    "import csv\n",
    "import pandas as pd\n",
    "import os\n",
    "import matplotlib.pylab as plt\n",
    "import numpy as np\n",
    "%matplotlib inline\n",
    "pd.options.mode.chained_assignment = None"
   ]
  },
  {
   "cell_type": "code",
   "execution_count": 5,
   "metadata": {
    "collapsed": false
   },
   "outputs": [
    {
     "data": {
      "text/html": [
       "<div>\n",
       "<style>\n",
       "    .dataframe thead tr:only-child th {\n",
       "        text-align: right;\n",
       "    }\n",
       "\n",
       "    .dataframe thead th {\n",
       "        text-align: left;\n",
       "    }\n",
       "\n",
       "    .dataframe tbody tr th {\n",
       "        vertical-align: top;\n",
       "    }\n",
       "</style>\n",
       "<table border=\"1\" class=\"dataframe\">\n",
       "  <thead>\n",
       "    <tr style=\"text-align: right;\">\n",
       "      <th></th>\n",
       "      <th>CountryName</th>\n",
       "      <th>CountryCode</th>\n",
       "      <th>IndicatorCode</th>\n",
       "      <th>Value</th>\n",
       "      <th>Value Description</th>\n",
       "    </tr>\n",
       "    <tr>\n",
       "      <th>Year</th>\n",
       "      <th></th>\n",
       "      <th></th>\n",
       "      <th></th>\n",
       "      <th></th>\n",
       "      <th></th>\n",
       "    </tr>\n",
       "  </thead>\n",
       "  <tbody>\n",
       "    <tr>\n",
       "      <th>2016-01-01</th>\n",
       "      <td>Argentina</td>\n",
       "      <td>AR</td>\n",
       "      <td>AG.LND.AGRI.ZS</td>\n",
       "      <td>54.335712</td>\n",
       "      <td>Agricultural land (% of land area)</td>\n",
       "    </tr>\n",
       "    <tr>\n",
       "      <th>2015-01-01</th>\n",
       "      <td>Argentina</td>\n",
       "      <td>AR</td>\n",
       "      <td>AG.LND.AGRI.ZS</td>\n",
       "      <td>54.335712</td>\n",
       "      <td>Agricultural land (% of land area)</td>\n",
       "    </tr>\n",
       "    <tr>\n",
       "      <th>2014-01-01</th>\n",
       "      <td>Argentina</td>\n",
       "      <td>AR</td>\n",
       "      <td>AG.LND.AGRI.ZS</td>\n",
       "      <td>54.335712</td>\n",
       "      <td>Agricultural land (% of land area)</td>\n",
       "    </tr>\n",
       "    <tr>\n",
       "      <th>2013-01-01</th>\n",
       "      <td>Argentina</td>\n",
       "      <td>AR</td>\n",
       "      <td>AG.LND.AGRI.ZS</td>\n",
       "      <td>54.518049</td>\n",
       "      <td>Agricultural land (% of land area)</td>\n",
       "    </tr>\n",
       "    <tr>\n",
       "      <th>2012-01-01</th>\n",
       "      <td>Argentina</td>\n",
       "      <td>AR</td>\n",
       "      <td>AG.LND.AGRI.ZS</td>\n",
       "      <td>54.538146</td>\n",
       "      <td>Agricultural land (% of land area)</td>\n",
       "    </tr>\n",
       "  </tbody>\n",
       "</table>\n",
       "</div>"
      ],
      "text/plain": [
       "           CountryName CountryCode   IndicatorCode      Value  \\\n",
       "Year                                                            \n",
       "2016-01-01   Argentina          AR  AG.LND.AGRI.ZS  54.335712   \n",
       "2015-01-01   Argentina          AR  AG.LND.AGRI.ZS  54.335712   \n",
       "2014-01-01   Argentina          AR  AG.LND.AGRI.ZS  54.335712   \n",
       "2013-01-01   Argentina          AR  AG.LND.AGRI.ZS  54.518049   \n",
       "2012-01-01   Argentina          AR  AG.LND.AGRI.ZS  54.538146   \n",
       "\n",
       "                             Value Description  \n",
       "Year                                            \n",
       "2016-01-01  Agricultural land (% of land area)  \n",
       "2015-01-01  Agricultural land (% of land area)  \n",
       "2014-01-01  Agricultural land (% of land area)  \n",
       "2013-01-01  Agricultural land (% of land area)  \n",
       "2012-01-01  Agricultural land (% of land area)  "
      ]
     },
     "execution_count": 5,
     "metadata": {},
     "output_type": "execute_result"
    }
   ],
   "source": [
    "dateparse = lambda dates: pd.datetime.strptime(dates, '%Y-%m-%d')\n",
    "indicator_data = pd.read_csv('Indicators_Cleaned.csv',parse_dates=True, index_col='Year',date_parser=dateparse, low_memory=False) \n",
    "indicator_data.head()"
   ]
  },
  {
   "cell_type": "code",
   "execution_count": 88,
   "metadata": {
    "collapsed": true
   },
   "outputs": [],
   "source": [
    "argentina_df_ind1 = indicator_data[(indicator_data['IndicatorCode'].isin(['AG.LND.AGRI.ZS'])) & \\\n",
    "                      (indicator_data['CountryCode'] == 'AR')]\n",
    "argentina_df_ind2 = indicator_data[(indicator_data['IndicatorCode'].isin(['SP.DYN.CBRT.IN'])) & \\\n",
    "                      (indicator_data['CountryCode'] == 'AR')]\n",
    "argentina_df_ind3 = indicator_data[(indicator_data['IndicatorCode'].isin(['SP.POP.DPND'])) & \\\n",
    "                      (indicator_data['CountryCode'] == 'AR')]\n",
    "argentina_df_ind4 = indicator_data[(indicator_data['IndicatorCode'].isin(['NE.EXP.GNFS.ZS'])) & \\\n",
    "                      (indicator_data['CountryCode'] == 'AR')]\n",
    "argentina_df_ind5 = indicator_data[(indicator_data['IndicatorCode'].isin(['NY.GDP.MKTP.CD'])) & \\\n",
    "                      (indicator_data['CountryCode'] == 'AR')]\n",
    "argentina_df_ind6 = indicator_data[(indicator_data['IndicatorCode'].isin(['NY.GDP.MKTP.KD.ZG'])) & \\\n",
    "                      (indicator_data['CountryCode'] == 'AR')]\n",
    "argentina_df_ind7 = indicator_data[(indicator_data['IndicatorCode'].isin(['SP.POP.GROW'])) & \\\n",
    "                      (indicator_data['CountryCode'] == 'AR')]\n",
    "argentina_df_ind8 = indicator_data[(indicator_data['IndicatorCode'].isin(['FI.RES.TOTL.CD'])) & \\\n",
    "                      (indicator_data['CountryCode'] == 'AR')]\n",
    "argentina_df_ind9 = indicator_data[(indicator_data['IndicatorCode'].isin(['NE.TRD.GNFS.ZS'])) & \\\n",
    "                      (indicator_data['CountryCode'] == 'AR')]"
   ]
  },
  {
   "cell_type": "code",
   "execution_count": 89,
   "metadata": {
    "collapsed": false
   },
   "outputs": [
    {
     "data": {
      "text/html": [
       "<div>\n",
       "<style>\n",
       "    .dataframe thead tr:only-child th {\n",
       "        text-align: right;\n",
       "    }\n",
       "\n",
       "    .dataframe thead th {\n",
       "        text-align: left;\n",
       "    }\n",
       "\n",
       "    .dataframe tbody tr th {\n",
       "        vertical-align: top;\n",
       "    }\n",
       "</style>\n",
       "<table border=\"1\" class=\"dataframe\">\n",
       "  <thead>\n",
       "    <tr style=\"text-align: right;\">\n",
       "      <th></th>\n",
       "      <th>CountryName</th>\n",
       "      <th>CountryCode</th>\n",
       "      <th>IndicatorCode</th>\n",
       "      <th>Value</th>\n",
       "      <th>Value Description</th>\n",
       "    </tr>\n",
       "    <tr>\n",
       "      <th>Year</th>\n",
       "      <th></th>\n",
       "      <th></th>\n",
       "      <th></th>\n",
       "      <th></th>\n",
       "      <th></th>\n",
       "    </tr>\n",
       "  </thead>\n",
       "  <tbody>\n",
       "    <tr>\n",
       "      <th>2016-01-01</th>\n",
       "      <td>Argentina</td>\n",
       "      <td>AR</td>\n",
       "      <td>AG.LND.AGRI.ZS</td>\n",
       "      <td>54.335712</td>\n",
       "      <td>Agricultural land (% of land area)</td>\n",
       "    </tr>\n",
       "    <tr>\n",
       "      <th>2015-01-01</th>\n",
       "      <td>Argentina</td>\n",
       "      <td>AR</td>\n",
       "      <td>AG.LND.AGRI.ZS</td>\n",
       "      <td>54.335712</td>\n",
       "      <td>Agricultural land (% of land area)</td>\n",
       "    </tr>\n",
       "    <tr>\n",
       "      <th>2014-01-01</th>\n",
       "      <td>Argentina</td>\n",
       "      <td>AR</td>\n",
       "      <td>AG.LND.AGRI.ZS</td>\n",
       "      <td>54.335712</td>\n",
       "      <td>Agricultural land (% of land area)</td>\n",
       "    </tr>\n",
       "    <tr>\n",
       "      <th>2013-01-01</th>\n",
       "      <td>Argentina</td>\n",
       "      <td>AR</td>\n",
       "      <td>AG.LND.AGRI.ZS</td>\n",
       "      <td>54.518049</td>\n",
       "      <td>Agricultural land (% of land area)</td>\n",
       "    </tr>\n",
       "    <tr>\n",
       "      <th>2012-01-01</th>\n",
       "      <td>Argentina</td>\n",
       "      <td>AR</td>\n",
       "      <td>AG.LND.AGRI.ZS</td>\n",
       "      <td>54.538146</td>\n",
       "      <td>Agricultural land (% of land area)</td>\n",
       "    </tr>\n",
       "    <tr>\n",
       "      <th>2011-01-01</th>\n",
       "      <td>Argentina</td>\n",
       "      <td>AR</td>\n",
       "      <td>AG.LND.AGRI.ZS</td>\n",
       "      <td>54.182607</td>\n",
       "      <td>Agricultural land (% of land area)</td>\n",
       "    </tr>\n",
       "    <tr>\n",
       "      <th>2010-01-01</th>\n",
       "      <td>Argentina</td>\n",
       "      <td>AR</td>\n",
       "      <td>AG.LND.AGRI.ZS</td>\n",
       "      <td>53.890284</td>\n",
       "      <td>Agricultural land (% of land area)</td>\n",
       "    </tr>\n",
       "    <tr>\n",
       "      <th>2009-01-01</th>\n",
       "      <td>Argentina</td>\n",
       "      <td>AR</td>\n",
       "      <td>AG.LND.AGRI.ZS</td>\n",
       "      <td>52.542305</td>\n",
       "      <td>Agricultural land (% of land area)</td>\n",
       "    </tr>\n",
       "    <tr>\n",
       "      <th>2008-01-01</th>\n",
       "      <td>Argentina</td>\n",
       "      <td>AR</td>\n",
       "      <td>AG.LND.AGRI.ZS</td>\n",
       "      <td>52.713680</td>\n",
       "      <td>Agricultural land (% of land area)</td>\n",
       "    </tr>\n",
       "    <tr>\n",
       "      <th>2007-01-01</th>\n",
       "      <td>Argentina</td>\n",
       "      <td>AR</td>\n",
       "      <td>AG.LND.AGRI.ZS</td>\n",
       "      <td>52.630367</td>\n",
       "      <td>Agricultural land (% of land area)</td>\n",
       "    </tr>\n",
       "    <tr>\n",
       "      <th>2006-01-01</th>\n",
       "      <td>Argentina</td>\n",
       "      <td>AR</td>\n",
       "      <td>AG.LND.AGRI.ZS</td>\n",
       "      <td>51.560096</td>\n",
       "      <td>Agricultural land (% of land area)</td>\n",
       "    </tr>\n",
       "    <tr>\n",
       "      <th>2005-01-01</th>\n",
       "      <td>Argentina</td>\n",
       "      <td>AR</td>\n",
       "      <td>AG.LND.AGRI.ZS</td>\n",
       "      <td>50.351885</td>\n",
       "      <td>Agricultural land (% of land area)</td>\n",
       "    </tr>\n",
       "    <tr>\n",
       "      <th>2004-01-01</th>\n",
       "      <td>Argentina</td>\n",
       "      <td>AR</td>\n",
       "      <td>AG.LND.AGRI.ZS</td>\n",
       "      <td>49.090324</td>\n",
       "      <td>Agricultural land (% of land area)</td>\n",
       "    </tr>\n",
       "    <tr>\n",
       "      <th>2003-01-01</th>\n",
       "      <td>Argentina</td>\n",
       "      <td>AR</td>\n",
       "      <td>AG.LND.AGRI.ZS</td>\n",
       "      <td>47.825475</td>\n",
       "      <td>Agricultural land (% of land area)</td>\n",
       "    </tr>\n",
       "    <tr>\n",
       "      <th>2002-01-01</th>\n",
       "      <td>Argentina</td>\n",
       "      <td>AR</td>\n",
       "      <td>AG.LND.AGRI.ZS</td>\n",
       "      <td>47.031268</td>\n",
       "      <td>Agricultural land (% of land area)</td>\n",
       "    </tr>\n",
       "    <tr>\n",
       "      <th>2001-01-01</th>\n",
       "      <td>Argentina</td>\n",
       "      <td>AR</td>\n",
       "      <td>AG.LND.AGRI.ZS</td>\n",
       "      <td>46.993266</td>\n",
       "      <td>Agricultural land (% of land area)</td>\n",
       "    </tr>\n",
       "    <tr>\n",
       "      <th>2000-01-01</th>\n",
       "      <td>Argentina</td>\n",
       "      <td>AR</td>\n",
       "      <td>AG.LND.AGRI.ZS</td>\n",
       "      <td>46.958187</td>\n",
       "      <td>Agricultural land (% of land area)</td>\n",
       "    </tr>\n",
       "    <tr>\n",
       "      <th>1999-01-01</th>\n",
       "      <td>Argentina</td>\n",
       "      <td>AR</td>\n",
       "      <td>AG.LND.AGRI.ZS</td>\n",
       "      <td>46.922377</td>\n",
       "      <td>Agricultural land (% of land area)</td>\n",
       "    </tr>\n",
       "    <tr>\n",
       "      <th>1998-01-01</th>\n",
       "      <td>Argentina</td>\n",
       "      <td>AR</td>\n",
       "      <td>AG.LND.AGRI.ZS</td>\n",
       "      <td>46.892414</td>\n",
       "      <td>Agricultural land (% of land area)</td>\n",
       "    </tr>\n",
       "    <tr>\n",
       "      <th>1997-01-01</th>\n",
       "      <td>Argentina</td>\n",
       "      <td>AR</td>\n",
       "      <td>AG.LND.AGRI.ZS</td>\n",
       "      <td>46.857700</td>\n",
       "      <td>Agricultural land (% of land area)</td>\n",
       "    </tr>\n",
       "  </tbody>\n",
       "</table>\n",
       "</div>"
      ],
      "text/plain": [
       "           CountryName CountryCode   IndicatorCode      Value  \\\n",
       "Year                                                            \n",
       "2016-01-01   Argentina          AR  AG.LND.AGRI.ZS  54.335712   \n",
       "2015-01-01   Argentina          AR  AG.LND.AGRI.ZS  54.335712   \n",
       "2014-01-01   Argentina          AR  AG.LND.AGRI.ZS  54.335712   \n",
       "2013-01-01   Argentina          AR  AG.LND.AGRI.ZS  54.518049   \n",
       "2012-01-01   Argentina          AR  AG.LND.AGRI.ZS  54.538146   \n",
       "2011-01-01   Argentina          AR  AG.LND.AGRI.ZS  54.182607   \n",
       "2010-01-01   Argentina          AR  AG.LND.AGRI.ZS  53.890284   \n",
       "2009-01-01   Argentina          AR  AG.LND.AGRI.ZS  52.542305   \n",
       "2008-01-01   Argentina          AR  AG.LND.AGRI.ZS  52.713680   \n",
       "2007-01-01   Argentina          AR  AG.LND.AGRI.ZS  52.630367   \n",
       "2006-01-01   Argentina          AR  AG.LND.AGRI.ZS  51.560096   \n",
       "2005-01-01   Argentina          AR  AG.LND.AGRI.ZS  50.351885   \n",
       "2004-01-01   Argentina          AR  AG.LND.AGRI.ZS  49.090324   \n",
       "2003-01-01   Argentina          AR  AG.LND.AGRI.ZS  47.825475   \n",
       "2002-01-01   Argentina          AR  AG.LND.AGRI.ZS  47.031268   \n",
       "2001-01-01   Argentina          AR  AG.LND.AGRI.ZS  46.993266   \n",
       "2000-01-01   Argentina          AR  AG.LND.AGRI.ZS  46.958187   \n",
       "1999-01-01   Argentina          AR  AG.LND.AGRI.ZS  46.922377   \n",
       "1998-01-01   Argentina          AR  AG.LND.AGRI.ZS  46.892414   \n",
       "1997-01-01   Argentina          AR  AG.LND.AGRI.ZS  46.857700   \n",
       "\n",
       "                             Value Description  \n",
       "Year                                            \n",
       "2016-01-01  Agricultural land (% of land area)  \n",
       "2015-01-01  Agricultural land (% of land area)  \n",
       "2014-01-01  Agricultural land (% of land area)  \n",
       "2013-01-01  Agricultural land (% of land area)  \n",
       "2012-01-01  Agricultural land (% of land area)  \n",
       "2011-01-01  Agricultural land (% of land area)  \n",
       "2010-01-01  Agricultural land (% of land area)  \n",
       "2009-01-01  Agricultural land (% of land area)  \n",
       "2008-01-01  Agricultural land (% of land area)  \n",
       "2007-01-01  Agricultural land (% of land area)  \n",
       "2006-01-01  Agricultural land (% of land area)  \n",
       "2005-01-01  Agricultural land (% of land area)  \n",
       "2004-01-01  Agricultural land (% of land area)  \n",
       "2003-01-01  Agricultural land (% of land area)  \n",
       "2002-01-01  Agricultural land (% of land area)  \n",
       "2001-01-01  Agricultural land (% of land area)  \n",
       "2000-01-01  Agricultural land (% of land area)  \n",
       "1999-01-01  Agricultural land (% of land area)  \n",
       "1998-01-01  Agricultural land (% of land area)  \n",
       "1997-01-01  Agricultural land (% of land area)  "
      ]
     },
     "execution_count": 89,
     "metadata": {},
     "output_type": "execute_result"
    }
   ],
   "source": [
    "argentina_df_ind1.head(20)"
   ]
  },
  {
   "cell_type": "code",
   "execution_count": 10,
   "metadata": {
    "collapsed": false
   },
   "outputs": [
    {
     "data": {
      "text/plain": [
       "DatetimeIndex(['2016-01-01', '2015-01-01', '2014-01-01', '2013-01-01',\n",
       "               '2012-01-01', '2011-01-01', '2010-01-01', '2009-01-01',\n",
       "               '2008-01-01', '2007-01-01', '2006-01-01', '2005-01-01',\n",
       "               '2004-01-01', '2003-01-01', '2002-01-01', '2001-01-01',\n",
       "               '2000-01-01', '1999-01-01', '1998-01-01', '1997-01-01',\n",
       "               '1996-01-01', '1995-01-01', '1994-01-01', '1993-01-01',\n",
       "               '1992-01-01', '1991-01-01', '1990-01-01', '1989-01-01',\n",
       "               '1988-01-01', '1987-01-01', '1986-01-01', '1985-01-01',\n",
       "               '1984-01-01', '1983-01-01', '1982-01-01', '1981-01-01',\n",
       "               '1980-01-01', '1979-01-01', '1978-01-01', '1977-01-01',\n",
       "               '1976-01-01', '1975-01-01', '1974-01-01', '1973-01-01',\n",
       "               '1972-01-01', '1971-01-01', '1970-01-01', '1969-01-01',\n",
       "               '1968-01-01', '1967-01-01', '1966-01-01', '1965-01-01',\n",
       "               '1964-01-01', '1963-01-01', '1962-01-01', '1961-01-01',\n",
       "               '1960-01-01'],\n",
       "              dtype='datetime64[ns]', name='Year', freq=None)"
      ]
     },
     "execution_count": 10,
     "metadata": {},
     "output_type": "execute_result"
    }
   ],
   "source": [
    "argentina_df_ind1.index"
   ]
  },
  {
   "cell_type": "code",
   "execution_count": 11,
   "metadata": {
    "collapsed": false
   },
   "outputs": [
    {
     "data": {
      "text/plain": [
       "Year\n",
       "2016-01-01    54.335712\n",
       "2015-01-01    54.335712\n",
       "2014-01-01    54.335712\n",
       "2013-01-01    54.518049\n",
       "2012-01-01    54.538146\n",
       "2011-01-01    54.182607\n",
       "2010-01-01    53.890284\n",
       "2009-01-01    52.542305\n",
       "2008-01-01    52.713680\n",
       "2007-01-01    52.630367\n",
       "Name: Value, dtype: float64"
      ]
     },
     "execution_count": 11,
     "metadata": {},
     "output_type": "execute_result"
    }
   ],
   "source": [
    "ts = argentina_df_ind1['Value'] \n",
    "ts.head(10)"
   ]
  },
  {
   "cell_type": "code",
   "execution_count": 12,
   "metadata": {
    "collapsed": false
   },
   "outputs": [
    {
     "data": {
      "text/plain": [
       "[<matplotlib.lines.Line2D at 0x1b18f80f630>]"
      ]
     },
     "execution_count": 12,
     "metadata": {},
     "output_type": "execute_result"
    },
    {
     "data": {
      "image/png": "[encoded data removed]",
      "text/plain": [
       "<matplotlib.figure.Figure at 0x1b18f447710>"
      ]
     },
     "metadata": {},
     "output_type": "display_data"
    }
   ],
   "source": [
    "plt.plot(ts)"
   ]
  },
  {
   "cell_type": "code",
   "execution_count": 13,
   "metadata": {
    "collapsed": false
   },
   "outputs": [
    {
     "name": "stderr",
     "output_type": "stream",
     "text": [
      "C:\\Users\\sup33\\Anaconda3\\lib\\site-packages\\statsmodels\\compat\\pandas.py:56: FutureWarning: The pandas.core.datetools module is deprecated and will be removed in a future version. Please use the pandas.tseries module instead.\n",
      "  from pandas.core import datetools\n",
      "C:\\Users\\sup33\\Anaconda3\\lib\\site-packages\\ipykernel_launcher.py:5: FutureWarning: pd.rolling_mean is deprecated for Series and will be removed in a future version, replace with \n",
      "\tSeries.rolling(window=12,center=False).mean()\n",
      "  \"\"\"\n",
      "C:\\Users\\sup33\\Anaconda3\\lib\\site-packages\\ipykernel_launcher.py:6: FutureWarning: pd.rolling_std is deprecated for Series and will be removed in a future version, replace with \n",
      "\tSeries.rolling(window=12,center=False).std()\n",
      "  \n"
     ]
    },
    {
     "data": {
      "image/png": "[encoded data removed]",
      "text/plain": [
       "<matplotlib.figure.Figure at 0x1b1914f3860>"
      ]
     },
     "metadata": {},
     "output_type": "display_data"
    },
    {
     "name": "stdout",
     "output_type": "stream",
     "text": [
      "Results of Dickey-Fuller Test:\n",
      "Test Statistic                 -5.316516\n",
      "p-value                         0.000005\n",
      "#Lags Used                      8.000000\n",
      "Number of Observations Used    48.000000\n",
      "Critical Value (1%)            -3.574589\n",
      "Critical Value (5%)            -2.923954\n",
      "Critical Value (10%)           -2.600039\n",
      "dtype: float64\n"
     ]
    }
   ],
   "source": [
    "from statsmodels.tsa.stattools import adfuller\n",
    "def test_stationarity(timeseries):\n",
    "    \n",
    "    #Determing rolling statistics\n",
    "    rolmean = pd.rolling_mean(timeseries, window=12)\n",
    "    rolstd = pd.rolling_std(timeseries, window=12)\n",
    "\n",
    "    #Plot rolling statistics:\n",
    "    orig = plt.plot(timeseries, color='blue',label='Original')\n",
    "    mean = plt.plot(rolmean, color='red', label='Rolling Mean')\n",
    "    std = plt.plot(rolstd, color='black', label = 'Rolling Std')\n",
    "    plt.legend(loc='best')\n",
    "    plt.title('Rolling Mean & Standard Deviation')\n",
    "    plt.show(block=False)\n",
    "    \n",
    "    #Perform Dickey-Fuller test:\n",
    "    print ('Results of Dickey-Fuller Test:')\n",
    "    dftest = adfuller(timeseries, autolag='AIC')\n",
    "    dfoutput = pd.Series(dftest[0:4], index=['Test Statistic','p-value','#Lags Used','Number of Observations Used'])\n",
    "    for key,value in dftest[4].items():\n",
    "        dfoutput['Critical Value (%s)'%key] = value\n",
    "    print (dfoutput)\n",
    "test_stationarity(ts)"
   ]
  },
  {
   "cell_type": "code",
   "execution_count": 14,
   "metadata": {
    "collapsed": false
   },
   "outputs": [
    {
     "data": {
      "text/plain": [
       "[<matplotlib.lines.Line2D at 0x1b1915b99e8>]"
      ]
     },
     "execution_count": 14,
     "metadata": {},
     "output_type": "execute_result"
    },
    {
     "data": {
      "image/png": "[encoded data removed]",
      "text/plain": [
       "<matplotlib.figure.Figure at 0x1b18f8ceb00>"
      ]
     },
     "metadata": {},
     "output_type": "display_data"
    }
   ],
   "source": [
    "ts_log = np.log(ts)\n",
    "plt.plot(ts_log)"
   ]
  },
  {
   "cell_type": "code",
   "execution_count": 15,
   "metadata": {
    "collapsed": false
   },
   "outputs": [
    {
     "name": "stderr",
     "output_type": "stream",
     "text": [
      "C:\\Users\\sup33\\Anaconda3\\lib\\site-packages\\ipykernel_launcher.py:1: FutureWarning: pd.rolling_mean is deprecated for Series and will be removed in a future version, replace with \n",
      "\tSeries.rolling(window=56,center=False).mean()\n",
      "  \"\"\"Entry point for launching an IPython kernel.\n"
     ]
    },
    {
     "data": {
      "text/plain": [
       "[<matplotlib.lines.Line2D at 0x1b1915b9898>]"
      ]
     },
     "execution_count": 15,
     "metadata": {},
     "output_type": "execute_result"
    },
    {
     "data": {
      "image/png": "[encoded data removed]",
      "text/plain": [
       "<matplotlib.figure.Figure at 0x1b1915b9dd8>"
      ]
     },
     "metadata": {},
     "output_type": "display_data"
    }
   ],
   "source": [
    "moving_avg = pd.rolling_mean(ts_log,56)\n",
    "plt.plot(ts_log)\n",
    "plt.plot(moving_avg, color='red')"
   ]
  },
  {
   "cell_type": "code",
   "execution_count": 25,
   "metadata": {
    "collapsed": false
   },
   "outputs": [
    {
     "data": {
      "text/plain": [
       "Year\n",
       "2016-01-01         NaN\n",
       "2015-01-01         NaN\n",
       "2014-01-01         NaN\n",
       "2013-01-01         NaN\n",
       "2012-01-01         NaN\n",
       "2011-01-01         NaN\n",
       "2010-01-01         NaN\n",
       "2009-01-01         NaN\n",
       "2008-01-01         NaN\n",
       "2007-01-01         NaN\n",
       "2006-01-01         NaN\n",
       "2005-01-01         NaN\n",
       "2004-01-01         NaN\n",
       "2003-01-01         NaN\n",
       "2002-01-01         NaN\n",
       "2001-01-01         NaN\n",
       "2000-01-01         NaN\n",
       "1999-01-01         NaN\n",
       "1998-01-01         NaN\n",
       "1997-01-01         NaN\n",
       "1996-01-01         NaN\n",
       "1995-01-01         NaN\n",
       "1994-01-01         NaN\n",
       "1993-01-01         NaN\n",
       "1992-01-01         NaN\n",
       "1991-01-01         NaN\n",
       "1990-01-01         NaN\n",
       "1989-01-01         NaN\n",
       "1988-01-01         NaN\n",
       "1987-01-01         NaN\n",
       "1986-01-01         NaN\n",
       "1985-01-01         NaN\n",
       "1984-01-01         NaN\n",
       "1983-01-01         NaN\n",
       "1982-01-01         NaN\n",
       "1981-01-01         NaN\n",
       "1980-01-01         NaN\n",
       "1979-01-01         NaN\n",
       "1978-01-01         NaN\n",
       "1977-01-01         NaN\n",
       "1976-01-01         NaN\n",
       "1975-01-01         NaN\n",
       "1974-01-01         NaN\n",
       "1973-01-01         NaN\n",
       "1972-01-01         NaN\n",
       "1971-01-01         NaN\n",
       "1970-01-01         NaN\n",
       "1969-01-01         NaN\n",
       "1968-01-01         NaN\n",
       "1967-01-01         NaN\n",
       "1966-01-01         NaN\n",
       "1965-01-01         NaN\n",
       "1964-01-01         NaN\n",
       "1963-01-01         NaN\n",
       "1962-01-01         NaN\n",
       "1961-01-01    0.037628\n",
       "Name: Value, dtype: float64"
      ]
     },
     "execution_count": 25,
     "metadata": {},
     "output_type": "execute_result"
    }
   ],
   "source": [
    "ts_log_moving_avg_diff = ts_log - moving_avg\n",
    "ts_log_moving_avg_diff.head(56)"
   ]
  },
  {
   "cell_type": "code",
   "execution_count": 65,
   "metadata": {
    "collapsed": false
   },
   "outputs": [
    {
     "name": "stderr",
     "output_type": "stream",
     "text": [
      "C:\\Users\\sup33\\Anaconda3\\lib\\site-packages\\ipykernel_launcher.py:5: FutureWarning: pd.rolling_mean is deprecated for Series and will be removed in a future version, replace with \n",
      "\tSeries.rolling(window=12,center=False).mean()\n",
      "  \"\"\"\n",
      "C:\\Users\\sup33\\Anaconda3\\lib\\site-packages\\ipykernel_launcher.py:6: FutureWarning: pd.rolling_std is deprecated for Series and will be removed in a future version, replace with \n",
      "\tSeries.rolling(window=12,center=False).std()\n",
      "  \n"
     ]
    },
    {
     "data": {
      "image/png": "[encoded data removed]",
      "text/plain": [
       "<matplotlib.figure.Figure at 0x1b194ccf518>"
      ]
     },
     "metadata": {},
     "output_type": "display_data"
    },
    {
     "name": "stdout",
     "output_type": "stream",
     "text": [
      "Results of Dickey-Fuller Test:\n"
     ]
    },
    {
     "ename": "ValueError",
     "evalue": "maxlag should be < nobs",
     "output_type": "error",
     "traceback": [
      "\u001b[1;31m---------------------------------------------------------------------------\u001b[0m",
      "\u001b[1;31mValueError\u001b[0m                                Traceback (most recent call last)",
      "\u001b[1;32m<ipython-input-65-eba4dd26e092>\u001b[0m in \u001b[0;36m<module>\u001b[1;34m()\u001b[0m\n\u001b[0;32m      1\u001b[0m \u001b[0mts_log_moving_avg_diff\u001b[0m\u001b[1;33m.\u001b[0m\u001b[0mdropna\u001b[0m\u001b[1;33m(\u001b[0m\u001b[0minplace\u001b[0m\u001b[1;33m=\u001b[0m\u001b[1;32mTrue\u001b[0m\u001b[1;33m)\u001b[0m\u001b[1;33m\u001b[0m\u001b[0m\n\u001b[1;32m----> 2\u001b[1;33m \u001b[0mtest_stationarity\u001b[0m\u001b[1;33m(\u001b[0m\u001b[0mts_log_moving_avg_diff\u001b[0m\u001b[1;33m)\u001b[0m\u001b[1;33m\u001b[0m\u001b[0m\n\u001b[0m",
      "\u001b[1;32m<ipython-input-13-aa2cec05a607>\u001b[0m in \u001b[0;36mtest_stationarity\u001b[1;34m(timeseries)\u001b[0m\n\u001b[0;32m     16\u001b[0m     \u001b[1;31m#Perform Dickey-Fuller test:\u001b[0m\u001b[1;33m\u001b[0m\u001b[1;33m\u001b[0m\u001b[0m\n\u001b[0;32m     17\u001b[0m     \u001b[0mprint\u001b[0m \u001b[1;33m(\u001b[0m\u001b[1;34m'Results of Dickey-Fuller Test:'\u001b[0m\u001b[1;33m)\u001b[0m\u001b[1;33m\u001b[0m\u001b[0m\n\u001b[1;32m---> 18\u001b[1;33m     \u001b[0mdftest\u001b[0m \u001b[1;33m=\u001b[0m \u001b[0madfuller\u001b[0m\u001b[1;33m(\u001b[0m\u001b[0mtimeseries\u001b[0m\u001b[1;33m,\u001b[0m \u001b[0mautolag\u001b[0m\u001b[1;33m=\u001b[0m\u001b[1;34m'AIC'\u001b[0m\u001b[1;33m)\u001b[0m\u001b[1;33m\u001b[0m\u001b[0m\n\u001b[0m\u001b[0;32m     19\u001b[0m     \u001b[0mdfoutput\u001b[0m \u001b[1;33m=\u001b[0m \u001b[0mpd\u001b[0m\u001b[1;33m.\u001b[0m\u001b[0mSeries\u001b[0m\u001b[1;33m(\u001b[0m\u001b[0mdftest\u001b[0m\u001b[1;33m[\u001b[0m\u001b[1;36m0\u001b[0m\u001b[1;33m:\u001b[0m\u001b[1;36m4\u001b[0m\u001b[1;33m]\u001b[0m\u001b[1;33m,\u001b[0m \u001b[0mindex\u001b[0m\u001b[1;33m=\u001b[0m\u001b[1;33m[\u001b[0m\u001b[1;34m'Test Statistic'\u001b[0m\u001b[1;33m,\u001b[0m\u001b[1;34m'p-value'\u001b[0m\u001b[1;33m,\u001b[0m\u001b[1;34m'#Lags Used'\u001b[0m\u001b[1;33m,\u001b[0m\u001b[1;34m'Number of Observations Used'\u001b[0m\u001b[1;33m]\u001b[0m\u001b[1;33m)\u001b[0m\u001b[1;33m\u001b[0m\u001b[0m\n\u001b[0;32m     20\u001b[0m     \u001b[1;32mfor\u001b[0m \u001b[0mkey\u001b[0m\u001b[1;33m,\u001b[0m\u001b[0mvalue\u001b[0m \u001b[1;32min\u001b[0m \u001b[0mdftest\u001b[0m\u001b[1;33m[\u001b[0m\u001b[1;36m4\u001b[0m\u001b[1;33m]\u001b[0m\u001b[1;33m.\u001b[0m\u001b[0mitems\u001b[0m\u001b[1;33m(\u001b[0m\u001b[1;33m)\u001b[0m\u001b[1;33m:\u001b[0m\u001b[1;33m\u001b[0m\u001b[0m\n",
      "\u001b[1;32mC:\\Users\\sup33\\Anaconda3\\lib\\site-packages\\statsmodels\\tsa\\stattools.py\u001b[0m in \u001b[0;36madfuller\u001b[1;34m(x, maxlag, regression, autolag, store, regresults)\u001b[0m\n\u001b[0;32m    218\u001b[0m \u001b[1;33m\u001b[0m\u001b[0m\n\u001b[0;32m    219\u001b[0m     \u001b[0mxdiff\u001b[0m \u001b[1;33m=\u001b[0m \u001b[0mnp\u001b[0m\u001b[1;33m.\u001b[0m\u001b[0mdiff\u001b[0m\u001b[1;33m(\u001b[0m\u001b[0mx\u001b[0m\u001b[1;33m)\u001b[0m\u001b[1;33m\u001b[0m\u001b[0m\n\u001b[1;32m--> 220\u001b[1;33m     \u001b[0mxdall\u001b[0m \u001b[1;33m=\u001b[0m \u001b[0mlagmat\u001b[0m\u001b[1;33m(\u001b[0m\u001b[0mxdiff\u001b[0m\u001b[1;33m[\u001b[0m\u001b[1;33m:\u001b[0m\u001b[1;33m,\u001b[0m \u001b[1;32mNone\u001b[0m\u001b[1;33m]\u001b[0m\u001b[1;33m,\u001b[0m \u001b[0mmaxlag\u001b[0m\u001b[1;33m,\u001b[0m \u001b[0mtrim\u001b[0m\u001b[1;33m=\u001b[0m\u001b[1;34m'both'\u001b[0m\u001b[1;33m,\u001b[0m \u001b[0moriginal\u001b[0m\u001b[1;33m=\u001b[0m\u001b[1;34m'in'\u001b[0m\u001b[1;33m)\u001b[0m\u001b[1;33m\u001b[0m\u001b[0m\n\u001b[0m\u001b[0;32m    221\u001b[0m     \u001b[0mnobs\u001b[0m \u001b[1;33m=\u001b[0m \u001b[0mxdall\u001b[0m\u001b[1;33m.\u001b[0m\u001b[0mshape\u001b[0m\u001b[1;33m[\u001b[0m\u001b[1;36m0\u001b[0m\u001b[1;33m]\u001b[0m  \u001b[1;31m# pylint: disable=E1103\u001b[0m\u001b[1;33m\u001b[0m\u001b[0m\n\u001b[0;32m    222\u001b[0m \u001b[1;33m\u001b[0m\u001b[0m\n",
      "\u001b[1;32mC:\\Users\\sup33\\Anaconda3\\lib\\site-packages\\statsmodels\\tsa\\tsatools.py\u001b[0m in \u001b[0;36mlagmat\u001b[1;34m(x, maxlag, trim, original, use_pandas)\u001b[0m\n\u001b[0;32m    377\u001b[0m         \u001b[0mdropidx\u001b[0m \u001b[1;33m=\u001b[0m \u001b[0mnvar\u001b[0m\u001b[1;33m\u001b[0m\u001b[0m\n\u001b[0;32m    378\u001b[0m     \u001b[1;32mif\u001b[0m \u001b[0mmaxlag\u001b[0m \u001b[1;33m>=\u001b[0m \u001b[0mnobs\u001b[0m\u001b[1;33m:\u001b[0m\u001b[1;33m\u001b[0m\u001b[0m\n\u001b[1;32m--> 379\u001b[1;33m         \u001b[1;32mraise\u001b[0m \u001b[0mValueError\u001b[0m\u001b[1;33m(\u001b[0m\u001b[1;34m\"maxlag should be < nobs\"\u001b[0m\u001b[1;33m)\u001b[0m\u001b[1;33m\u001b[0m\u001b[0m\n\u001b[0m\u001b[0;32m    380\u001b[0m     \u001b[0mlm\u001b[0m \u001b[1;33m=\u001b[0m \u001b[0mnp\u001b[0m\u001b[1;33m.\u001b[0m\u001b[0mzeros\u001b[0m\u001b[1;33m(\u001b[0m\u001b[1;33m(\u001b[0m\u001b[0mnobs\u001b[0m \u001b[1;33m+\u001b[0m \u001b[0mmaxlag\u001b[0m\u001b[1;33m,\u001b[0m \u001b[0mnvar\u001b[0m \u001b[1;33m*\u001b[0m \u001b[1;33m(\u001b[0m\u001b[0mmaxlag\u001b[0m \u001b[1;33m+\u001b[0m \u001b[1;36m1\u001b[0m\u001b[1;33m)\u001b[0m\u001b[1;33m)\u001b[0m\u001b[1;33m)\u001b[0m\u001b[1;33m\u001b[0m\u001b[0m\n\u001b[0;32m    381\u001b[0m     \u001b[1;32mfor\u001b[0m \u001b[0mk\u001b[0m \u001b[1;32min\u001b[0m \u001b[0mrange\u001b[0m\u001b[1;33m(\u001b[0m\u001b[1;36m0\u001b[0m\u001b[1;33m,\u001b[0m \u001b[0mint\u001b[0m\u001b[1;33m(\u001b[0m\u001b[0mmaxlag\u001b[0m \u001b[1;33m+\u001b[0m \u001b[1;36m1\u001b[0m\u001b[1;33m)\u001b[0m\u001b[1;33m)\u001b[0m\u001b[1;33m:\u001b[0m\u001b[1;33m\u001b[0m\u001b[0m\n",
      "\u001b[1;31mValueError\u001b[0m: maxlag should be < nobs"
     ]
    }
   ],
   "source": [
    "ts_log_moving_avg_diff.dropna(inplace=True)\n",
    "test_stationarity(ts_log_moving_avg_diff)"
   ]
  },
  {
   "cell_type": "code",
   "execution_count": 66,
   "metadata": {
    "collapsed": false
   },
   "outputs": [
    {
     "data": {
      "text/plain": [
       "[<matplotlib.lines.Line2D at 0x1b194f957b8>]"
      ]
     },
     "execution_count": 66,
     "metadata": {},
     "output_type": "execute_result"
    },
    {
     "data": {
      "image/png": "[encoded data removed]",
      "text/plain": [
       "<matplotlib.figure.Figure at 0x1b194f42e48>"
      ]
     },
     "metadata": {},
     "output_type": "display_data"
    }
   ],
   "source": [
    "ts_log_diff = ts_log - ts_log.shift()\n",
    "plt.plot(ts_log_diff)"
   ]
  },
  {
   "cell_type": "code",
   "execution_count": 69,
   "metadata": {
    "collapsed": false
   },
   "outputs": [
    {
     "name": "stderr",
     "output_type": "stream",
     "text": [
      "C:\\Users\\sup33\\Anaconda3\\lib\\site-packages\\ipykernel_launcher.py:5: FutureWarning: pd.rolling_mean is deprecated for Series and will be removed in a future version, replace with \n",
      "\tSeries.rolling(window=12,center=False).mean()\n",
      "  \"\"\"\n",
      "C:\\Users\\sup33\\Anaconda3\\lib\\site-packages\\ipykernel_launcher.py:6: FutureWarning: pd.rolling_std is deprecated for Series and will be removed in a future version, replace with \n",
      "\tSeries.rolling(window=12,center=False).std()\n",
      "  \n"
     ]
    },
    {
     "data": {
      "image/png": "[encoded data removed]",
      "text/plain": [
       "<matplotlib.figure.Figure at 0x1b194f6f7f0>"
      ]
     },
     "metadata": {},
     "output_type": "display_data"
    },
    {
     "name": "stdout",
     "output_type": "stream",
     "text": [
      "Results of Dickey-Fuller Test:\n",
      "Test Statistic                 -1.561113\n",
      "p-value                         0.503093\n",
      "#Lags Used                      5.000000\n",
      "Number of Observations Used    50.000000\n",
      "Critical Value (1%)            -3.568486\n",
      "Critical Value (5%)            -2.921360\n",
      "Critical Value (10%)           -2.598662\n",
      "dtype: float64\n"
     ]
    }
   ],
   "source": [
    "ts_log_diff.dropna(inplace=True)\n",
    "test_stationarity(ts_log_diff)"
   ]
  },
  {
   "cell_type": "code",
   "execution_count": 27,
   "metadata": {
    "collapsed": true
   },
   "outputs": [],
   "source": [
    "from statsmodels.tsa.stattools import acf, pacf"
   ]
  },
  {
   "cell_type": "code",
   "execution_count": 28,
   "metadata": {
    "collapsed": true
   },
   "outputs": [],
   "source": [
    "lag_acf = acf(ts, nlags=20)\n",
    "lag_pacf = pacf(ts, nlags=20, method='ols')"
   ]
  },
  {
   "cell_type": "code",
   "execution_count": 29,
   "metadata": {
    "collapsed": false
   },
   "outputs": [
    {
     "data": {
      "text/plain": [
       "<matplotlib.text.Text at 0x1b1934399b0>"
      ]
     },
     "execution_count": 29,
     "metadata": {},
     "output_type": "execute_result"
    },
    {
     "data": {
      "image/png": "[encoded data removed]",
      "text/plain": [
       "<matplotlib.figure.Figure at 0x1b192ed3080>"
      ]
     },
     "metadata": {},
     "output_type": "display_data"
    }
   ],
   "source": [
    "plt.subplot(121) \n",
    "plt.plot(lag_acf)\n",
    "plt.axhline(y=0,linestyle='--',color='gray')\n",
    "plt.axhline(y=-1.96/np.sqrt(len(ts)),linestyle='--',color='gray')\n",
    "plt.axhline(y=1.96/np.sqrt(len(ts)),linestyle='--',color='gray')\n",
    "plt.title('Autocorrelation Function')"
   ]
  },
  {
   "cell_type": "code",
   "execution_count": 30,
   "metadata": {
    "collapsed": false
   },
   "outputs": [
    {
     "data": {
      "image/png": "[encoded data removed]",
      "text/plain": [
       "<matplotlib.figure.Figure at 0x1b1934927f0>"
      ]
     },
     "metadata": {},
     "output_type": "display_data"
    }
   ],
   "source": [
    "#Plot PACF:\n",
    "plt.subplot(122)\n",
    "plt.plot(lag_pacf)\n",
    "plt.axhline(y=0,linestyle='--',color='gray')\n",
    "plt.axhline(y=-1.96/np.sqrt(len(ts)),linestyle='--',color='gray')\n",
    "plt.axhline(y=1.96/np.sqrt(len(ts)),linestyle='--',color='gray')\n",
    "plt.title('Partial Autocorrelation Function')\n",
    "plt.tight_layout()"
   ]
  },
  {
   "cell_type": "code",
   "execution_count": 67,
   "metadata": {
    "collapsed": false
   },
   "outputs": [
    {
     "data": {
      "text/plain": [
       "[<matplotlib.lines.Line2D at 0x1b19503c048>]"
      ]
     },
     "execution_count": 67,
     "metadata": {},
     "output_type": "execute_result"
    },
    {
     "data": {
      "image/png": "[encoded data removed]",
      "text/plain": [
       "<matplotlib.figure.Figure at 0x1b194ffc9b0>"
      ]
     },
     "metadata": {},
     "output_type": "display_data"
    }
   ],
   "source": [
    "ts_diff = ts - ts.shift()\n",
    "plt.plot(ts_log_diff)"
   ]
  },
  {
   "cell_type": "code",
   "execution_count": 74,
   "metadata": {
    "collapsed": false
   },
   "outputs": [
    {
     "name": "stdout",
     "output_type": "stream",
     "text": [
      "[ 50.41601559  50.43478693  50.43931073  50.43079457  50.41272432\n",
      "  50.38756277  50.35739111]\n"
     ]
    },
    {
     "data": {
      "text/plain": [
       "<matplotlib.text.Text at 0x1b194f54e10>"
      ]
     },
     "execution_count": 74,
     "metadata": {},
     "output_type": "execute_result"
    },
    {
     "data": {
      "image/png": "[encoded data removed]",
      "text/plain": [
       "<matplotlib.figure.Figure at 0x1b194ffc278>"
      ]
     },
     "metadata": {},
     "output_type": "display_data"
    }
   ],
   "source": [
    "from statsmodels.tsa.arima_model import ARIMA\n",
    "model = ARIMA(ts , order=(3, 0, 0))  \n",
    "results_AR = model.fit(disp=-1)  \n",
    "print(results_AR.forecast(steps=7)[0])\n",
    "plt.plot(ts)\n",
    "plt.plot(results_AR.fittedvalues, color='red')\n",
    "plt.title('RSS: %.4f'% sum((results_AR.fittedvalues-ts)**2))"
   ]
  },
  {
   "cell_type": "code",
   "execution_count": 81,
   "metadata": {
    "collapsed": false
   },
   "outputs": [
    {
     "ename": "NameError",
     "evalue": "name 'cal_aic_metric' is not defined",
     "output_type": "error",
     "traceback": [
      "\u001b[1;31m---------------------------------------------------------------------------\u001b[0m",
      "\u001b[1;31mNameError\u001b[0m                                 Traceback (most recent call last)",
      "\u001b[1;32m<ipython-input-81-0d9977827268>\u001b[0m in \u001b[0;36m<module>\u001b[1;34m()\u001b[0m\n\u001b[0;32m     14\u001b[0m     \u001b[1;32mreturn\u001b[0m \u001b[0mresults_AR\u001b[0m\u001b[1;33m\u001b[0m\u001b[0m\n\u001b[0;32m     15\u001b[0m \u001b[1;33m\u001b[0m\u001b[0m\n\u001b[1;32m---> 16\u001b[1;33m \u001b[0mAR_Model\u001b[0m\u001b[1;33m(\u001b[0m\u001b[0mts\u001b[0m\u001b[1;33m)\u001b[0m\u001b[1;33m\u001b[0m\u001b[0m\n\u001b[0m",
      "\u001b[1;32m<ipython-input-81-0d9977827268>\u001b[0m in \u001b[0;36mAR_Model\u001b[1;34m(ts)\u001b[0m\n\u001b[0;32m      2\u001b[0m     \u001b[0mmodel\u001b[0m \u001b[1;33m=\u001b[0m \u001b[0mARIMA\u001b[0m\u001b[1;33m(\u001b[0m\u001b[0mts\u001b[0m\u001b[1;33m,\u001b[0m \u001b[0morder\u001b[0m\u001b[1;33m=\u001b[0m\u001b[1;33m(\u001b[0m\u001b[1;36m2\u001b[0m\u001b[1;33m,\u001b[0m \u001b[1;36m0\u001b[0m\u001b[1;33m,\u001b[0m \u001b[1;36m0\u001b[0m\u001b[1;33m)\u001b[0m\u001b[1;33m)\u001b[0m\u001b[1;33m\u001b[0m\u001b[0m\n\u001b[0;32m      3\u001b[0m     \u001b[0mresults_AR\u001b[0m \u001b[1;33m=\u001b[0m \u001b[0mmodel\u001b[0m\u001b[1;33m.\u001b[0m\u001b[0mfit\u001b[0m\u001b[1;33m(\u001b[0m\u001b[0mdisp\u001b[0m\u001b[1;33m=\u001b[0m\u001b[1;36m0\u001b[0m\u001b[1;33m)\u001b[0m\u001b[1;33m\u001b[0m\u001b[0m\n\u001b[1;32m----> 4\u001b[1;33m     \u001b[0mcal_aic_metric\u001b[0m\u001b[1;33m(\u001b[0m\u001b[1;34m'ARIMA(ts, order=(2, 0, 0))'\u001b[0m\u001b[1;33m,\u001b[0m\u001b[0mresults_AR\u001b[0m\u001b[1;33m)\u001b[0m\u001b[1;33m\u001b[0m\u001b[0m\n\u001b[0m\u001b[0;32m      5\u001b[0m     \u001b[0mprint\u001b[0m\u001b[1;33m(\u001b[0m\u001b[1;34m'Lag: %s'\u001b[0m \u001b[1;33m%\u001b[0m \u001b[0mresults_AR\u001b[0m\u001b[1;33m.\u001b[0m\u001b[0mk_ar\u001b[0m\u001b[1;33m)\u001b[0m\u001b[1;33m\u001b[0m\u001b[0m\n\u001b[0;32m      6\u001b[0m     \u001b[0mprint\u001b[0m\u001b[1;33m(\u001b[0m\u001b[1;34m'Coefficients: %s'\u001b[0m \u001b[1;33m%\u001b[0m \u001b[0mresults_AR\u001b[0m\u001b[1;33m.\u001b[0m\u001b[0mparams\u001b[0m\u001b[1;33m)\u001b[0m\u001b[1;33m\u001b[0m\u001b[0m\n",
      "\u001b[1;31mNameError\u001b[0m: name 'cal_aic_metric' is not defined"
     ]
    }
   ],
   "source": [
    "def AR_Model(ts):\n",
    "    model = ARIMA(ts, order=(2, 0, 0))\n",
    "    results_AR = model.fit(disp=0)\n",
    "    cal_aic_metric('ARIMA(ts, order=(2, 0, 0))',results_AR)\n",
    "    print('Lag: %s' % results_AR.k_ar)\n",
    "    print('Coefficients: %s' % results_AR.params)\n",
    "    #print(results_AR.summary())\n",
    "    predict_MA_HPI = np.exp(results_AR.predict(10, 15, dynamic=True))\n",
    "    print(predict_MA_HPI)\n",
    "    plt.plot(ts_log)\n",
    "    plt.plot(results_AR.fittedvalues, color='red')\n",
    "    #print(np.exp(results_AR.fittedvalues))\n",
    "    print(results_AR.aic)\n",
    "    return results_AR\n",
    "\n",
    "AR_Model(ts)"
   ]
  },
  {
   "cell_type": "code",
   "execution_count": 80,
   "metadata": {
    "collapsed": false
   },
   "outputs": [
    {
     "ename": "ValueError",
     "evalue": "The computed initial MA coefficients are not invertible\nYou should induce invertibility, choose a different model order, or you can\npass your own start_params.",
     "output_type": "error",
     "traceback": [
      "\u001b[1;31m---------------------------------------------------------------------------\u001b[0m",
      "\u001b[1;31mValueError\u001b[0m                                Traceback (most recent call last)",
      "\u001b[1;32m<ipython-input-80-37465880a2db>\u001b[0m in \u001b[0;36m<module>\u001b[1;34m()\u001b[0m\n\u001b[0;32m     10\u001b[0m     \u001b[1;32mreturn\u001b[0m \u001b[0mresults_MA\u001b[0m\u001b[1;33m\u001b[0m\u001b[0m\n\u001b[0;32m     11\u001b[0m \u001b[1;33m\u001b[0m\u001b[0m\n\u001b[1;32m---> 12\u001b[1;33m \u001b[0mMA_Model\u001b[0m\u001b[1;33m(\u001b[0m\u001b[0mts\u001b[0m\u001b[1;33m)\u001b[0m\u001b[1;33m\u001b[0m\u001b[0m\n\u001b[0m",
      "\u001b[1;32m<ipython-input-80-37465880a2db>\u001b[0m in \u001b[0;36mMA_Model\u001b[1;34m(ts)\u001b[0m\n\u001b[0;32m      1\u001b[0m \u001b[1;32mdef\u001b[0m \u001b[0mMA_Model\u001b[0m\u001b[1;33m(\u001b[0m\u001b[0mts\u001b[0m\u001b[1;33m)\u001b[0m\u001b[1;33m:\u001b[0m\u001b[1;33m\u001b[0m\u001b[0m\n\u001b[0;32m      2\u001b[0m     \u001b[0mmodel\u001b[0m \u001b[1;33m=\u001b[0m \u001b[0mARIMA\u001b[0m\u001b[1;33m(\u001b[0m\u001b[0mts\u001b[0m\u001b[1;33m,\u001b[0m \u001b[0morder\u001b[0m\u001b[1;33m=\u001b[0m\u001b[1;33m(\u001b[0m\u001b[1;36m0\u001b[0m\u001b[1;33m,\u001b[0m \u001b[1;36m0\u001b[0m\u001b[1;33m,\u001b[0m \u001b[1;36m7\u001b[0m\u001b[1;33m)\u001b[0m\u001b[1;33m)\u001b[0m\u001b[1;33m\u001b[0m\u001b[0m\n\u001b[1;32m----> 3\u001b[1;33m     \u001b[0mresults_MA\u001b[0m \u001b[1;33m=\u001b[0m \u001b[0mmodel\u001b[0m\u001b[1;33m.\u001b[0m\u001b[0mfit\u001b[0m\u001b[1;33m(\u001b[0m\u001b[0mdisp\u001b[0m\u001b[1;33m=\u001b[0m\u001b[1;36m0\u001b[0m\u001b[1;33m)\u001b[0m\u001b[1;33m\u001b[0m\u001b[0m\n\u001b[0m\u001b[0;32m      4\u001b[0m     \u001b[0mcal_aic_metric\u001b[0m\u001b[1;33m(\u001b[0m\u001b[1;34m'ARIMA(ts, order=(0, 0, 7))'\u001b[0m\u001b[1;33m,\u001b[0m\u001b[0mresults_MA\u001b[0m\u001b[1;33m)\u001b[0m\u001b[1;33m\u001b[0m\u001b[0m\n\u001b[0;32m      5\u001b[0m     \u001b[0mprint\u001b[0m\u001b[1;33m(\u001b[0m\u001b[1;34m'Lag: %s'\u001b[0m \u001b[1;33m%\u001b[0m \u001b[0mresults_MA\u001b[0m\u001b[1;33m.\u001b[0m\u001b[0mk_ar\u001b[0m\u001b[1;33m)\u001b[0m\u001b[1;33m\u001b[0m\u001b[0m\n",
      "\u001b[1;32mC:\\Users\\sup33\\Anaconda3\\lib\\site-packages\\statsmodels\\tsa\\arima_model.py\u001b[0m in \u001b[0;36mfit\u001b[1;34m(self, start_params, trend, method, transparams, solver, maxiter, full_output, disp, callback, start_ar_lags, **kwargs)\u001b[0m\n\u001b[0;32m    954\u001b[0m         \u001b[1;32melse\u001b[0m\u001b[1;33m:\u001b[0m  \u001b[1;31m# estimate starting parameters\u001b[0m\u001b[1;33m\u001b[0m\u001b[0m\n\u001b[0;32m    955\u001b[0m             start_params = self._fit_start_params((k_ar, k_ma, k), method,\n\u001b[1;32m--> 956\u001b[1;33m                                                   start_ar_lags)\n\u001b[0m\u001b[0;32m    957\u001b[0m \u001b[1;33m\u001b[0m\u001b[0m\n\u001b[0;32m    958\u001b[0m         \u001b[1;32mif\u001b[0m \u001b[0mtransparams\u001b[0m\u001b[1;33m:\u001b[0m  \u001b[1;31m# transform initial parameters to ensure invertibility\u001b[0m\u001b[1;33m\u001b[0m\u001b[0m\n",
      "\u001b[1;32mC:\\Users\\sup33\\Anaconda3\\lib\\site-packages\\statsmodels\\tsa\\arima_model.py\u001b[0m in \u001b[0;36m_fit_start_params\u001b[1;34m(self, order, method, start_ar_lags)\u001b[0m\n\u001b[0;32m    576\u001b[0m             \u001b[0mfunc\u001b[0m \u001b[1;33m=\u001b[0m \u001b[1;32mlambda\u001b[0m \u001b[0mparams\u001b[0m\u001b[1;33m:\u001b[0m \u001b[1;33m-\u001b[0m\u001b[0mself\u001b[0m\u001b[1;33m.\u001b[0m\u001b[0mloglike_css\u001b[0m\u001b[1;33m(\u001b[0m\u001b[0mparams\u001b[0m\u001b[1;33m)\u001b[0m\u001b[1;33m\u001b[0m\u001b[0m\n\u001b[0;32m    577\u001b[0m             \u001b[1;31m#start_params = [.1]*(k_ar+k_ma+k_exog) # different one for k?\u001b[0m\u001b[1;33m\u001b[0m\u001b[1;33m\u001b[0m\u001b[0m\n\u001b[1;32m--> 578\u001b[1;33m             \u001b[0mstart_params\u001b[0m \u001b[1;33m=\u001b[0m \u001b[0mself\u001b[0m\u001b[1;33m.\u001b[0m\u001b[0m_fit_start_params_hr\u001b[0m\u001b[1;33m(\u001b[0m\u001b[0morder\u001b[0m\u001b[1;33m,\u001b[0m \u001b[0mstart_ar_lags\u001b[0m\u001b[1;33m)\u001b[0m\u001b[1;33m\u001b[0m\u001b[0m\n\u001b[0m\u001b[0;32m    579\u001b[0m             \u001b[1;32mif\u001b[0m \u001b[0mself\u001b[0m\u001b[1;33m.\u001b[0m\u001b[0mtransparams\u001b[0m\u001b[1;33m:\u001b[0m\u001b[1;33m\u001b[0m\u001b[0m\n\u001b[0;32m    580\u001b[0m                 \u001b[0mstart_params\u001b[0m \u001b[1;33m=\u001b[0m \u001b[0mself\u001b[0m\u001b[1;33m.\u001b[0m\u001b[0m_invtransparams\u001b[0m\u001b[1;33m(\u001b[0m\u001b[0mstart_params\u001b[0m\u001b[1;33m)\u001b[0m\u001b[1;33m\u001b[0m\u001b[0m\n",
      "\u001b[1;32mC:\\Users\\sup33\\Anaconda3\\lib\\site-packages\\statsmodels\\tsa\\arima_model.py\u001b[0m in \u001b[0;36m_fit_start_params_hr\u001b[1;34m(self, order, start_ar_lags)\u001b[0m\n\u001b[0;32m    562\u001b[0m         elif q and not np.all(np.abs(np.roots(np.r_[1, start_params[k + p:]]\n\u001b[0;32m    563\u001b[0m                                               )) < 1):\n\u001b[1;32m--> 564\u001b[1;33m             raise ValueError(\"The computed initial MA coefficients are not \"\n\u001b[0m\u001b[0;32m    565\u001b[0m                              \u001b[1;34m\"invertible\\nYou should induce invertibility, \"\u001b[0m\u001b[1;33m\u001b[0m\u001b[0m\n\u001b[0;32m    566\u001b[0m                              \u001b[1;34m\"choose a different model order, or you can\\n\"\u001b[0m\u001b[1;33m\u001b[0m\u001b[0m\n",
      "\u001b[1;31mValueError\u001b[0m: The computed initial MA coefficients are not invertible\nYou should induce invertibility, choose a different model order, or you can\npass your own start_params."
     ]
    }
   ],
   "source": [
    "def MA_Model(ts):\n",
    "    model = ARIMA(ts, order=(0, 0, 7))  \n",
    "    results_MA = model.fit(disp=0)\n",
    "    cal_aic_metric('ARIMA(ts, order=(0, 0, 7))',results_MA)\n",
    "    print('Lag: %s' % results_MA.k_ar)\n",
    "    print('Coefficients: %s' % results_MA.params)\n",
    "    print(results_MA.summary())\n",
    "    plt.plot(ts)\n",
    "    plt.plot(results_MA.fittedvalues, color='red')\n",
    "    return results_MA\n",
    "\n",
    "MA_Model(ts)"
   ]
  },
  {
   "cell_type": "code",
   "execution_count": null,
   "metadata": {
    "collapsed": true
   },
   "outputs": [],
   "source": [
    "    def Combined_Model(ts):\n",
    "    model = ARIMA(ts, order=(2, 0, 4))  \n",
    "    results_ARIMA = model.fit(disp=0)\n",
    "    cal_aic_metric('ARIMA(ts, order=(2,0, 4))',results_ARIMA)\n",
    "    print('Lag: %s' % results_ARIMA.k_ar)\n",
    "    print('Coefficients: %s' % results_ARIMA.params)\n",
    "    print(results_ARIMA.summary())\n",
    "    plt.plot(ts)\n",
    "    plt.plot(results_ARIMA.fittedvalues, color='red')\n",
    "    return results_ARIMA"
   ]
  },
  {
   "cell_type": "code",
   "execution_count": 110,
   "metadata": {
    "collapsed": true
   },
   "outputs": [],
   "source": [
    "indicator_data = pd.read_csv('Indicators_Cleaned.csv',names = ['CountryName', 'CountryCode', 'IndicatorCode', 'Value', 'Value_Description','Year'])\n",
    "argentina_df_ind1 = indicator_data[(indicator_data['IndicatorCode'].isin(['AG.LND.AGRI.ZS'])) & \\\n",
    "                      (indicator_data['CountryCode'] == 'AR')]\n",
    "argentina_df_ind1.head(20)\n",
    "list(argentina_df_ind1)\n",
    "#argentina_df_ind1['Year'] = pd.to_datetime(argentina_df_ind1['Year'])\n",
    "argentina_df_ind1['Year']=[d.split('-')[0] for d in argentina_df_ind1.Year]\n",
    "#argentina_df_ind1['Year'].argentina_df_ind1.year\n",
    "#argentina_df_ind1['Year'] = argentina_df_ind1['Year'].year,"
   ]
  },
  {
   "cell_type": "code",
   "execution_count": 111,
   "metadata": {
    "collapsed": false
   },
   "outputs": [
    {
     "data": {
      "text/html": [
       "<div>\n",
       "<style>\n",
       "    .dataframe thead tr:only-child th {\n",
       "        text-align: right;\n",
       "    }\n",
       "\n",
       "    .dataframe thead th {\n",
       "        text-align: left;\n",
       "    }\n",
       "\n",
       "    .dataframe tbody tr th {\n",
       "        vertical-align: top;\n",
       "    }\n",
       "</style>\n",
       "<table border=\"1\" class=\"dataframe\">\n",
       "  <thead>\n",
       "    <tr style=\"text-align: right;\">\n",
       "      <th></th>\n",
       "      <th>CountryName</th>\n",
       "      <th>CountryCode</th>\n",
       "      <th>IndicatorCode</th>\n",
       "      <th>Value</th>\n",
       "      <th>Value_Description</th>\n",
       "      <th>Year</th>\n",
       "    </tr>\n",
       "  </thead>\n",
       "  <tbody>\n",
       "    <tr>\n",
       "      <th>1</th>\n",
       "      <td>Argentina</td>\n",
       "      <td>AR</td>\n",
       "      <td>AG.LND.AGRI.ZS</td>\n",
       "      <td>54.3357121193851</td>\n",
       "      <td>Agricultural land (% of land area)</td>\n",
       "      <td>2016</td>\n",
       "    </tr>\n",
       "    <tr>\n",
       "      <th>2</th>\n",
       "      <td>Argentina</td>\n",
       "      <td>AR</td>\n",
       "      <td>AG.LND.AGRI.ZS</td>\n",
       "      <td>54.3357121193851</td>\n",
       "      <td>Agricultural land (% of land area)</td>\n",
       "      <td>2015</td>\n",
       "    </tr>\n",
       "    <tr>\n",
       "      <th>3</th>\n",
       "      <td>Argentina</td>\n",
       "      <td>AR</td>\n",
       "      <td>AG.LND.AGRI.ZS</td>\n",
       "      <td>54.3357121193851</td>\n",
       "      <td>Agricultural land (% of land area)</td>\n",
       "      <td>2014</td>\n",
       "    </tr>\n",
       "    <tr>\n",
       "      <th>4</th>\n",
       "      <td>Argentina</td>\n",
       "      <td>AR</td>\n",
       "      <td>AG.LND.AGRI.ZS</td>\n",
       "      <td>54.5180491761946</td>\n",
       "      <td>Agricultural land (% of land area)</td>\n",
       "      <td>2013</td>\n",
       "    </tr>\n",
       "    <tr>\n",
       "      <th>5</th>\n",
       "      <td>Argentina</td>\n",
       "      <td>AR</td>\n",
       "      <td>AG.LND.AGRI.ZS</td>\n",
       "      <td>54.53814644698521</td>\n",
       "      <td>Agricultural land (% of land area)</td>\n",
       "      <td>2012</td>\n",
       "    </tr>\n",
       "    <tr>\n",
       "      <th>6</th>\n",
       "      <td>Argentina</td>\n",
       "      <td>AR</td>\n",
       "      <td>AG.LND.AGRI.ZS</td>\n",
       "      <td>54.18260745645289</td>\n",
       "      <td>Agricultural land (% of land area)</td>\n",
       "      <td>2011</td>\n",
       "    </tr>\n",
       "    <tr>\n",
       "      <th>7</th>\n",
       "      <td>Argentina</td>\n",
       "      <td>AR</td>\n",
       "      <td>AG.LND.AGRI.ZS</td>\n",
       "      <td>53.8902835176801</td>\n",
       "      <td>Agricultural land (% of land area)</td>\n",
       "      <td>2010</td>\n",
       "    </tr>\n",
       "    <tr>\n",
       "      <th>8</th>\n",
       "      <td>Argentina</td>\n",
       "      <td>AR</td>\n",
       "      <td>AG.LND.AGRI.ZS</td>\n",
       "      <td>52.54230475501429</td>\n",
       "      <td>Agricultural land (% of land area)</td>\n",
       "      <td>2009</td>\n",
       "    </tr>\n",
       "    <tr>\n",
       "      <th>9</th>\n",
       "      <td>Argentina</td>\n",
       "      <td>AR</td>\n",
       "      <td>AG.LND.AGRI.ZS</td>\n",
       "      <td>52.713679664119795</td>\n",
       "      <td>Agricultural land (% of land area)</td>\n",
       "      <td>2008</td>\n",
       "    </tr>\n",
       "    <tr>\n",
       "      <th>10</th>\n",
       "      <td>Argentina</td>\n",
       "      <td>AR</td>\n",
       "      <td>AG.LND.AGRI.ZS</td>\n",
       "      <td>52.6303673415696</td>\n",
       "      <td>Agricultural land (% of land area)</td>\n",
       "      <td>2007</td>\n",
       "    </tr>\n",
       "    <tr>\n",
       "      <th>11</th>\n",
       "      <td>Argentina</td>\n",
       "      <td>AR</td>\n",
       "      <td>AG.LND.AGRI.ZS</td>\n",
       "      <td>51.5600963207378</td>\n",
       "      <td>Agricultural land (% of land area)</td>\n",
       "      <td>2006</td>\n",
       "    </tr>\n",
       "    <tr>\n",
       "      <th>12</th>\n",
       "      <td>Argentina</td>\n",
       "      <td>AR</td>\n",
       "      <td>AG.LND.AGRI.ZS</td>\n",
       "      <td>50.351884941297705</td>\n",
       "      <td>Agricultural land (% of land area)</td>\n",
       "      <td>2005</td>\n",
       "    </tr>\n",
       "    <tr>\n",
       "      <th>13</th>\n",
       "      <td>Argentina</td>\n",
       "      <td>AR</td>\n",
       "      <td>AG.LND.AGRI.ZS</td>\n",
       "      <td>49.0903244430315</td>\n",
       "      <td>Agricultural land (% of land area)</td>\n",
       "      <td>2004</td>\n",
       "    </tr>\n",
       "    <tr>\n",
       "      <th>14</th>\n",
       "      <td>Argentina</td>\n",
       "      <td>AR</td>\n",
       "      <td>AG.LND.AGRI.ZS</td>\n",
       "      <td>47.82547530045421</td>\n",
       "      <td>Agricultural land (% of land area)</td>\n",
       "      <td>2003</td>\n",
       "    </tr>\n",
       "    <tr>\n",
       "      <th>15</th>\n",
       "      <td>Argentina</td>\n",
       "      <td>AR</td>\n",
       "      <td>AG.LND.AGRI.ZS</td>\n",
       "      <td>47.031267699301004</td>\n",
       "      <td>Agricultural land (% of land area)</td>\n",
       "      <td>2002</td>\n",
       "    </tr>\n",
       "    <tr>\n",
       "      <th>16</th>\n",
       "      <td>Argentina</td>\n",
       "      <td>AR</td>\n",
       "      <td>AG.LND.AGRI.ZS</td>\n",
       "      <td>46.9932655872605</td>\n",
       "      <td>Agricultural land (% of land area)</td>\n",
       "      <td>2001</td>\n",
       "    </tr>\n",
       "    <tr>\n",
       "      <th>17</th>\n",
       "      <td>Argentina</td>\n",
       "      <td>AR</td>\n",
       "      <td>AG.LND.AGRI.ZS</td>\n",
       "      <td>46.9581867146078</td>\n",
       "      <td>Agricultural land (% of land area)</td>\n",
       "      <td>2000</td>\n",
       "    </tr>\n",
       "    <tr>\n",
       "      <th>18</th>\n",
       "      <td>Argentina</td>\n",
       "      <td>AR</td>\n",
       "      <td>AG.LND.AGRI.ZS</td>\n",
       "      <td>46.922377032108095</td>\n",
       "      <td>Agricultural land (% of land area)</td>\n",
       "      <td>1999</td>\n",
       "    </tr>\n",
       "    <tr>\n",
       "      <th>19</th>\n",
       "      <td>Argentina</td>\n",
       "      <td>AR</td>\n",
       "      <td>AG.LND.AGRI.ZS</td>\n",
       "      <td>46.892413828383894</td>\n",
       "      <td>Agricultural land (% of land area)</td>\n",
       "      <td>1998</td>\n",
       "    </tr>\n",
       "    <tr>\n",
       "      <th>20</th>\n",
       "      <td>Argentina</td>\n",
       "      <td>AR</td>\n",
       "      <td>AG.LND.AGRI.ZS</td>\n",
       "      <td>46.857700360654704</td>\n",
       "      <td>Agricultural land (% of land area)</td>\n",
       "      <td>1997</td>\n",
       "    </tr>\n",
       "  </tbody>\n",
       "</table>\n",
       "</div>"
      ],
      "text/plain": [
       "   CountryName CountryCode   IndicatorCode               Value  \\\n",
       "1    Argentina          AR  AG.LND.AGRI.ZS    54.3357121193851   \n",
       "2    Argentina          AR  AG.LND.AGRI.ZS    54.3357121193851   \n",
       "3    Argentina          AR  AG.LND.AGRI.ZS    54.3357121193851   \n",
       "4    Argentina          AR  AG.LND.AGRI.ZS    54.5180491761946   \n",
       "5    Argentina          AR  AG.LND.AGRI.ZS   54.53814644698521   \n",
       "6    Argentina          AR  AG.LND.AGRI.ZS   54.18260745645289   \n",
       "7    Argentina          AR  AG.LND.AGRI.ZS    53.8902835176801   \n",
       "8    Argentina          AR  AG.LND.AGRI.ZS   52.54230475501429   \n",
       "9    Argentina          AR  AG.LND.AGRI.ZS  52.713679664119795   \n",
       "10   Argentina          AR  AG.LND.AGRI.ZS    52.6303673415696   \n",
       "11   Argentina          AR  AG.LND.AGRI.ZS    51.5600963207378   \n",
       "12   Argentina          AR  AG.LND.AGRI.ZS  50.351884941297705   \n",
       "13   Argentina          AR  AG.LND.AGRI.ZS    49.0903244430315   \n",
       "14   Argentina          AR  AG.LND.AGRI.ZS   47.82547530045421   \n",
       "15   Argentina          AR  AG.LND.AGRI.ZS  47.031267699301004   \n",
       "16   Argentina          AR  AG.LND.AGRI.ZS    46.9932655872605   \n",
       "17   Argentina          AR  AG.LND.AGRI.ZS    46.9581867146078   \n",
       "18   Argentina          AR  AG.LND.AGRI.ZS  46.922377032108095   \n",
       "19   Argentina          AR  AG.LND.AGRI.ZS  46.892413828383894   \n",
       "20   Argentina          AR  AG.LND.AGRI.ZS  46.857700360654704   \n",
       "\n",
       "                     Value_Description  Year  \n",
       "1   Agricultural land (% of land area)  2016  \n",
       "2   Agricultural land (% of land area)  2015  \n",
       "3   Agricultural land (% of land area)  2014  \n",
       "4   Agricultural land (% of land area)  2013  \n",
       "5   Agricultural land (% of land area)  2012  \n",
       "6   Agricultural land (% of land area)  2011  \n",
       "7   Agricultural land (% of land area)  2010  \n",
       "8   Agricultural land (% of land area)  2009  \n",
       "9   Agricultural land (% of land area)  2008  \n",
       "10  Agricultural land (% of land area)  2007  \n",
       "11  Agricultural land (% of land area)  2006  \n",
       "12  Agricultural land (% of land area)  2005  \n",
       "13  Agricultural land (% of land area)  2004  \n",
       "14  Agricultural land (% of land area)  2003  \n",
       "15  Agricultural land (% of land area)  2002  \n",
       "16  Agricultural land (% of land area)  2001  \n",
       "17  Agricultural land (% of land area)  2000  \n",
       "18  Agricultural land (% of land area)  1999  \n",
       "19  Agricultural land (% of land area)  1998  \n",
       "20  Agricultural land (% of land area)  1997  "
      ]
     },
     "execution_count": 111,
     "metadata": {},
     "output_type": "execute_result"
    }
   ],
   "source": [
    "argentina_df_ind1.head(20)"
   ]
  },
  {
   "cell_type": "code",
   "execution_count": 112,
   "metadata": {
    "collapsed": true
   },
   "outputs": [],
   "source": [
    "del argentina_df_ind1['Value_Description']\n",
    "del argentina_df_ind1['CountryCode']\n",
    "del argentina_df_ind1['CountryName']\n",
    "del argentina_df_ind1['IndicatorCode']"
   ]
  },
  {
   "cell_type": "code",
   "execution_count": 45,
   "metadata": {
    "collapsed": false
   },
   "outputs": [
    {
     "data": {
      "text/html": [
       "<div>\n",
       "<style>\n",
       "    .dataframe thead tr:only-child th {\n",
       "        text-align: right;\n",
       "    }\n",
       "\n",
       "    .dataframe thead th {\n",
       "        text-align: left;\n",
       "    }\n",
       "\n",
       "    .dataframe tbody tr th {\n",
       "        vertical-align: top;\n",
       "    }\n",
       "</style>\n",
       "<table border=\"1\" class=\"dataframe\">\n",
       "  <thead>\n",
       "    <tr style=\"text-align: right;\">\n",
       "      <th></th>\n",
       "      <th>CountryName</th>\n",
       "      <th>CountryCode</th>\n",
       "      <th>IndicatorCode</th>\n",
       "      <th>Value</th>\n",
       "      <th>Value_Description</th>\n",
       "      <th>Year</th>\n",
       "      <th>GDP</th>\n",
       "    </tr>\n",
       "  </thead>\n",
       "  <tbody>\n",
       "    <tr>\n",
       "      <th>1</th>\n",
       "      <td>Argentina</td>\n",
       "      <td>AR</td>\n",
       "      <td>AG.LND.AGRI.ZS</td>\n",
       "      <td>54.3357121193851</td>\n",
       "      <td>Agricultural land (% of land area)</td>\n",
       "      <td>2016-01-01</td>\n",
       "      <td>NaN</td>\n",
       "    </tr>\n",
       "    <tr>\n",
       "      <th>2</th>\n",
       "      <td>Argentina</td>\n",
       "      <td>AR</td>\n",
       "      <td>AG.LND.AGRI.ZS</td>\n",
       "      <td>54.3357121193851</td>\n",
       "      <td>Agricultural land (% of land area)</td>\n",
       "      <td>2015-01-01</td>\n",
       "      <td>NaN</td>\n",
       "    </tr>\n",
       "    <tr>\n",
       "      <th>3</th>\n",
       "      <td>Argentina</td>\n",
       "      <td>AR</td>\n",
       "      <td>AG.LND.AGRI.ZS</td>\n",
       "      <td>54.3357121193851</td>\n",
       "      <td>Agricultural land (% of land area)</td>\n",
       "      <td>2014-01-01</td>\n",
       "      <td>NaN</td>\n",
       "    </tr>\n",
       "    <tr>\n",
       "      <th>4</th>\n",
       "      <td>Argentina</td>\n",
       "      <td>AR</td>\n",
       "      <td>AG.LND.AGRI.ZS</td>\n",
       "      <td>54.5180491761946</td>\n",
       "      <td>Agricultural land (% of land area)</td>\n",
       "      <td>2013-01-01</td>\n",
       "      <td>NaN</td>\n",
       "    </tr>\n",
       "    <tr>\n",
       "      <th>5</th>\n",
       "      <td>Argentina</td>\n",
       "      <td>AR</td>\n",
       "      <td>AG.LND.AGRI.ZS</td>\n",
       "      <td>54.53814644698521</td>\n",
       "      <td>Agricultural land (% of land area)</td>\n",
       "      <td>2012-01-01</td>\n",
       "      <td>NaN</td>\n",
       "    </tr>\n",
       "  </tbody>\n",
       "</table>\n",
       "</div>"
      ],
      "text/plain": [
       "  CountryName CountryCode   IndicatorCode              Value  \\\n",
       "1   Argentina          AR  AG.LND.AGRI.ZS   54.3357121193851   \n",
       "2   Argentina          AR  AG.LND.AGRI.ZS   54.3357121193851   \n",
       "3   Argentina          AR  AG.LND.AGRI.ZS   54.3357121193851   \n",
       "4   Argentina          AR  AG.LND.AGRI.ZS   54.5180491761946   \n",
       "5   Argentina          AR  AG.LND.AGRI.ZS  54.53814644698521   \n",
       "\n",
       "                    Value_Description        Year  GDP  \n",
       "1  Agricultural land (% of land area)  2016-01-01  NaN  \n",
       "2  Agricultural land (% of land area)  2015-01-01  NaN  \n",
       "3  Agricultural land (% of land area)  2014-01-01  NaN  \n",
       "4  Agricultural land (% of land area)  2013-01-01  NaN  \n",
       "5  Agricultural land (% of land area)  2012-01-01  NaN  "
      ]
     },
     "execution_count": 45,
     "metadata": {},
     "output_type": "execute_result"
    }
   ],
   "source": [
    "argentina_df_ind1.head()"
   ]
  },
  {
   "cell_type": "code",
   "execution_count": 126,
   "metadata": {
    "collapsed": false
   },
   "outputs": [
    {
     "name": "stderr",
     "output_type": "stream",
     "text": [
      "C:\\Users\\sup33\\Anaconda3\\lib\\site-packages\\ipykernel_launcher.py:3: FutureWarning: reshape is deprecated and will raise in a subsequent release. Please use .values.reshape(...) instead\n",
      "  This is separate from the ipykernel package so we can avoid doing imports until\n"
     ]
    },
    {
     "data": {
      "text/plain": [
       "LinearRegression(copy_X=True, fit_intercept=True, n_jobs=1, normalize=False)"
      ]
     },
     "execution_count": 126,
     "metadata": {},
     "output_type": "execute_result"
    }
   ],
   "source": [
    "from sklearn import datasets, linear_model\n",
    "regr = linear_model.LinearRegression(fit_intercept=True)\n",
    "feature = argentina_df_ind1.Year.reshape((57,1))\n",
    "label = argentina_df_ind1.Value\n",
    "regr.fit(feature, label )"
   ]
  },
  {
   "cell_type": "code",
   "execution_count": 129,
   "metadata": {
    "collapsed": false
   },
   "outputs": [
    {
     "data": {
      "text/plain": [
       "array([ 49.66730406])"
      ]
     },
     "execution_count": 129,
     "metadata": {},
     "output_type": "execute_result"
    }
   ],
   "source": [
    "pred=regr.predict(2000)\n",
    "pred"
   ]
  },
  {
   "cell_type": "code",
   "execution_count": 128,
   "metadata": {
    "collapsed": false,
    "scrolled": true
   },
   "outputs": [
    {
     "data": {
      "image/png": "[encoded data removed]",
      "text/plain": [
       "<matplotlib.figure.Figure at 0x1b1958c8550>"
      ]
     },
     "metadata": {},
     "output_type": "display_data"
    }
   ],
   "source": [
    "plt.scatter(feature, label,  color='black')\n",
    "plt.plot(feature, pred, color='blue', linewidth=3)\n",
    "\n",
    "plt.xticks(())\n",
    "plt.yticks(())\n",
    "\n",
    "plt.show()"
   ]
  },
  {
   "cell_type": "code",
   "execution_count": 68,
   "metadata": {
    "collapsed": false
   },
   "outputs": [
    {
     "name": "stderr",
     "output_type": "stream",
     "text": [
      "C:\\Users\\sup33\\Anaconda3\\lib\\site-packages\\ipykernel_launcher.py:3: DeprecationWarning: \n",
      ".ix is deprecated. Please use\n",
      ".loc for label based indexing or\n",
      ".iloc for positional indexing\n",
      "\n",
      "See the documentation here:\n",
      "http://pandas.pydata.org/pandas-docs/stable/indexing.html#deprecate_ix\n",
      "  This is separate from the ipykernel package so we can avoid doing imports until\n"
     ]
    },
    {
     "data": {
      "text/html": [
       "<div>\n",
       "<style>\n",
       "    .dataframe thead tr:only-child th {\n",
       "        text-align: right;\n",
       "    }\n",
       "\n",
       "    .dataframe thead th {\n",
       "        text-align: left;\n",
       "    }\n",
       "\n",
       "    .dataframe tbody tr th {\n",
       "        vertical-align: top;\n",
       "    }\n",
       "</style>\n",
       "<table border=\"1\" class=\"dataframe\">\n",
       "  <thead>\n",
       "    <tr style=\"text-align: right;\">\n",
       "      <th></th>\n",
       "      <th>CountryName</th>\n",
       "      <th>CountryCode</th>\n",
       "      <th>IndicatorCode</th>\n",
       "      <th>Value</th>\n",
       "      <th>Value_Description</th>\n",
       "      <th>Year</th>\n",
       "    </tr>\n",
       "  </thead>\n",
       "  <tbody>\n",
       "    <tr>\n",
       "      <th>1</th>\n",
       "      <td>Argentina</td>\n",
       "      <td>AR</td>\n",
       "      <td>AG.LND.AGRI.ZS</td>\n",
       "      <td>54.3357121193851</td>\n",
       "      <td>Agricultural land (% of land area)</td>\n",
       "      <td>2016-01-01</td>\n",
       "    </tr>\n",
       "    <tr>\n",
       "      <th>2</th>\n",
       "      <td>Argentina</td>\n",
       "      <td>AR</td>\n",
       "      <td>AG.LND.AGRI.ZS</td>\n",
       "      <td>54.3357121193851</td>\n",
       "      <td>Agricultural land (% of land area)</td>\n",
       "      <td>2015-01-01</td>\n",
       "    </tr>\n",
       "    <tr>\n",
       "      <th>3</th>\n",
       "      <td>Argentina</td>\n",
       "      <td>AR</td>\n",
       "      <td>AG.LND.AGRI.ZS</td>\n",
       "      <td>54.3357121193851</td>\n",
       "      <td>Agricultural land (% of land area)</td>\n",
       "      <td>2014-01-01</td>\n",
       "    </tr>\n",
       "    <tr>\n",
       "      <th>4</th>\n",
       "      <td>Argentina</td>\n",
       "      <td>AR</td>\n",
       "      <td>AG.LND.AGRI.ZS</td>\n",
       "      <td>54.5180491761946</td>\n",
       "      <td>Agricultural land (% of land area)</td>\n",
       "      <td>2013-01-01</td>\n",
       "    </tr>\n",
       "    <tr>\n",
       "      <th>5</th>\n",
       "      <td>Argentina</td>\n",
       "      <td>AR</td>\n",
       "      <td>AG.LND.AGRI.ZS</td>\n",
       "      <td>54.53814644698521</td>\n",
       "      <td>Agricultural land (% of land area)</td>\n",
       "      <td>2012-01-01</td>\n",
       "    </tr>\n",
       "  </tbody>\n",
       "</table>\n",
       "</div>"
      ],
      "text/plain": [
       "  CountryName CountryCode   IndicatorCode              Value  \\\n",
       "1   Argentina          AR  AG.LND.AGRI.ZS   54.3357121193851   \n",
       "2   Argentina          AR  AG.LND.AGRI.ZS   54.3357121193851   \n",
       "3   Argentina          AR  AG.LND.AGRI.ZS   54.3357121193851   \n",
       "4   Argentina          AR  AG.LND.AGRI.ZS   54.5180491761946   \n",
       "5   Argentina          AR  AG.LND.AGRI.ZS  54.53814644698521   \n",
       "\n",
       "                    Value_Description        Year  \n",
       "1  Agricultural land (% of land area)  2016-01-01  \n",
       "2  Agricultural land (% of land area)  2015-01-01  \n",
       "3  Agricultural land (% of land area)  2014-01-01  \n",
       "4  Agricultural land (% of land area)  2013-01-01  \n",
       "5  Agricultural land (% of land area)  2012-01-01  "
      ]
     },
     "execution_count": 68,
     "metadata": {},
     "output_type": "execute_result"
    }
   ],
   "source": [
    "from sklearn.cluster import KMeans\n",
    "indicator_data = pd.read_csv('Indicators_Cleaned.csv',names = ['CountryName', 'CountryCode', 'IndicatorCode', 'Value', 'Value_Description','Year'])\n",
    "indicator_data= indicator_data.ix[1:]\n",
    "indicator_data.head()\n"
   ]
  },
  {
   "cell_type": "code",
   "execution_count": 86,
   "metadata": {
    "collapsed": false
   },
   "outputs": [
    {
     "data": {
      "text/html": [
       "<div>\n",
       "<style>\n",
       "    .dataframe thead tr:only-child th {\n",
       "        text-align: right;\n",
       "    }\n",
       "\n",
       "    .dataframe thead th {\n",
       "        text-align: left;\n",
       "    }\n",
       "\n",
       "    .dataframe tbody tr th {\n",
       "        vertical-align: top;\n",
       "    }\n",
       "</style>\n",
       "<table border=\"1\" class=\"dataframe\">\n",
       "  <thead>\n",
       "    <tr style=\"text-align: right;\">\n",
       "      <th></th>\n",
       "      <th>CountryName</th>\n",
       "      <th>CountryCode</th>\n",
       "      <th>IndicatorCode</th>\n",
       "      <th>Value</th>\n",
       "      <th>Value_Description</th>\n",
       "      <th>Year</th>\n",
       "    </tr>\n",
       "  </thead>\n",
       "  <tbody>\n",
       "    <tr>\n",
       "      <th>1</th>\n",
       "      <td>Argentina</td>\n",
       "      <td>AR</td>\n",
       "      <td>AG.LND.AGRI.ZS</td>\n",
       "      <td>54.3357121193851</td>\n",
       "      <td>Agricultural land (% of land area)</td>\n",
       "      <td>2016-01-01</td>\n",
       "    </tr>\n",
       "    <tr>\n",
       "      <th>2</th>\n",
       "      <td>Argentina</td>\n",
       "      <td>AR</td>\n",
       "      <td>AG.LND.AGRI.ZS</td>\n",
       "      <td>54.3357121193851</td>\n",
       "      <td>Agricultural land (% of land area)</td>\n",
       "      <td>2015-01-01</td>\n",
       "    </tr>\n",
       "    <tr>\n",
       "      <th>3</th>\n",
       "      <td>Argentina</td>\n",
       "      <td>AR</td>\n",
       "      <td>AG.LND.AGRI.ZS</td>\n",
       "      <td>54.3357121193851</td>\n",
       "      <td>Agricultural land (% of land area)</td>\n",
       "      <td>2014-01-01</td>\n",
       "    </tr>\n",
       "    <tr>\n",
       "      <th>4</th>\n",
       "      <td>Argentina</td>\n",
       "      <td>AR</td>\n",
       "      <td>AG.LND.AGRI.ZS</td>\n",
       "      <td>54.5180491761946</td>\n",
       "      <td>Agricultural land (% of land area)</td>\n",
       "      <td>2013-01-01</td>\n",
       "    </tr>\n",
       "    <tr>\n",
       "      <th>5</th>\n",
       "      <td>Argentina</td>\n",
       "      <td>AR</td>\n",
       "      <td>AG.LND.AGRI.ZS</td>\n",
       "      <td>54.53814644698521</td>\n",
       "      <td>Agricultural land (% of land area)</td>\n",
       "      <td>2012-01-01</td>\n",
       "    </tr>\n",
       "  </tbody>\n",
       "</table>\n",
       "</div>"
      ],
      "text/plain": [
       "  CountryName CountryCode   IndicatorCode              Value  \\\n",
       "1   Argentina          AR  AG.LND.AGRI.ZS   54.3357121193851   \n",
       "2   Argentina          AR  AG.LND.AGRI.ZS   54.3357121193851   \n",
       "3   Argentina          AR  AG.LND.AGRI.ZS   54.3357121193851   \n",
       "4   Argentina          AR  AG.LND.AGRI.ZS   54.5180491761946   \n",
       "5   Argentina          AR  AG.LND.AGRI.ZS  54.53814644698521   \n",
       "\n",
       "                    Value_Description        Year  \n",
       "1  Agricultural land (% of land area)  2016-01-01  \n",
       "2  Agricultural land (% of land area)  2015-01-01  \n",
       "3  Agricultural land (% of land area)  2014-01-01  \n",
       "4  Agricultural land (% of land area)  2013-01-01  \n",
       "5  Agricultural land (% of land area)  2012-01-01  "
      ]
     },
     "execution_count": 86,
     "metadata": {},
     "output_type": "execute_result"
    }
   ],
   "source": [
    "argentina_df_ind1 = indicator_data[(indicator_data['IndicatorCode']=='AG.LND.AGRI.ZS' )& \\\n",
    "                      (indicator_data['CountryCode'] == 'AR')]\n",
    "\n",
    "argentina_df_GDP = indicator_data[(indicator_data['IndicatorCode'].isin(['NY.GDP.MKTP.CD'])) & \\\n",
    "                      (indicator_data['CountryCode'] == 'AR')]\n",
    "argentina_df_ind1.head()"
   ]
  },
  {
   "cell_type": "code",
   "execution_count": 70,
   "metadata": {
    "collapsed": false
   },
   "outputs": [
    {
     "data": {
      "text/html": [
       "<div>\n",
       "<style>\n",
       "    .dataframe thead tr:only-child th {\n",
       "        text-align: right;\n",
       "    }\n",
       "\n",
       "    .dataframe thead th {\n",
       "        text-align: left;\n",
       "    }\n",
       "\n",
       "    .dataframe tbody tr th {\n",
       "        vertical-align: top;\n",
       "    }\n",
       "</style>\n",
       "<table border=\"1\" class=\"dataframe\">\n",
       "  <thead>\n",
       "    <tr style=\"text-align: right;\">\n",
       "      <th></th>\n",
       "      <th>CountryName</th>\n",
       "      <th>CountryCode</th>\n",
       "      <th>IndicatorCode</th>\n",
       "      <th>Value</th>\n",
       "      <th>Value_Description</th>\n",
       "      <th>Year</th>\n",
       "    </tr>\n",
       "  </thead>\n",
       "  <tbody>\n",
       "    <tr>\n",
       "      <th>229</th>\n",
       "      <td>Argentina</td>\n",
       "      <td>AR</td>\n",
       "      <td>NY.GDP.MKTP.CD</td>\n",
       "      <td>545866164478.053</td>\n",
       "      <td>GDP (current US$)</td>\n",
       "      <td>2016-01-01</td>\n",
       "    </tr>\n",
       "    <tr>\n",
       "      <th>230</th>\n",
       "      <td>Argentina</td>\n",
       "      <td>AR</td>\n",
       "      <td>NY.GDP.MKTP.CD</td>\n",
       "      <td>584711485367.2671</td>\n",
       "      <td>GDP (current US$)</td>\n",
       "      <td>2015-01-01</td>\n",
       "    </tr>\n",
       "    <tr>\n",
       "      <th>231</th>\n",
       "      <td>Argentina</td>\n",
       "      <td>AR</td>\n",
       "      <td>NY.GDP.MKTP.CD</td>\n",
       "      <td>526319673731.63794</td>\n",
       "      <td>GDP (current US$)</td>\n",
       "      <td>2014-01-01</td>\n",
       "    </tr>\n",
       "    <tr>\n",
       "      <th>232</th>\n",
       "      <td>Argentina</td>\n",
       "      <td>AR</td>\n",
       "      <td>NY.GDP.MKTP.CD</td>\n",
       "      <td>552025140252.246</td>\n",
       "      <td>GDP (current US$)</td>\n",
       "      <td>2013-01-01</td>\n",
       "    </tr>\n",
       "    <tr>\n",
       "      <th>233</th>\n",
       "      <td>Argentina</td>\n",
       "      <td>AR</td>\n",
       "      <td>NY.GDP.MKTP.CD</td>\n",
       "      <td>545982375701.128</td>\n",
       "      <td>GDP (current US$)</td>\n",
       "      <td>2012-01-01</td>\n",
       "    </tr>\n",
       "  </tbody>\n",
       "</table>\n",
       "</div>"
      ],
      "text/plain": [
       "    CountryName CountryCode   IndicatorCode               Value  \\\n",
       "229   Argentina          AR  NY.GDP.MKTP.CD    545866164478.053   \n",
       "230   Argentina          AR  NY.GDP.MKTP.CD   584711485367.2671   \n",
       "231   Argentina          AR  NY.GDP.MKTP.CD  526319673731.63794   \n",
       "232   Argentina          AR  NY.GDP.MKTP.CD    552025140252.246   \n",
       "233   Argentina          AR  NY.GDP.MKTP.CD    545982375701.128   \n",
       "\n",
       "     Value_Description        Year  \n",
       "229  GDP (current US$)  2016-01-01  \n",
       "230  GDP (current US$)  2015-01-01  \n",
       "231  GDP (current US$)  2014-01-01  \n",
       "232  GDP (current US$)  2013-01-01  \n",
       "233  GDP (current US$)  2012-01-01  "
      ]
     },
     "execution_count": 70,
     "metadata": {},
     "output_type": "execute_result"
    }
   ],
   "source": [
    "argentina_df_GDP.head()"
   ]
  },
  {
   "cell_type": "code",
   "execution_count": 71,
   "metadata": {
    "collapsed": false
   },
   "outputs": [
    {
     "data": {
      "text/html": [
       "<div>\n",
       "<style>\n",
       "    .dataframe thead tr:only-child th {\n",
       "        text-align: right;\n",
       "    }\n",
       "\n",
       "    .dataframe thead th {\n",
       "        text-align: left;\n",
       "    }\n",
       "\n",
       "    .dataframe tbody tr th {\n",
       "        vertical-align: top;\n",
       "    }\n",
       "</style>\n",
       "<table border=\"1\" class=\"dataframe\">\n",
       "  <thead>\n",
       "    <tr style=\"text-align: right;\">\n",
       "      <th></th>\n",
       "      <th>GDP</th>\n",
       "      <th>Year</th>\n",
       "    </tr>\n",
       "  </thead>\n",
       "  <tbody>\n",
       "    <tr>\n",
       "      <th>229</th>\n",
       "      <td>545866164478.053</td>\n",
       "      <td>2016-01-01</td>\n",
       "    </tr>\n",
       "    <tr>\n",
       "      <th>230</th>\n",
       "      <td>584711485367.2671</td>\n",
       "      <td>2015-01-01</td>\n",
       "    </tr>\n",
       "    <tr>\n",
       "      <th>231</th>\n",
       "      <td>526319673731.63794</td>\n",
       "      <td>2014-01-01</td>\n",
       "    </tr>\n",
       "    <tr>\n",
       "      <th>232</th>\n",
       "      <td>552025140252.246</td>\n",
       "      <td>2013-01-01</td>\n",
       "    </tr>\n",
       "    <tr>\n",
       "      <th>233</th>\n",
       "      <td>545982375701.128</td>\n",
       "      <td>2012-01-01</td>\n",
       "    </tr>\n",
       "  </tbody>\n",
       "</table>\n",
       "</div>"
      ],
      "text/plain": [
       "                    GDP        Year\n",
       "229    545866164478.053  2016-01-01\n",
       "230   584711485367.2671  2015-01-01\n",
       "231  526319673731.63794  2014-01-01\n",
       "232    552025140252.246  2013-01-01\n",
       "233    545982375701.128  2012-01-01"
      ]
     },
     "execution_count": 71,
     "metadata": {},
     "output_type": "execute_result"
    }
   ],
   "source": [
    "\n",
    "del argentina_df_GDP['CountryCode']\n",
    "del argentina_df_GDP['CountryName']\n",
    "del argentina_df_GDP['Value_Description']\n",
    "del argentina_df_GDP['IndicatorCode']\n",
    "argentina_df_GDP=argentina_df_GDP.rename(columns = {'Value':'GDP'})\n",
    "argentina_df_GDP.head()"
   ]
  },
  {
   "cell_type": "code",
   "execution_count": 72,
   "metadata": {
    "collapsed": false
   },
   "outputs": [
    {
     "data": {
      "text/html": [
       "<div>\n",
       "<style>\n",
       "    .dataframe thead tr:only-child th {\n",
       "        text-align: right;\n",
       "    }\n",
       "\n",
       "    .dataframe thead th {\n",
       "        text-align: left;\n",
       "    }\n",
       "\n",
       "    .dataframe tbody tr th {\n",
       "        vertical-align: top;\n",
       "    }\n",
       "</style>\n",
       "<table border=\"1\" class=\"dataframe\">\n",
       "  <thead>\n",
       "    <tr style=\"text-align: right;\">\n",
       "      <th></th>\n",
       "      <th>CountryName</th>\n",
       "      <th>CountryCode</th>\n",
       "      <th>IndicatorCode</th>\n",
       "      <th>Value</th>\n",
       "      <th>Value_Description</th>\n",
       "      <th>Year</th>\n",
       "      <th>GDP</th>\n",
       "    </tr>\n",
       "  </thead>\n",
       "  <tbody>\n",
       "    <tr>\n",
       "      <th>0</th>\n",
       "      <td>Argentina</td>\n",
       "      <td>AR</td>\n",
       "      <td>AG.LND.AGRI.ZS</td>\n",
       "      <td>54.3357121193851</td>\n",
       "      <td>Agricultural land (% of land area)</td>\n",
       "      <td>2016-01-01</td>\n",
       "      <td>545866164478.053</td>\n",
       "    </tr>\n",
       "    <tr>\n",
       "      <th>1</th>\n",
       "      <td>Argentina</td>\n",
       "      <td>AR</td>\n",
       "      <td>AG.LND.AGRI.ZS</td>\n",
       "      <td>54.3357121193851</td>\n",
       "      <td>Agricultural land (% of land area)</td>\n",
       "      <td>2015-01-01</td>\n",
       "      <td>584711485367.2671</td>\n",
       "    </tr>\n",
       "    <tr>\n",
       "      <th>2</th>\n",
       "      <td>Argentina</td>\n",
       "      <td>AR</td>\n",
       "      <td>AG.LND.AGRI.ZS</td>\n",
       "      <td>54.3357121193851</td>\n",
       "      <td>Agricultural land (% of land area)</td>\n",
       "      <td>2014-01-01</td>\n",
       "      <td>526319673731.63794</td>\n",
       "    </tr>\n",
       "    <tr>\n",
       "      <th>3</th>\n",
       "      <td>Argentina</td>\n",
       "      <td>AR</td>\n",
       "      <td>AG.LND.AGRI.ZS</td>\n",
       "      <td>54.5180491761946</td>\n",
       "      <td>Agricultural land (% of land area)</td>\n",
       "      <td>2013-01-01</td>\n",
       "      <td>552025140252.246</td>\n",
       "    </tr>\n",
       "    <tr>\n",
       "      <th>4</th>\n",
       "      <td>Argentina</td>\n",
       "      <td>AR</td>\n",
       "      <td>AG.LND.AGRI.ZS</td>\n",
       "      <td>54.53814644698521</td>\n",
       "      <td>Agricultural land (% of land area)</td>\n",
       "      <td>2012-01-01</td>\n",
       "      <td>545982375701.128</td>\n",
       "    </tr>\n",
       "  </tbody>\n",
       "</table>\n",
       "</div>"
      ],
      "text/plain": [
       "  CountryName CountryCode   IndicatorCode              Value  \\\n",
       "0   Argentina          AR  AG.LND.AGRI.ZS   54.3357121193851   \n",
       "1   Argentina          AR  AG.LND.AGRI.ZS   54.3357121193851   \n",
       "2   Argentina          AR  AG.LND.AGRI.ZS   54.3357121193851   \n",
       "3   Argentina          AR  AG.LND.AGRI.ZS   54.5180491761946   \n",
       "4   Argentina          AR  AG.LND.AGRI.ZS  54.53814644698521   \n",
       "\n",
       "                    Value_Description        Year                 GDP  \n",
       "0  Agricultural land (% of land area)  2016-01-01    545866164478.053  \n",
       "1  Agricultural land (% of land area)  2015-01-01   584711485367.2671  \n",
       "2  Agricultural land (% of land area)  2014-01-01  526319673731.63794  \n",
       "3  Agricultural land (% of land area)  2013-01-01    552025140252.246  \n",
       "4  Agricultural land (% of land area)  2012-01-01    545982375701.128  "
      ]
     },
     "execution_count": 72,
     "metadata": {},
     "output_type": "execute_result"
    }
   ],
   "source": [
    "argentina_df_ind1=argentina_df_ind1.merge(argentina_df_GDP,on=['Year'], how= 'inner')\n",
    "argentina_df_ind1.head()\n",
    "#argentina_df_ind1['Value'].corr[argentina_df_ind1['GDP']]"
   ]
  },
  {
   "cell_type": "code",
   "execution_count": 76,
   "metadata": {
    "collapsed": false
   },
   "outputs": [
    {
     "data": {
      "text/plain": [
       "0.73350375426735537"
      ]
     },
     "execution_count": 76,
     "metadata": {},
     "output_type": "execute_result"
    }
   ],
   "source": [
    "argentina_df_ind1[['Value','GDP']] = argentina_df_ind1[['Value','GDP']].apply(pd.to_numeric)\n",
    "argentina_df_ind1['Value'].corr(argentina_df_ind1['GDP'])"
   ]
  },
  {
   "cell_type": "code",
   "execution_count": 112,
   "metadata": {
    "collapsed": false
   },
   "outputs": [
    {
     "name": "stderr",
     "output_type": "stream",
     "text": [
      "C:\\Users\\sup33\\Anaconda3\\lib\\site-packages\\ipykernel_launcher.py:6: DeprecationWarning: \n",
      ".ix is deprecated. Please use\n",
      ".loc for label based indexing or\n",
      ".iloc for positional indexing\n",
      "\n",
      "See the documentation here:\n",
      "http://pandas.pydata.org/pandas-docs/stable/indexing.html#deprecate_ix\n",
      "  \n"
     ]
    },
    {
     "name": "stdout",
     "output_type": "stream",
     "text": [
      "['AR' 'BR' 'EC' 'IN' 'LY' 'ZA']\n",
      "AR\n",
      "BR\n",
      "EC\n",
      "IN\n",
      "LY\n",
      "ZA\n"
     ]
    }
   ],
   "source": [
    "from sklearn.cluster import KMeans\n",
    "import math\n",
    "data=[]                            \n",
    "indicator_data = pd.read_csv('Indicators_Cleaned.csv',names = ['CountryName', 'CountryCode', 'IndicatorCode', 'Value', 'Value_Description','Year'])\n",
    "indicator_data= indicator_data.ix[1:]\n",
    "# Get the codes of the all countries\n",
    "cc = indicator_data.CountryCode.unique()\n",
    "print(cc)\n",
    "for code in cc:\n",
    "    #Get all the indicators in the data\n",
    "    indicators = indicator_data.IndicatorCode.unique()\n",
    "    #For all contries and indicators, calculate the correlation of the indicators with the GDP of country\n",
    "    for ind in indicators:\n",
    "        #Filter the data of the country with given indicator \n",
    "        argentina_df_ind1 = indicator_data[(indicator_data['IndicatorCode'].isin([ind])) & \\\n",
    "                      (indicator_data['CountryCode'] == code)]\n",
    "\n",
    "        argentina_df_GDP = indicator_data[(indicator_data['IndicatorCode'].isin(['NY.GDP.MKTP.CD'])) & \\\n",
    "                      (indicator_data['CountryCode'] == code)]\n",
    "        \n",
    "        del argentina_df_GDP['CountryCode']\n",
    "        del argentina_df_GDP['CountryName']\n",
    "        del argentina_df_GDP['Value_Description']\n",
    "        del argentina_df_GDP['IndicatorCode']\n",
    "        argentina_df_GDP=argentina_df_GDP.rename(columns = {'Value':'GDP'})\n",
    "        argentina_df_ind1=argentina_df_ind1.merge(argentina_df_GDP,on=['Year'], how= 'inner')\n",
    "        argentina_df_ind1[['Value','GDP']] = argentina_df_ind1[['Value','GDP']].apply(pd.to_numeric)\n",
    "        corr=math.fabs(argentina_df_ind1['Value'].corr(argentina_df_ind1['GDP']))\n",
    "        data.append([code,ind, corr])\n",
    "df = pd.DataFrame(data, columns=['CountryName','IndicatorCode','affect'])\n",
    "           "
   ]
  },
  {
   "cell_type": "code",
   "execution_count": 114,
   "metadata": {
    "collapsed": false
   },
   "outputs": [
    {
     "data": {
      "text/html": [
       "<div>\n",
       "<style>\n",
       "    .dataframe thead tr:only-child th {\n",
       "        text-align: right;\n",
       "    }\n",
       "\n",
       "    .dataframe thead th {\n",
       "        text-align: left;\n",
       "    }\n",
       "\n",
       "    .dataframe tbody tr th {\n",
       "        vertical-align: top;\n",
       "    }\n",
       "</style>\n",
       "<table border=\"1\" class=\"dataframe\">\n",
       "  <thead>\n",
       "    <tr style=\"text-align: right;\">\n",
       "      <th></th>\n",
       "      <th>affect</th>\n",
       "      <th>CountryName_AR</th>\n",
       "      <th>CountryName_BR</th>\n",
       "      <th>CountryName_EC</th>\n",
       "      <th>CountryName_IN</th>\n",
       "      <th>CountryName_LY</th>\n",
       "      <th>CountryName_ZA</th>\n",
       "      <th>IndicatorCode_AG.LND.AGRI.ZS</th>\n",
       "      <th>IndicatorCode_FI.RES.TOTL.CD</th>\n",
       "      <th>IndicatorCode_NE.EXP.GNFS.ZS</th>\n",
       "      <th>IndicatorCode_NE.TRD.GNFS.ZS</th>\n",
       "      <th>IndicatorCode_NY.GDP.MKTP.CD</th>\n",
       "      <th>IndicatorCode_NY.GDP.MKTP.KD.ZG</th>\n",
       "      <th>IndicatorCode_SP.DYN.CBRT.IN</th>\n",
       "      <th>IndicatorCode_SP.POP.DPND</th>\n",
       "      <th>IndicatorCode_SP.POP.GROW</th>\n",
       "    </tr>\n",
       "  </thead>\n",
       "  <tbody>\n",
       "    <tr>\n",
       "      <th>0</th>\n",
       "      <td>0.733504</td>\n",
       "      <td>1</td>\n",
       "      <td>0</td>\n",
       "      <td>0</td>\n",
       "      <td>0</td>\n",
       "      <td>0</td>\n",
       "      <td>0</td>\n",
       "      <td>1</td>\n",
       "      <td>0</td>\n",
       "      <td>0</td>\n",
       "      <td>0</td>\n",
       "      <td>0</td>\n",
       "      <td>0</td>\n",
       "      <td>0</td>\n",
       "      <td>0</td>\n",
       "      <td>0</td>\n",
       "    </tr>\n",
       "    <tr>\n",
       "      <th>1</th>\n",
       "      <td>0.856211</td>\n",
       "      <td>1</td>\n",
       "      <td>0</td>\n",
       "      <td>0</td>\n",
       "      <td>0</td>\n",
       "      <td>0</td>\n",
       "      <td>0</td>\n",
       "      <td>0</td>\n",
       "      <td>0</td>\n",
       "      <td>0</td>\n",
       "      <td>0</td>\n",
       "      <td>0</td>\n",
       "      <td>0</td>\n",
       "      <td>1</td>\n",
       "      <td>0</td>\n",
       "      <td>0</td>\n",
       "    </tr>\n",
       "    <tr>\n",
       "      <th>2</th>\n",
       "      <td>0.176310</td>\n",
       "      <td>1</td>\n",
       "      <td>0</td>\n",
       "      <td>0</td>\n",
       "      <td>0</td>\n",
       "      <td>0</td>\n",
       "      <td>0</td>\n",
       "      <td>0</td>\n",
       "      <td>0</td>\n",
       "      <td>0</td>\n",
       "      <td>0</td>\n",
       "      <td>0</td>\n",
       "      <td>0</td>\n",
       "      <td>0</td>\n",
       "      <td>1</td>\n",
       "      <td>0</td>\n",
       "    </tr>\n",
       "    <tr>\n",
       "      <th>3</th>\n",
       "      <td>0.455815</td>\n",
       "      <td>1</td>\n",
       "      <td>0</td>\n",
       "      <td>0</td>\n",
       "      <td>0</td>\n",
       "      <td>0</td>\n",
       "      <td>0</td>\n",
       "      <td>0</td>\n",
       "      <td>0</td>\n",
       "      <td>1</td>\n",
       "      <td>0</td>\n",
       "      <td>0</td>\n",
       "      <td>0</td>\n",
       "      <td>0</td>\n",
       "      <td>0</td>\n",
       "      <td>0</td>\n",
       "    </tr>\n",
       "    <tr>\n",
       "      <th>4</th>\n",
       "      <td>1.000000</td>\n",
       "      <td>1</td>\n",
       "      <td>0</td>\n",
       "      <td>0</td>\n",
       "      <td>0</td>\n",
       "      <td>0</td>\n",
       "      <td>0</td>\n",
       "      <td>0</td>\n",
       "      <td>0</td>\n",
       "      <td>0</td>\n",
       "      <td>0</td>\n",
       "      <td>1</td>\n",
       "      <td>0</td>\n",
       "      <td>0</td>\n",
       "      <td>0</td>\n",
       "      <td>0</td>\n",
       "    </tr>\n",
       "  </tbody>\n",
       "</table>\n",
       "</div>"
      ],
      "text/plain": [
       "     affect  CountryName_AR  CountryName_BR  CountryName_EC  CountryName_IN  \\\n",
       "0  0.733504               1               0               0               0   \n",
       "1  0.856211               1               0               0               0   \n",
       "2  0.176310               1               0               0               0   \n",
       "3  0.455815               1               0               0               0   \n",
       "4  1.000000               1               0               0               0   \n",
       "\n",
       "   CountryName_LY  CountryName_ZA  IndicatorCode_AG.LND.AGRI.ZS  \\\n",
       "0               0               0                             1   \n",
       "1               0               0                             0   \n",
       "2               0               0                             0   \n",
       "3               0               0                             0   \n",
       "4               0               0                             0   \n",
       "\n",
       "   IndicatorCode_FI.RES.TOTL.CD  IndicatorCode_NE.EXP.GNFS.ZS  \\\n",
       "0                             0                             0   \n",
       "1                             0                             0   \n",
       "2                             0                             0   \n",
       "3                             0                             1   \n",
       "4                             0                             0   \n",
       "\n",
       "   IndicatorCode_NE.TRD.GNFS.ZS  IndicatorCode_NY.GDP.MKTP.CD  \\\n",
       "0                             0                             0   \n",
       "1                             0                             0   \n",
       "2                             0                             0   \n",
       "3                             0                             0   \n",
       "4                             0                             1   \n",
       "\n",
       "   IndicatorCode_NY.GDP.MKTP.KD.ZG  IndicatorCode_SP.DYN.CBRT.IN  \\\n",
       "0                                0                             0   \n",
       "1                                0                             1   \n",
       "2                                0                             0   \n",
       "3                                0                             0   \n",
       "4                                0                             0   \n",
       "\n",
       "   IndicatorCode_SP.POP.DPND  IndicatorCode_SP.POP.GROW  \n",
       "0                          0                          0  \n",
       "1                          0                          0  \n",
       "2                          1                          0  \n",
       "3                          0                          0  \n",
       "4                          0                          0  "
      ]
     },
     "execution_count": 114,
     "metadata": {},
     "output_type": "execute_result"
    }
   ],
   "source": [
    "df = pd.get_dummies(df,columns=['CountryName'])\n",
    "df = pd.get_dummies(df,columns=['IndicatorCode'])\n",
    "df.head()"
   ]
  },
  {
   "cell_type": "code",
   "execution_count": 115,
   "metadata": {
    "collapsed": true
   },
   "outputs": [],
   "source": [
    "from sklearn.cluster import KMeans\n",
    "#Create a clustering from the processed data\n",
    "kmeans = KMeans(n_clusters=3, random_state=0).fit(df.values)"
   ]
  },
  {
   "cell_type": "code",
   "execution_count": 116,
   "metadata": {
    "collapsed": false
   },
   "outputs": [
    {
     "data": {
      "text/plain": [
       "array([[  7.74635543e-01,   1.66666667e-01,   3.00000000e-01,\n",
       "          0.00000000e+00,   3.00000000e-01,   0.00000000e+00,\n",
       "          2.33333333e-01,   1.33333333e-01,   1.33333333e-01,\n",
       "          6.66666667e-02,   1.00000000e-01,   1.33333333e-01,\n",
       "          6.66666667e-02,   1.33333333e-01,   1.00000000e-01,\n",
       "          1.33333333e-01],\n",
       "       [  4.19936996e-01,   2.66666667e-01,   2.77555756e-17,\n",
       "          2.77555756e-17,   2.77555756e-17,   6.00000000e-01,\n",
       "          1.33333333e-01,   6.66666667e-02,   6.66666667e-02,\n",
       "          2.00000000e-01,   1.33333333e-01,   6.66666667e-02,\n",
       "          2.00000000e-01,   6.66666667e-02,   1.33333333e-01,\n",
       "          6.66666667e-02],\n",
       "       [  7.06243878e-01,   0.00000000e+00,   0.00000000e+00,\n",
       "          1.00000000e+00,   0.00000000e+00,   0.00000000e+00,\n",
       "          0.00000000e+00,   1.11111111e-01,   1.11111111e-01,\n",
       "          1.11111111e-01,   1.11111111e-01,   1.11111111e-01,\n",
       "          1.11111111e-01,   1.11111111e-01,   1.11111111e-01,\n",
       "          1.11111111e-01]])"
      ]
     },
     "execution_count": 116,
     "metadata": {},
     "output_type": "execute_result"
    }
   ],
   "source": [
    "kmeans.cluster_centers_"
   ]
  },
  {
   "cell_type": "code",
   "execution_count": 152,
   "metadata": {
    "collapsed": false
   },
   "outputs": [
    {
     "data": {
      "text/html": [
       "<div>\n",
       "<style>\n",
       "    .dataframe thead tr:only-child th {\n",
       "        text-align: right;\n",
       "    }\n",
       "\n",
       "    .dataframe thead th {\n",
       "        text-align: left;\n",
       "    }\n",
       "\n",
       "    .dataframe tbody tr th {\n",
       "        vertical-align: top;\n",
       "    }\n",
       "</style>\n",
       "<table border=\"1\" class=\"dataframe\">\n",
       "  <thead>\n",
       "    <tr style=\"text-align: right;\">\n",
       "      <th></th>\n",
       "      <th>CountryName</th>\n",
       "      <th>CountryCode</th>\n",
       "      <th>IndicatorCode</th>\n",
       "      <th>Value</th>\n",
       "      <th>Value_Description</th>\n",
       "      <th>Year</th>\n",
       "    </tr>\n",
       "  </thead>\n",
       "  <tbody>\n",
       "    <tr>\n",
       "      <th>1</th>\n",
       "      <td>Argentina</td>\n",
       "      <td>AR</td>\n",
       "      <td>AG.LND.AGRI.ZS</td>\n",
       "      <td>54.3357121193851</td>\n",
       "      <td>Agricultural land (% of land area)</td>\n",
       "      <td>2016-01-01</td>\n",
       "    </tr>\n",
       "    <tr>\n",
       "      <th>2</th>\n",
       "      <td>Argentina</td>\n",
       "      <td>AR</td>\n",
       "      <td>AG.LND.AGRI.ZS</td>\n",
       "      <td>54.3357121193851</td>\n",
       "      <td>Agricultural land (% of land area)</td>\n",
       "      <td>2015-01-01</td>\n",
       "    </tr>\n",
       "    <tr>\n",
       "      <th>3</th>\n",
       "      <td>Argentina</td>\n",
       "      <td>AR</td>\n",
       "      <td>AG.LND.AGRI.ZS</td>\n",
       "      <td>54.3357121193851</td>\n",
       "      <td>Agricultural land (% of land area)</td>\n",
       "      <td>2014-01-01</td>\n",
       "    </tr>\n",
       "    <tr>\n",
       "      <th>4</th>\n",
       "      <td>Argentina</td>\n",
       "      <td>AR</td>\n",
       "      <td>AG.LND.AGRI.ZS</td>\n",
       "      <td>54.5180491761946</td>\n",
       "      <td>Agricultural land (% of land area)</td>\n",
       "      <td>2013-01-01</td>\n",
       "    </tr>\n",
       "    <tr>\n",
       "      <th>5</th>\n",
       "      <td>Argentina</td>\n",
       "      <td>AR</td>\n",
       "      <td>AG.LND.AGRI.ZS</td>\n",
       "      <td>54.53814644698521</td>\n",
       "      <td>Agricultural land (% of land area)</td>\n",
       "      <td>2012-01-01</td>\n",
       "    </tr>\n",
       "  </tbody>\n",
       "</table>\n",
       "</div>"
      ],
      "text/plain": [
       "  CountryName CountryCode   IndicatorCode              Value  \\\n",
       "1   Argentina          AR  AG.LND.AGRI.ZS   54.3357121193851   \n",
       "2   Argentina          AR  AG.LND.AGRI.ZS   54.3357121193851   \n",
       "3   Argentina          AR  AG.LND.AGRI.ZS   54.3357121193851   \n",
       "4   Argentina          AR  AG.LND.AGRI.ZS   54.5180491761946   \n",
       "5   Argentina          AR  AG.LND.AGRI.ZS  54.53814644698521   \n",
       "\n",
       "                    Value_Description        Year  \n",
       "1  Agricultural land (% of land area)  2016-01-01  \n",
       "2  Agricultural land (% of land area)  2015-01-01  \n",
       "3  Agricultural land (% of land area)  2014-01-01  \n",
       "4  Agricultural land (% of land area)  2013-01-01  \n",
       "5  Agricultural land (% of land area)  2012-01-01  "
      ]
     },
     "execution_count": 152,
     "metadata": {},
     "output_type": "execute_result"
    }
   ],
   "source": [
    "indicator_data.head()"
   ]
  },
  {
   "cell_type": "code",
   "execution_count": 170,
   "metadata": {
    "collapsed": true
   },
   "outputs": [],
   "source": [
    "def predict(code,ind,year):\n",
    "        #filterout the country, indicator for the given year\n",
    "        argentina_df_ind1 = indicator_data[(indicator_data['IndicatorCode'].isin([ind])) & \\\n",
    "                      (indicator_data['CountryCode'] == code)]\n",
    "\n",
    "        argentina_df_GDP = indicator_data[(indicator_data['IndicatorCode'].isin(['NY.GDP.MKTP.CD'])) & \\\n",
    "                      (indicator_data['CountryCode'] == code) ]\n",
    "        del argentina_df_GDP['CountryCode']\n",
    "        del argentina_df_GDP['CountryName']\n",
    "        del argentina_df_GDP['Value_Description']\n",
    "        del argentina_df_GDP['IndicatorCode']\n",
    "        #Create another dataframe for GDP\n",
    "        argentina_df_GDP=argentina_df_GDP.rename(columns = {'Value':'GDP'})\n",
    "        argentina_df_ind1=argentina_df_ind1.merge(argentina_df_GDP,on=['Year'], how= 'inner')\n",
    "        argentina_df_ind1[['Value','GDP']] = argentina_df_ind1[['Value','GDP']].apply(pd.to_numeric)\n",
    "        corr=math.fabs(argentina_df_ind1['Value'].corr(argentina_df_ind1['GDP']))\n",
    "        data.append([code,ind, corr])\n",
    "        df = pd.DataFrame(data, columns=['CountryName','IndicatorCode','affect'])\n",
    "        df = pd.get_dummies(df,columns=['CountryName'])\n",
    "        df = pd.get_dummies(df,columns=['IndicatorCode'])\n",
    "        #Check to which cluster this data belong to\n",
    "        pred = kmeans.predict(df.values[0][:-1])\n",
    "        if pred[0] == 0:\n",
    "            return \"For \"+str(code)+\" country the indicator: \"+str(ind)+\" strongly affects GDP\"\n",
    "        else:\n",
    "            return \"For \"+str(code)+\" country the indicator: \"+str(ind)+\" does not affects GDP strongly\""
   ]
  },
  {
   "cell_type": "code",
   "execution_count": 171,
   "metadata": {
    "collapsed": false
   },
   "outputs": [
    {
     "name": "stderr",
     "output_type": "stream",
     "text": [
      "C:\\Users\\sup33\\Anaconda3\\lib\\site-packages\\sklearn\\utils\\validation.py:395: DeprecationWarning: Passing 1d arrays as data is deprecated in 0.17 and will raise ValueError in 0.19. Reshape your data either using X.reshape(-1, 1) if your data has a single feature or X.reshape(1, -1) if it contains a single sample.\n",
      "  DeprecationWarning)\n"
     ]
    },
    {
     "data": {
      "text/plain": [
       "'For AR country the indicator: AG.LND.AGRI.ZS strongly affects GDP'"
      ]
     },
     "execution_count": 171,
     "metadata": {},
     "output_type": "execute_result"
    }
   ],
   "source": [
    "predict('AR','AG.LND.AGRI.ZS',\"2000-01-01\")"
   ]
  },
  {
   "cell_type": "code",
   "execution_count": null,
   "metadata": {
    "collapsed": true
   },
   "outputs": [],
   "source": []
  }
 ],
 "metadata": {
  "kernelspec": {
   "display_name": "Python [default]",
   "language": "python",
   "name": "python3"
  },
  "language_info": {
   "codemirror_mode": {
    "name": "ipython",
    "version": 3
   },
   "file_extension": ".py",
   "mimetype": "text/x-python",
   "name": "python",
   "nbconvert_exporter": "python",
   "pygments_lexer": "ipython3",
   "version": "3.5.2"
  }
 },
 "nbformat": 4,
 "nbformat_minor": 2
}
