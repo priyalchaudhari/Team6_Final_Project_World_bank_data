{
 "cells": [
  {
   "cell_type": "code",
   "execution_count": 1,
   "metadata": {
    "collapsed": true
   },
   "outputs": [],
   "source": [
    "import json\n",
    "import requests\n",
    "import csv\n",
    "import pandas as pd\n",
    "import os\n",
    "import matplotlib.pylab as plt\n",
    "%matplotlib inline\n",
    "pd.options.mode.chained_assignment = None"
   ]
  },
  {
   "cell_type": "code",
   "execution_count": 2,
   "metadata": {
    "collapsed": false
   },
   "outputs": [
    {
     "data": {
      "text/html": [
       "<div>\n",
       "<table border=\"1\" class=\"dataframe\">\n",
       "  <thead>\n",
       "    <tr style=\"text-align: right;\">\n",
       "      <th></th>\n",
       "      <th>CountryName</th>\n",
       "      <th>CountryCode</th>\n",
       "      <th>IndicatorCode</th>\n",
       "      <th>Value</th>\n",
       "      <th>Value Description</th>\n",
       "      <th>Year</th>\n",
       "    </tr>\n",
       "  </thead>\n",
       "  <tbody>\n",
       "    <tr>\n",
       "      <th>0</th>\n",
       "      <td>Brazil</td>\n",
       "      <td>BR</td>\n",
       "      <td>AG.LND.AGRI.ZS</td>\n",
       "      <td>NaN</td>\n",
       "      <td>Agricultural land (% of land area)</td>\n",
       "      <td>2016</td>\n",
       "    </tr>\n",
       "    <tr>\n",
       "      <th>1</th>\n",
       "      <td>Brazil</td>\n",
       "      <td>BR</td>\n",
       "      <td>AG.LND.AGRI.ZS</td>\n",
       "      <td>NaN</td>\n",
       "      <td>Agricultural land (% of land area)</td>\n",
       "      <td>2015</td>\n",
       "    </tr>\n",
       "    <tr>\n",
       "      <th>2</th>\n",
       "      <td>Brazil</td>\n",
       "      <td>BR</td>\n",
       "      <td>AG.LND.AGRI.ZS</td>\n",
       "      <td>33.810034</td>\n",
       "      <td>Agricultural land (% of land area)</td>\n",
       "      <td>2014</td>\n",
       "    </tr>\n",
       "    <tr>\n",
       "      <th>3</th>\n",
       "      <td>Brazil</td>\n",
       "      <td>BR</td>\n",
       "      <td>AG.LND.AGRI.ZS</td>\n",
       "      <td>33.357673</td>\n",
       "      <td>Agricultural land (% of land area)</td>\n",
       "      <td>2013</td>\n",
       "    </tr>\n",
       "    <tr>\n",
       "      <th>4</th>\n",
       "      <td>Brazil</td>\n",
       "      <td>BR</td>\n",
       "      <td>AG.LND.AGRI.ZS</td>\n",
       "      <td>32.974681</td>\n",
       "      <td>Agricultural land (% of land area)</td>\n",
       "      <td>2012</td>\n",
       "    </tr>\n",
       "  </tbody>\n",
       "</table>\n",
       "</div>"
      ],
      "text/plain": [
       "  CountryName CountryCode   IndicatorCode      Value  \\\n",
       "0      Brazil          BR  AG.LND.AGRI.ZS        NaN   \n",
       "1      Brazil          BR  AG.LND.AGRI.ZS        NaN   \n",
       "2      Brazil          BR  AG.LND.AGRI.ZS  33.810034   \n",
       "3      Brazil          BR  AG.LND.AGRI.ZS  33.357673   \n",
       "4      Brazil          BR  AG.LND.AGRI.ZS  32.974681   \n",
       "\n",
       "                    Value Description  Year  \n",
       "0  Agricultural land (% of land area)  2016  \n",
       "1  Agricultural land (% of land area)  2015  \n",
       "2  Agricultural land (% of land area)  2014  \n",
       "3  Agricultural land (% of land area)  2013  \n",
       "4  Agricultural land (% of land area)  2012  "
      ]
     },
     "execution_count": 2,
     "metadata": {},
     "output_type": "execute_result"
    }
   ],
   "source": [
    "homepath = os.path.expanduser('~')\n",
    "indicator_data = pd.read_csv('P:\\\\ADS\\\\Final\\\\Indicators_Combined.csv', low_memory=False) \n",
    "indicator_data.head()"
   ]
  },
  {
   "cell_type": "markdown",
   "metadata": {},
   "source": [
    "# Handling Missing values for Argentina"
   ]
  },
  {
   "cell_type": "code",
   "execution_count": 3,
   "metadata": {
    "collapsed": false
   },
   "outputs": [],
   "source": [
    "argentina_df_ind1 = indicator_data[(indicator_data['IndicatorCode'].isin(['AG.LND.AGRI.ZS'])) & \\\n",
    "                      (indicator_data['CountryCode'] == 'AR')]\n",
    "argentina_df_ind2 = indicator_data[(indicator_data['IndicatorCode'].isin(['SP.DYN.CBRT.IN'])) & \\\n",
    "                      (indicator_data['CountryCode'] == 'AR')]\n",
    "argentina_df_ind3 = indicator_data[(indicator_data['IndicatorCode'].isin(['SP.POP.DPND'])) & \\\n",
    "                      (indicator_data['CountryCode'] == 'AR')]\n",
    "argentina_df_ind4 = indicator_data[(indicator_data['IndicatorCode'].isin(['NE.EXP.GNFS.ZS'])) & \\\n",
    "                      (indicator_data['CountryCode'] == 'AR')]\n",
    "argentina_df_ind5 = indicator_data[(indicator_data['IndicatorCode'].isin(['NY.GDP.MKTP.CD'])) & \\\n",
    "                      (indicator_data['CountryCode'] == 'AR')]\n",
    "argentina_df_ind6 = indicator_data[(indicator_data['IndicatorCode'].isin(['NY.GDP.MKTP.KD.ZG'])) & \\\n",
    "                      (indicator_data['CountryCode'] == 'AR')]\n",
    "argentina_df_ind7 = indicator_data[(indicator_data['IndicatorCode'].isin(['SP.POP.GROW'])) & \\\n",
    "                      (indicator_data['CountryCode'] == 'AR')]\n",
    "argentina_df_ind8 = indicator_data[(indicator_data['IndicatorCode'].isin(['FI.RES.TOTL.CD'])) & \\\n",
    "                      (indicator_data['CountryCode'] == 'AR')]\n",
    "argentina_df_ind9 = indicator_data[(indicator_data['IndicatorCode'].isin(['NE.TRD.GNFS.ZS'])) & \\\n",
    "                      (indicator_data['CountryCode'] == 'AR')]\n",
    "\n",
    "\n",
    "argentina_df_ind1['Value'] = argentina_df_ind1['Value'].interpolate()\n",
    "argentina_df_ind1['Value'] = argentina_df_ind1['Value'].fillna(method='bfill', axis = 0)\n",
    "\n",
    "argentina_df_ind2['Value'] = argentina_df_ind2['Value'].interpolate()\n",
    "\n",
    "argentina_df_ind5['Value'] = argentina_df_ind5['Value'].interpolate()\n",
    "\n",
    "argentina_df_ind6['Value'] = argentina_df_ind6['Value'].interpolate()"
   ]
  },
  {
   "cell_type": "markdown",
   "metadata": {},
   "source": [
    "# Handling Missing values for Brazil"
   ]
  },
  {
   "cell_type": "code",
   "execution_count": 4,
   "metadata": {
    "collapsed": false
   },
   "outputs": [],
   "source": [
    "brazil_df_ind1 = indicator_data[(indicator_data['IndicatorCode'].isin(['AG.LND.AGRI.ZS'])) &\\\n",
    "                                (indicator_data['CountryCode'] == 'BR')]\n",
    "brazil_df_ind2 = indicator_data[(indicator_data['IndicatorCode'].isin(['SP.DYN.CBRT.IN'])) &\\\n",
    "                                (indicator_data['CountryCode'] == 'BR')]\n",
    "brazil_df_ind3 = indicator_data[(indicator_data['IndicatorCode'].isin(['SP.POP.DPND'])) &\\\n",
    "                                (indicator_data['CountryCode'] == 'BR')]\n",
    "brazil_df_ind4 = indicator_data[(indicator_data['IndicatorCode'].isin(['NE.EXP.GNFS.ZS'])) &\\\n",
    "                                (indicator_data['CountryCode'] == 'BR')]\n",
    "brazil_df_ind5 = indicator_data[(indicator_data['IndicatorCode'].isin(['NY.GDP.MKTP.CD'])) &\\\n",
    "                                (indicator_data['CountryCode'] == 'BR')]\n",
    "brazil_df_ind6 = indicator_data[(indicator_data['IndicatorCode'].isin(['NY.GDP.MKTP.KD.ZG'])) &\\\n",
    "                                (indicator_data['CountryCode'] == 'BR')]\n",
    "brazil_df_ind7 = indicator_data[(indicator_data['IndicatorCode'].isin(['SP.POP.GROW'])) &\\\n",
    "                                (indicator_data['CountryCode'] == 'BR')]\n",
    "brazil_df_ind8 = indicator_data[(indicator_data['IndicatorCode'].isin(['FI.RES.TOTL.CD'])) &\\\n",
    "                                (indicator_data['CountryCode'] == 'BR')]\n",
    "brazil_df_ind9 = indicator_data[(indicator_data['IndicatorCode'].isin(['NE.TRD.GNFS.ZS'])) &\\\n",
    "                                (indicator_data['CountryCode'] == 'BR')]\n",
    "\n",
    "brazil_df_ind1['Value'] = brazil_df_ind1['Value'].interpolate()\n",
    "brazil_df_ind1['Value'] = brazil_df_ind1['Value'].fillna(method='bfill', axis = 0)\n",
    "\n",
    "brazil_df_ind2['Value'] = brazil_df_ind2['Value'].fillna(method='bfill', axis = 0)\n",
    "\n",
    "brazil_df_ind6['Value'] = brazil_df_ind6['Value'].interpolate()"
   ]
  },
  {
   "cell_type": "markdown",
   "metadata": {},
   "source": [
    "# Handling Missing values for Ecuador"
   ]
  },
  {
   "cell_type": "code",
   "execution_count": 5,
   "metadata": {
    "collapsed": false
   },
   "outputs": [],
   "source": [
    "Ecuador_df_ind1 = indicator_data[(indicator_data['IndicatorCode'].isin(['AG.LND.AGRI.ZS'])) & \\\n",
    "                                 (indicator_data['CountryCode'] == 'EC')]\n",
    "Ecuador_df_ind2 = indicator_data[(indicator_data['IndicatorCode'].isin(['SP.DYN.CBRT.IN'])) & \\\n",
    "                                 (indicator_data['CountryCode'] == 'EC')]\n",
    "Ecuador_df_ind3 = indicator_data[(indicator_data['IndicatorCode'].isin(['SP.POP.DPND'])) & \\\n",
    "                                 (indicator_data['CountryCode'] == 'EC')]\n",
    "Ecuador_df_ind4 = indicator_data[(indicator_data['IndicatorCode'].isin(['NE.EXP.GNFS.ZS'])) & \\\n",
    "                                 (indicator_data['CountryCode'] == 'EC')]\n",
    "Ecuador_df_ind5 = indicator_data[(indicator_data['IndicatorCode'].isin(['NY.GDP.MKTP.CD'])) & \\\n",
    "                                 (indicator_data['CountryCode'] == 'EC')]\n",
    "Ecuador_df_ind6 = indicator_data[(indicator_data['IndicatorCode'].isin(['NY.GDP.MKTP.KD.ZG'])) & \\\n",
    "                                 (indicator_data['CountryCode'] == 'EC')]\n",
    "Ecuador_df_ind7 = indicator_data[(indicator_data['IndicatorCode'].isin(['SP.POP.GROW'])) & \\\n",
    "                                 (indicator_data['CountryCode'] == 'EC')]\n",
    "Ecuador_df_ind8 = indicator_data[(indicator_data['IndicatorCode'].isin(['FI.RES.TOTL.CD'])) & \\\n",
    "                                 (indicator_data['CountryCode'] == 'EC')]\n",
    "Ecuador_df_ind9 = indicator_data[(indicator_data['IndicatorCode'].isin(['NE.TRD.GNFS.ZS'])) & \\\n",
    "                                 (indicator_data['CountryCode'] == 'EC')]\n",
    "\n",
    "Ecuador_df_ind1['Value'] = Ecuador_df_ind1['Value'].interpolate()\n",
    "Ecuador_df_ind1['Value'] = Ecuador_df_ind1['Value'].fillna(method='bfill', axis = 0)\n",
    "\n",
    "Ecuador_df_ind2['Value'] = Ecuador_df_ind2['Value'].fillna(method='bfill', axis = 0)\n",
    "\n",
    "Ecuador_df_ind6['Value'] = Ecuador_df_ind6['Value'].interpolate()"
   ]
  },
  {
   "cell_type": "markdown",
   "metadata": {},
   "source": [
    "# Handling Missing values for India"
   ]
  },
  {
   "cell_type": "code",
   "execution_count": 6,
   "metadata": {
    "collapsed": false
   },
   "outputs": [],
   "source": [
    "India_df_ind1 = indicator_data[(indicator_data['IndicatorCode'].isin(['AG.LND.AGRI.ZS'])) & \\\n",
    "                               (indicator_data['CountryCode'] == 'IN')]\n",
    "India_df_ind2 = indicator_data[(indicator_data['IndicatorCode'].isin(['SP.DYN.CBRT.IN'])) & \\\n",
    "                               (indicator_data['CountryCode'] == 'IN')]\n",
    "India_df_ind3 = indicator_data[(indicator_data['IndicatorCode'].isin(['SP.POP.DPND'])) & \\\n",
    "                               (indicator_data['CountryCode'] == 'IN')]\n",
    "India_df_ind4 = indicator_data[(indicator_data['IndicatorCode'].isin(['NE.EXP.GNFS.ZS'])) & \\\n",
    "                               (indicator_data['CountryCode'] == 'IN')]\n",
    "India_df_ind5 = indicator_data[(indicator_data['IndicatorCode'].isin(['NY.GDP.MKTP.CD'])) & \\\n",
    "                               (indicator_data['CountryCode'] == 'IN')]\n",
    "India_df_ind6 = indicator_data[(indicator_data['IndicatorCode'].isin(['NY.GDP.MKTP.KD.ZG'])) & \\\n",
    "                               (indicator_data['CountryCode'] == 'IN')]\n",
    "India_df_ind7 = indicator_data[(indicator_data['IndicatorCode'].isin(['SP.POP.GROW'])) & \\\n",
    "                               (indicator_data['CountryCode'] == 'IN')]\n",
    "India_df_ind8 = indicator_data[(indicator_data['IndicatorCode'].isin(['FI.RES.TOTL.CD'])) & \\\n",
    "                               (indicator_data['CountryCode'] == 'IN')]\n",
    "India_df_ind9 = indicator_data[(indicator_data['IndicatorCode'].isin(['NE.TRD.GNFS.ZS'])) & \\\n",
    "                               (indicator_data['CountryCode'] == 'IN')]\n",
    "\n",
    "India_df_ind1['Value'] = India_df_ind1['Value'].interpolate()\n",
    "India_df_ind1['Value'] = India_df_ind1['Value'].fillna(method='bfill', axis = 0)\n",
    "\n",
    "India_df_ind2['Value'] = India_df_ind2['Value'].fillna(method='bfill', axis = 0)\n",
    "\n",
    "India_df_ind6['Value'] = India_df_ind6['Value'].interpolate()"
   ]
  },
  {
   "cell_type": "code",
   "execution_count": 65,
   "metadata": {
    "collapsed": false
   },
   "outputs": [],
   "source": [
    "South_Africa_df_ind1 = indicator_data[(indicator_data['IndicatorCode'].isin(['AG.LND.AGRI.ZS'])) & \\\n",
    "                                      (indicator_data['CountryCode'] == 'ZA')]\n",
    "    South_Africa_df_ind2 = indicator_data[(indicator_data['IndicatorCode'].isin(['SP.DYN.CBRT.IN'])) & \\\n",
    "                                      (indicator_data['CountryCode'] == 'ZA')]\n",
    "    South_Africa_df_ind3 = indicator_data[(indicator_data['IndicatorCode'].isin(['SP.POP.DPND'])) & \\\n",
    "                                      (indicator_data['CountryCode'] == 'ZA')]\n",
    "    South_Africa_df_ind4 = indicator_data[(indicator_data['IndicatorCode'].isin(['NE.EXP.GNFS.ZS'])) & \\\n",
    "                                      (indicator_data['CountryCode'] == 'ZA')]\n",
    "    South_Africa_df_ind5 = indicator_data[(indicator_data['IndicatorCode'].isin(['NY.GDP.MKTP.CD'])) & \\\n",
    "                                      (indicator_data['CountryCode'] == 'ZA')]\n",
    "    South_Africa_df_ind6 = indicator_data[(indicator_data['IndicatorCode'].isin(['NY.GDP.MKTP.KD.ZG'])) & \\\n",
    "                                      (indicator_data['CountryCode'] == 'ZA')]\n",
    "    South_Africa_df_ind7 = indicator_data[(indicator_data['IndicatorCode'].isin(['SP.POP.GROW'])) & \\\n",
    "                                      (indicator_data['CountryCode'] == 'ZA')]\n",
    "    South_Africa_df_ind8 = indicator_data[(indicator_data['IndicatorCode'].isin(['FI.RES.TOTL.CD'])) & \\\n",
    "                                      (indicator_data['CountryCode'] == 'ZA')]\n",
    "    South_Africa_df_ind9 = indicator_data[(indicator_data['IndicatorCode'].isin(['NE.TRD.GNFS.ZS'])) & \\\n",
    "                                      (indicator_data['CountryCode'] == 'ZA')]\n",
    "\n",
    "    South_Africa_df_ind1['Value'] = South_Africa_df_ind1['Value'].interpolate()\n",
    "    South_Africa_df_ind1['Value'] = South_Africa_df_ind1['Value'].fillna(method='bfill', axis = 0)\n",
    "\n",
    "    South_Africa_df_ind2['Value'] = South_Africa_df_ind2['Value'].fillna(method='bfill', axis = 0)\n",
    "\n",
    "    South_Africa_df_ind6['Value'] = South_Africa_df_ind6['Value'].interpolate()\n",
    "\n",
    "    # Combining all the South_Africa Dataframes\n",
    "\n",
    "    South_Africa_df = pd.concat([South_Africa_df_ind1, South_Africa_df_ind2, South_Africa_df_ind3, South_Africa_df_ind4,\\\n",
    "                             South_Africa_df_ind5, South_Africa_df_ind6, South_Africa_df_ind7, South_Africa_df_ind8, \\\n",
    "                             South_Africa_df_ind9])"
   ]
  },
  {
   "cell_type": "code",
   "execution_count": 69,
   "metadata": {
    "collapsed": false
   },
   "outputs": [],
   "source": []
  },
  {
   "cell_type": "code",
   "execution_count": null,
   "metadata": {
    "collapsed": false
   },
   "outputs": [],
   "source": []
  },
  {
   "cell_type": "code",
   "execution_count": null,
   "metadata": {
    "collapsed": true
   },
   "outputs": [],
   "source": []
  },
  {
   "cell_type": "code",
   "execution_count": null,
   "metadata": {
    "collapsed": true
   },
   "outputs": [],
   "source": []
  },
  {
   "cell_type": "code",
   "execution_count": null,
   "metadata": {
    "collapsed": true
   },
   "outputs": [],
   "source": []
  },
  {
   "cell_type": "code",
   "execution_count": null,
   "metadata": {
    "collapsed": true
   },
   "outputs": [],
   "source": []
  },
  {
   "cell_type": "code",
   "execution_count": null,
   "metadata": {
    "collapsed": true
   },
   "outputs": [],
   "source": []
  },
  {
   "cell_type": "code",
   "execution_count": null,
   "metadata": {
    "collapsed": true
   },
   "outputs": [],
   "source": []
  },
  {
   "cell_type": "code",
   "execution_count": null,
   "metadata": {
    "collapsed": true
   },
   "outputs": [],
   "source": []
  }
 ],
 "metadata": {
  "anaconda-cloud": {},
  "kernelspec": {
   "display_name": "Python [default]",
   "language": "python",
   "name": "python3"
  },
  "language_info": {
   "codemirror_mode": {
    "name": "ipython",
    "version": 3
   },
   "file_extension": ".py",
   "mimetype": "text/x-python",
   "name": "python",
   "nbconvert_exporter": "python",
   "pygments_lexer": "ipython3",
   "version": "3.5.2"
  }
 },
 "nbformat": 4,
 "nbformat_minor": 2
}
